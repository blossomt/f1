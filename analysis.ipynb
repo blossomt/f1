{
 "cells": [
  {
   "cell_type": "code",
   "execution_count": 169,
   "metadata": {},
   "outputs": [],
   "source": [
    "import pandas as pd\n",
    "pd.set_option('display.max_rows', 100)\n",
    "pd.set_option('display.max_columns', None)\n",
    "pd.set_option('display.max_colwidth',None)\n",
    "import plotly_express as px"
   ]
  },
  {
   "cell_type": "code",
   "execution_count": 217,
   "metadata": {},
   "outputs": [
    {
     "data": {
      "text/html": [
       "<div>\n",
       "<style scoped>\n",
       "    .dataframe tbody tr th:only-of-type {\n",
       "        vertical-align: middle;\n",
       "    }\n",
       "\n",
       "    .dataframe tbody tr th {\n",
       "        vertical-align: top;\n",
       "    }\n",
       "\n",
       "    .dataframe thead th {\n",
       "        text-align: right;\n",
       "    }\n",
       "</style>\n",
       "<table border=\"1\" class=\"dataframe\">\n",
       "  <thead>\n",
       "    <tr style=\"text-align: right;\">\n",
       "      <th></th>\n",
       "      <th>raceId</th>\n",
       "      <th>driverId</th>\n",
       "      <th>code</th>\n",
       "      <th>forename</th>\n",
       "      <th>surname</th>\n",
       "      <th>constructorId</th>\n",
       "      <th>constructor</th>\n",
       "      <th>year</th>\n",
       "      <th>round</th>\n",
       "      <th>race</th>\n",
       "      <th>statusId</th>\n",
       "      <th>points</th>\n",
       "      <th>status</th>\n",
       "      <th>driver</th>\n",
       "    </tr>\n",
       "  </thead>\n",
       "  <tbody>\n",
       "    <tr>\n",
       "      <th>0</th>\n",
       "      <td>18</td>\n",
       "      <td>1</td>\n",
       "      <td>HAM</td>\n",
       "      <td>Lewis</td>\n",
       "      <td>Hamilton</td>\n",
       "      <td>1</td>\n",
       "      <td>McLaren</td>\n",
       "      <td>2008</td>\n",
       "      <td>1</td>\n",
       "      <td>Australian Grand Prix</td>\n",
       "      <td>1</td>\n",
       "      <td>10.0</td>\n",
       "      <td>Finished</td>\n",
       "      <td>Lewis Hamilton</td>\n",
       "    </tr>\n",
       "    <tr>\n",
       "      <th>1</th>\n",
       "      <td>19</td>\n",
       "      <td>1</td>\n",
       "      <td>HAM</td>\n",
       "      <td>Lewis</td>\n",
       "      <td>Hamilton</td>\n",
       "      <td>1</td>\n",
       "      <td>McLaren</td>\n",
       "      <td>2008</td>\n",
       "      <td>2</td>\n",
       "      <td>Malaysian Grand Prix</td>\n",
       "      <td>1</td>\n",
       "      <td>4.0</td>\n",
       "      <td>Finished</td>\n",
       "      <td>Lewis Hamilton</td>\n",
       "    </tr>\n",
       "    <tr>\n",
       "      <th>2</th>\n",
       "      <td>21</td>\n",
       "      <td>1</td>\n",
       "      <td>HAM</td>\n",
       "      <td>Lewis</td>\n",
       "      <td>Hamilton</td>\n",
       "      <td>1</td>\n",
       "      <td>McLaren</td>\n",
       "      <td>2008</td>\n",
       "      <td>4</td>\n",
       "      <td>Spanish Grand Prix</td>\n",
       "      <td>1</td>\n",
       "      <td>6.0</td>\n",
       "      <td>Finished</td>\n",
       "      <td>Lewis Hamilton</td>\n",
       "    </tr>\n",
       "    <tr>\n",
       "      <th>3</th>\n",
       "      <td>22</td>\n",
       "      <td>1</td>\n",
       "      <td>HAM</td>\n",
       "      <td>Lewis</td>\n",
       "      <td>Hamilton</td>\n",
       "      <td>1</td>\n",
       "      <td>McLaren</td>\n",
       "      <td>2008</td>\n",
       "      <td>5</td>\n",
       "      <td>Turkish Grand Prix</td>\n",
       "      <td>1</td>\n",
       "      <td>8.0</td>\n",
       "      <td>Finished</td>\n",
       "      <td>Lewis Hamilton</td>\n",
       "    </tr>\n",
       "    <tr>\n",
       "      <th>4</th>\n",
       "      <td>23</td>\n",
       "      <td>1</td>\n",
       "      <td>HAM</td>\n",
       "      <td>Lewis</td>\n",
       "      <td>Hamilton</td>\n",
       "      <td>1</td>\n",
       "      <td>McLaren</td>\n",
       "      <td>2008</td>\n",
       "      <td>6</td>\n",
       "      <td>Monaco Grand Prix</td>\n",
       "      <td>1</td>\n",
       "      <td>10.0</td>\n",
       "      <td>Finished</td>\n",
       "      <td>Lewis Hamilton</td>\n",
       "    </tr>\n",
       "    <tr>\n",
       "      <th>...</th>\n",
       "      <td>...</td>\n",
       "      <td>...</td>\n",
       "      <td>...</td>\n",
       "      <td>...</td>\n",
       "      <td>...</td>\n",
       "      <td>...</td>\n",
       "      <td>...</td>\n",
       "      <td>...</td>\n",
       "      <td>...</td>\n",
       "      <td>...</td>\n",
       "      <td>...</td>\n",
       "      <td>...</td>\n",
       "      <td>...</td>\n",
       "      <td>...</td>\n",
       "    </tr>\n",
       "    <tr>\n",
       "      <th>25655</th>\n",
       "      <td>809</td>\n",
       "      <td>654</td>\n",
       "      <td>\\N</td>\n",
       "      <td>Walt</td>\n",
       "      <td>Faulkner</td>\n",
       "      <td>113</td>\n",
       "      <td>Kurtis Kraft</td>\n",
       "      <td>1953</td>\n",
       "      <td>2</td>\n",
       "      <td>Indianapolis 500</td>\n",
       "      <td>117</td>\n",
       "      <td>0.0</td>\n",
       "      <td>+24 Laps</td>\n",
       "      <td>Walt Faulkner</td>\n",
       "    </tr>\n",
       "    <tr>\n",
       "      <th>25656</th>\n",
       "      <td>809</td>\n",
       "      <td>804</td>\n",
       "      <td>\\N</td>\n",
       "      <td>Johnny</td>\n",
       "      <td>Mantz</td>\n",
       "      <td>113</td>\n",
       "      <td>Kurtis Kraft</td>\n",
       "      <td>1953</td>\n",
       "      <td>2</td>\n",
       "      <td>Indianapolis 500</td>\n",
       "      <td>117</td>\n",
       "      <td>0.0</td>\n",
       "      <td>+24 Laps</td>\n",
       "      <td>Johnny Mantz</td>\n",
       "    </tr>\n",
       "    <tr>\n",
       "      <th>25657</th>\n",
       "      <td>736</td>\n",
       "      <td>347</td>\n",
       "      <td>\\N</td>\n",
       "      <td>Jo</td>\n",
       "      <td>Bonnier</td>\n",
       "      <td>95</td>\n",
       "      <td>Porsche</td>\n",
       "      <td>1962</td>\n",
       "      <td>8</td>\n",
       "      <td>United States Grand Prix</td>\n",
       "      <td>120</td>\n",
       "      <td>0.0</td>\n",
       "      <td>+21 Laps</td>\n",
       "      <td>Jo Bonnier</td>\n",
       "    </tr>\n",
       "    <tr>\n",
       "      <th>25658</th>\n",
       "      <td>803</td>\n",
       "      <td>547</td>\n",
       "      <td>\\N</td>\n",
       "      <td>Horace</td>\n",
       "      <td>Gould</td>\n",
       "      <td>87</td>\n",
       "      <td>Cooper</td>\n",
       "      <td>1954</td>\n",
       "      <td>5</td>\n",
       "      <td>British Grand Prix</td>\n",
       "      <td>125</td>\n",
       "      <td>0.0</td>\n",
       "      <td>+46 Laps</td>\n",
       "      <td>Horace Gould</td>\n",
       "    </tr>\n",
       "    <tr>\n",
       "      <th>25659</th>\n",
       "      <td>826</td>\n",
       "      <td>518</td>\n",
       "      <td>\\N</td>\n",
       "      <td>Duane</td>\n",
       "      <td>Carter</td>\n",
       "      <td>150</td>\n",
       "      <td>Deidt</td>\n",
       "      <td>1951</td>\n",
       "      <td>2</td>\n",
       "      <td>Indianapolis 500</td>\n",
       "      <td>127</td>\n",
       "      <td>0.0</td>\n",
       "      <td>+20 Laps</td>\n",
       "      <td>Duane Carter</td>\n",
       "    </tr>\n",
       "  </tbody>\n",
       "</table>\n",
       "<p>25660 rows × 14 columns</p>\n",
       "</div>"
      ],
      "text/plain": [
       "       raceId  driverId code forename   surname  constructorId   constructor  \\\n",
       "0          18         1  HAM    Lewis  Hamilton              1       McLaren   \n",
       "1          19         1  HAM    Lewis  Hamilton              1       McLaren   \n",
       "2          21         1  HAM    Lewis  Hamilton              1       McLaren   \n",
       "3          22         1  HAM    Lewis  Hamilton              1       McLaren   \n",
       "4          23         1  HAM    Lewis  Hamilton              1       McLaren   \n",
       "...       ...       ...  ...      ...       ...            ...           ...   \n",
       "25655     809       654   \\N     Walt  Faulkner            113  Kurtis Kraft   \n",
       "25656     809       804   \\N   Johnny     Mantz            113  Kurtis Kraft   \n",
       "25657     736       347   \\N       Jo   Bonnier             95       Porsche   \n",
       "25658     803       547   \\N   Horace     Gould             87        Cooper   \n",
       "25659     826       518   \\N    Duane    Carter            150         Deidt   \n",
       "\n",
       "       year  round                      race  statusId  points    status  \\\n",
       "0      2008      1     Australian Grand Prix         1    10.0  Finished   \n",
       "1      2008      2      Malaysian Grand Prix         1     4.0  Finished   \n",
       "2      2008      4        Spanish Grand Prix         1     6.0  Finished   \n",
       "3      2008      5        Turkish Grand Prix         1     8.0  Finished   \n",
       "4      2008      6         Monaco Grand Prix         1    10.0  Finished   \n",
       "...     ...    ...                       ...       ...     ...       ...   \n",
       "25655  1953      2          Indianapolis 500       117     0.0  +24 Laps   \n",
       "25656  1953      2          Indianapolis 500       117     0.0  +24 Laps   \n",
       "25657  1962      8  United States Grand Prix       120     0.0  +21 Laps   \n",
       "25658  1954      5        British Grand Prix       125     0.0  +46 Laps   \n",
       "25659  1951      2          Indianapolis 500       127     0.0  +20 Laps   \n",
       "\n",
       "               driver  \n",
       "0      Lewis Hamilton  \n",
       "1      Lewis Hamilton  \n",
       "2      Lewis Hamilton  \n",
       "3      Lewis Hamilton  \n",
       "4      Lewis Hamilton  \n",
       "...               ...  \n",
       "25655   Walt Faulkner  \n",
       "25656    Johnny Mantz  \n",
       "25657      Jo Bonnier  \n",
       "25658    Horace Gould  \n",
       "25659    Duane Carter  \n",
       "\n",
       "[25660 rows x 14 columns]"
      ]
     },
     "execution_count": 217,
     "metadata": {},
     "output_type": "execute_result"
    }
   ],
   "source": [
    "# instead of scraping results, use ergast\n",
    "results = pd.read_csv('./f1db_csv/results.csv')\n",
    "races = pd.read_csv('./f1db_csv/races.csv')\n",
    "status = pd.read_csv('./f1db_csv/status.csv')\n",
    "drivers = pd.read_csv('./f1db_csv/drivers.csv')\n",
    "constructors = pd.read_csv('./f1db_csv/constructors.csv')\n",
    "\n",
    "results_info = results.merge(races,on='raceId').merge(drivers,on='driverId').merge(constructors,on='constructorId')\n",
    "results_sel = results_info[['raceId','driverId','code','forename','surname','constructorId','name_y','year','round','name_x','statusId','points']]\n",
    "results_status = results_sel.merge(status,on='statusId')\n",
    "results_status.columns = ['raceId', 'driverId', 'code', 'forename', 'surname', 'constructorId', 'constructor','year', 'round', 'race', 'statusId','points', 'status']\n",
    "results_status['driver'] = results_status['forename'] + \" \" + results_status['surname']\n",
    "results_status"
   ]
  },
  {
   "cell_type": "code",
   "execution_count": 215,
   "metadata": {},
   "outputs": [],
   "source": [
    "results_status.to_csv('./data/results_status.csv',index=False)"
   ]
  },
  {
   "cell_type": "markdown",
   "metadata": {},
   "source": [
    "# analyse accident rate with weather conditions"
   ]
  },
  {
   "cell_type": "code",
   "execution_count": 163,
   "metadata": {},
   "outputs": [
    {
     "data": {
      "text/html": [
       "<div>\n",
       "<style scoped>\n",
       "    .dataframe tbody tr th:only-of-type {\n",
       "        vertical-align: middle;\n",
       "    }\n",
       "\n",
       "    .dataframe tbody tr th {\n",
       "        vertical-align: top;\n",
       "    }\n",
       "\n",
       "    .dataframe thead th {\n",
       "        text-align: right;\n",
       "    }\n",
       "</style>\n",
       "<table border=\"1\" class=\"dataframe\">\n",
       "  <thead>\n",
       "    <tr style=\"text-align: right;\">\n",
       "      <th></th>\n",
       "      <th>statusId</th>\n",
       "      <th>status</th>\n",
       "      <th>accident</th>\n",
       "    </tr>\n",
       "  </thead>\n",
       "  <tbody>\n",
       "    <tr>\n",
       "      <th>2</th>\n",
       "      <td>3</td>\n",
       "      <td>Accident</td>\n",
       "      <td>True</td>\n",
       "    </tr>\n",
       "    <tr>\n",
       "      <th>3</th>\n",
       "      <td>4</td>\n",
       "      <td>Collision</td>\n",
       "      <td>True</td>\n",
       "    </tr>\n",
       "    <tr>\n",
       "      <th>19</th>\n",
       "      <td>20</td>\n",
       "      <td>Spun off</td>\n",
       "      <td>True</td>\n",
       "    </tr>\n",
       "    <tr>\n",
       "      <th>72</th>\n",
       "      <td>73</td>\n",
       "      <td>Injured</td>\n",
       "      <td>True</td>\n",
       "    </tr>\n",
       "    <tr>\n",
       "      <th>81</th>\n",
       "      <td>82</td>\n",
       "      <td>Injury</td>\n",
       "      <td>True</td>\n",
       "    </tr>\n",
       "    <tr>\n",
       "      <th>88</th>\n",
       "      <td>89</td>\n",
       "      <td>Safety concerns</td>\n",
       "      <td>True</td>\n",
       "    </tr>\n",
       "    <tr>\n",
       "      <th>99</th>\n",
       "      <td>100</td>\n",
       "      <td>Driver unwell</td>\n",
       "      <td>True</td>\n",
       "    </tr>\n",
       "    <tr>\n",
       "      <th>103</th>\n",
       "      <td>104</td>\n",
       "      <td>Fatal accident</td>\n",
       "      <td>True</td>\n",
       "    </tr>\n",
       "    <tr>\n",
       "      <th>106</th>\n",
       "      <td>107</td>\n",
       "      <td>Eye injury</td>\n",
       "      <td>True</td>\n",
       "    </tr>\n",
       "    <tr>\n",
       "      <th>127</th>\n",
       "      <td>130</td>\n",
       "      <td>Collision damage</td>\n",
       "      <td>True</td>\n",
       "    </tr>\n",
       "  </tbody>\n",
       "</table>\n",
       "</div>"
      ],
      "text/plain": [
       "     statusId            status  accident\n",
       "2           3          Accident      True\n",
       "3           4         Collision      True\n",
       "19         20          Spun off      True\n",
       "72         73           Injured      True\n",
       "81         82            Injury      True\n",
       "88         89   Safety concerns      True\n",
       "99        100     Driver unwell      True\n",
       "103       104    Fatal accident      True\n",
       "106       107        Eye injury      True\n",
       "127       130  Collision damage      True"
      ]
     },
     "execution_count": 163,
     "metadata": {},
     "output_type": "execute_result"
    }
   ],
   "source": [
    "# accident status codes\n",
    "acc_statusid = [3,4,20,130]\n",
    "# acc_statusid = [3,4,20,73,82,89,100,104,107,130] # mainly accident, collision, spun off, collision damage\n",
    "# acc_statusid = [73,82,89,100,104,107] # injured, injury, safety concerns, driver unwell, fatal accident, eye injury have few results.\n",
    "status[status['statusId'].isin(acc_statusid)]"
   ]
  },
  {
   "cell_type": "code",
   "execution_count": 128,
   "metadata": {},
   "outputs": [
    {
     "data": {
      "text/html": [
       "<div>\n",
       "<style scoped>\n",
       "    .dataframe tbody tr th:only-of-type {\n",
       "        vertical-align: middle;\n",
       "    }\n",
       "\n",
       "    .dataframe tbody tr th {\n",
       "        vertical-align: top;\n",
       "    }\n",
       "\n",
       "    .dataframe thead th {\n",
       "        text-align: right;\n",
       "    }\n",
       "</style>\n",
       "<table border=\"1\" class=\"dataframe\">\n",
       "  <thead>\n",
       "    <tr style=\"text-align: right;\">\n",
       "      <th></th>\n",
       "      <th>raceId</th>\n",
       "      <th>driverId</th>\n",
       "      <th>forename</th>\n",
       "      <th>surname</th>\n",
       "      <th>constructorId</th>\n",
       "      <th>constructor</th>\n",
       "      <th>year</th>\n",
       "      <th>round</th>\n",
       "      <th>race</th>\n",
       "      <th>statusId</th>\n",
       "      <th>status</th>\n",
       "      <th>driver</th>\n",
       "      <th>accident</th>\n",
       "    </tr>\n",
       "  </thead>\n",
       "  <tbody>\n",
       "    <tr>\n",
       "      <th>0</th>\n",
       "      <td>18</td>\n",
       "      <td>1</td>\n",
       "      <td>Lewis</td>\n",
       "      <td>Hamilton</td>\n",
       "      <td>1</td>\n",
       "      <td>McLaren</td>\n",
       "      <td>2008</td>\n",
       "      <td>1</td>\n",
       "      <td>Australian Grand Prix</td>\n",
       "      <td>1</td>\n",
       "      <td>Finished</td>\n",
       "      <td>Lewis Hamilton</td>\n",
       "      <td>False</td>\n",
       "    </tr>\n",
       "    <tr>\n",
       "      <th>1</th>\n",
       "      <td>19</td>\n",
       "      <td>1</td>\n",
       "      <td>Lewis</td>\n",
       "      <td>Hamilton</td>\n",
       "      <td>1</td>\n",
       "      <td>McLaren</td>\n",
       "      <td>2008</td>\n",
       "      <td>2</td>\n",
       "      <td>Malaysian Grand Prix</td>\n",
       "      <td>1</td>\n",
       "      <td>Finished</td>\n",
       "      <td>Lewis Hamilton</td>\n",
       "      <td>False</td>\n",
       "    </tr>\n",
       "    <tr>\n",
       "      <th>2</th>\n",
       "      <td>21</td>\n",
       "      <td>1</td>\n",
       "      <td>Lewis</td>\n",
       "      <td>Hamilton</td>\n",
       "      <td>1</td>\n",
       "      <td>McLaren</td>\n",
       "      <td>2008</td>\n",
       "      <td>4</td>\n",
       "      <td>Spanish Grand Prix</td>\n",
       "      <td>1</td>\n",
       "      <td>Finished</td>\n",
       "      <td>Lewis Hamilton</td>\n",
       "      <td>False</td>\n",
       "    </tr>\n",
       "    <tr>\n",
       "      <th>3</th>\n",
       "      <td>22</td>\n",
       "      <td>1</td>\n",
       "      <td>Lewis</td>\n",
       "      <td>Hamilton</td>\n",
       "      <td>1</td>\n",
       "      <td>McLaren</td>\n",
       "      <td>2008</td>\n",
       "      <td>5</td>\n",
       "      <td>Turkish Grand Prix</td>\n",
       "      <td>1</td>\n",
       "      <td>Finished</td>\n",
       "      <td>Lewis Hamilton</td>\n",
       "      <td>False</td>\n",
       "    </tr>\n",
       "    <tr>\n",
       "      <th>4</th>\n",
       "      <td>23</td>\n",
       "      <td>1</td>\n",
       "      <td>Lewis</td>\n",
       "      <td>Hamilton</td>\n",
       "      <td>1</td>\n",
       "      <td>McLaren</td>\n",
       "      <td>2008</td>\n",
       "      <td>6</td>\n",
       "      <td>Monaco Grand Prix</td>\n",
       "      <td>1</td>\n",
       "      <td>Finished</td>\n",
       "      <td>Lewis Hamilton</td>\n",
       "      <td>False</td>\n",
       "    </tr>\n",
       "  </tbody>\n",
       "</table>\n",
       "</div>"
      ],
      "text/plain": [
       "   raceId  driverId forename   surname  constructorId constructor  year  \\\n",
       "0      18         1    Lewis  Hamilton              1     McLaren  2008   \n",
       "1      19         1    Lewis  Hamilton              1     McLaren  2008   \n",
       "2      21         1    Lewis  Hamilton              1     McLaren  2008   \n",
       "3      22         1    Lewis  Hamilton              1     McLaren  2008   \n",
       "4      23         1    Lewis  Hamilton              1     McLaren  2008   \n",
       "\n",
       "   round                   race  statusId    status          driver  accident  \n",
       "0      1  Australian Grand Prix         1  Finished  Lewis Hamilton     False  \n",
       "1      2   Malaysian Grand Prix         1  Finished  Lewis Hamilton     False  \n",
       "2      4     Spanish Grand Prix         1  Finished  Lewis Hamilton     False  \n",
       "3      5     Turkish Grand Prix         1  Finished  Lewis Hamilton     False  \n",
       "4      6      Monaco Grand Prix         1  Finished  Lewis Hamilton     False  "
      ]
     },
     "execution_count": 128,
     "metadata": {},
     "output_type": "execute_result"
    }
   ],
   "source": [
    "results_status['accident'] = results_status['statusId'].isin(acc_statusid)\n",
    "results_status.head()"
   ]
  },
  {
   "cell_type": "code",
   "execution_count": 150,
   "metadata": {},
   "outputs": [
    {
     "data": {
      "text/html": [
       "<div>\n",
       "<style scoped>\n",
       "    .dataframe tbody tr th:only-of-type {\n",
       "        vertical-align: middle;\n",
       "    }\n",
       "\n",
       "    .dataframe tbody tr th {\n",
       "        vertical-align: top;\n",
       "    }\n",
       "\n",
       "    .dataframe thead th {\n",
       "        text-align: right;\n",
       "    }\n",
       "</style>\n",
       "<table border=\"1\" class=\"dataframe\">\n",
       "  <thead>\n",
       "    <tr style=\"text-align: right;\">\n",
       "      <th></th>\n",
       "      <th>raceId</th>\n",
       "      <th>driverId</th>\n",
       "      <th>forename</th>\n",
       "      <th>surname</th>\n",
       "      <th>constructorId</th>\n",
       "      <th>constructor</th>\n",
       "      <th>year</th>\n",
       "      <th>round</th>\n",
       "      <th>race</th>\n",
       "      <th>statusId</th>\n",
       "      <th>status</th>\n",
       "      <th>driver</th>\n",
       "      <th>accident</th>\n",
       "      <th>AirTemp</th>\n",
       "      <th>Humidity</th>\n",
       "      <th>Pressure</th>\n",
       "      <th>Rainfall</th>\n",
       "      <th>TrackTemp</th>\n",
       "      <th>WindSpeed</th>\n",
       "    </tr>\n",
       "  </thead>\n",
       "  <tbody>\n",
       "    <tr>\n",
       "      <th>0</th>\n",
       "      <td>989</td>\n",
       "      <td>4</td>\n",
       "      <td>Fernando</td>\n",
       "      <td>Alonso</td>\n",
       "      <td>1</td>\n",
       "      <td>McLaren</td>\n",
       "      <td>2018</td>\n",
       "      <td>1</td>\n",
       "      <td>Australian Grand Prix</td>\n",
       "      <td>1</td>\n",
       "      <td>Finished</td>\n",
       "      <td>Fernando Alonso</td>\n",
       "      <td>False</td>\n",
       "      <td>24.077477</td>\n",
       "      <td>30.915315</td>\n",
       "      <td>997.003604</td>\n",
       "      <td>True</td>\n",
       "      <td>36.324324</td>\n",
       "      <td>3.691892</td>\n",
       "    </tr>\n",
       "    <tr>\n",
       "      <th>1</th>\n",
       "      <td>989</td>\n",
       "      <td>838</td>\n",
       "      <td>Stoffel</td>\n",
       "      <td>Vandoorne</td>\n",
       "      <td>1</td>\n",
       "      <td>McLaren</td>\n",
       "      <td>2018</td>\n",
       "      <td>1</td>\n",
       "      <td>Australian Grand Prix</td>\n",
       "      <td>1</td>\n",
       "      <td>Finished</td>\n",
       "      <td>Stoffel Vandoorne</td>\n",
       "      <td>False</td>\n",
       "      <td>24.077477</td>\n",
       "      <td>30.915315</td>\n",
       "      <td>997.003604</td>\n",
       "      <td>True</td>\n",
       "      <td>36.324324</td>\n",
       "      <td>3.691892</td>\n",
       "    </tr>\n",
       "    <tr>\n",
       "      <th>2</th>\n",
       "      <td>989</td>\n",
       "      <td>1</td>\n",
       "      <td>Lewis</td>\n",
       "      <td>Hamilton</td>\n",
       "      <td>131</td>\n",
       "      <td>Mercedes</td>\n",
       "      <td>2018</td>\n",
       "      <td>1</td>\n",
       "      <td>Australian Grand Prix</td>\n",
       "      <td>1</td>\n",
       "      <td>Finished</td>\n",
       "      <td>Lewis Hamilton</td>\n",
       "      <td>False</td>\n",
       "      <td>24.077477</td>\n",
       "      <td>30.915315</td>\n",
       "      <td>997.003604</td>\n",
       "      <td>True</td>\n",
       "      <td>36.324324</td>\n",
       "      <td>3.691892</td>\n",
       "    </tr>\n",
       "    <tr>\n",
       "      <th>3</th>\n",
       "      <td>989</td>\n",
       "      <td>822</td>\n",
       "      <td>Valtteri</td>\n",
       "      <td>Bottas</td>\n",
       "      <td>131</td>\n",
       "      <td>Mercedes</td>\n",
       "      <td>2018</td>\n",
       "      <td>1</td>\n",
       "      <td>Australian Grand Prix</td>\n",
       "      <td>1</td>\n",
       "      <td>Finished</td>\n",
       "      <td>Valtteri Bottas</td>\n",
       "      <td>False</td>\n",
       "      <td>24.077477</td>\n",
       "      <td>30.915315</td>\n",
       "      <td>997.003604</td>\n",
       "      <td>True</td>\n",
       "      <td>36.324324</td>\n",
       "      <td>3.691892</td>\n",
       "    </tr>\n",
       "    <tr>\n",
       "      <th>4</th>\n",
       "      <td>989</td>\n",
       "      <td>840</td>\n",
       "      <td>Lance</td>\n",
       "      <td>Stroll</td>\n",
       "      <td>3</td>\n",
       "      <td>Williams</td>\n",
       "      <td>2018</td>\n",
       "      <td>1</td>\n",
       "      <td>Australian Grand Prix</td>\n",
       "      <td>1</td>\n",
       "      <td>Finished</td>\n",
       "      <td>Lance Stroll</td>\n",
       "      <td>False</td>\n",
       "      <td>24.077477</td>\n",
       "      <td>30.915315</td>\n",
       "      <td>997.003604</td>\n",
       "      <td>True</td>\n",
       "      <td>36.324324</td>\n",
       "      <td>3.691892</td>\n",
       "    </tr>\n",
       "  </tbody>\n",
       "</table>\n",
       "</div>"
      ],
      "text/plain": [
       "   raceId  driverId  forename    surname  constructorId constructor  year  \\\n",
       "0     989         4  Fernando     Alonso              1     McLaren  2018   \n",
       "1     989       838   Stoffel  Vandoorne              1     McLaren  2018   \n",
       "2     989         1     Lewis   Hamilton            131    Mercedes  2018   \n",
       "3     989       822  Valtteri     Bottas            131    Mercedes  2018   \n",
       "4     989       840     Lance     Stroll              3    Williams  2018   \n",
       "\n",
       "   round                   race  statusId    status             driver  \\\n",
       "0      1  Australian Grand Prix         1  Finished    Fernando Alonso   \n",
       "1      1  Australian Grand Prix         1  Finished  Stoffel Vandoorne   \n",
       "2      1  Australian Grand Prix         1  Finished     Lewis Hamilton   \n",
       "3      1  Australian Grand Prix         1  Finished    Valtteri Bottas   \n",
       "4      1  Australian Grand Prix         1  Finished       Lance Stroll   \n",
       "\n",
       "   accident    AirTemp   Humidity    Pressure  Rainfall  TrackTemp  WindSpeed  \n",
       "0     False  24.077477  30.915315  997.003604      True  36.324324   3.691892  \n",
       "1     False  24.077477  30.915315  997.003604      True  36.324324   3.691892  \n",
       "2     False  24.077477  30.915315  997.003604      True  36.324324   3.691892  \n",
       "3     False  24.077477  30.915315  997.003604      True  36.324324   3.691892  \n",
       "4     False  24.077477  30.915315  997.003604      True  36.324324   3.691892  "
      ]
     },
     "execution_count": 150,
     "metadata": {},
     "output_type": "execute_result"
    }
   ],
   "source": [
    "# individual race and weather\n",
    "accidents_weather_indiv = results_status.merge(weather,on=['year','round'])\n",
    "accidents_weather_indiv.head()"
   ]
  },
  {
   "cell_type": "code",
   "execution_count": 129,
   "metadata": {},
   "outputs": [
    {
     "data": {
      "text/html": [
       "<div>\n",
       "<style scoped>\n",
       "    .dataframe tbody tr th:only-of-type {\n",
       "        vertical-align: middle;\n",
       "    }\n",
       "\n",
       "    .dataframe tbody tr th {\n",
       "        vertical-align: top;\n",
       "    }\n",
       "\n",
       "    .dataframe thead th {\n",
       "        text-align: right;\n",
       "    }\n",
       "</style>\n",
       "<table border=\"1\" class=\"dataframe\">\n",
       "  <thead>\n",
       "    <tr style=\"text-align: right;\">\n",
       "      <th></th>\n",
       "      <th>raceId</th>\n",
       "      <th>race</th>\n",
       "      <th>year</th>\n",
       "      <th>round</th>\n",
       "      <th>accident</th>\n",
       "    </tr>\n",
       "  </thead>\n",
       "  <tbody>\n",
       "    <tr>\n",
       "      <th>17</th>\n",
       "      <td>18</td>\n",
       "      <td>Australian Grand Prix</td>\n",
       "      <td>2008</td>\n",
       "      <td>1</td>\n",
       "      <td>8</td>\n",
       "    </tr>\n",
       "    <tr>\n",
       "      <th>61</th>\n",
       "      <td>62</td>\n",
       "      <td>United States Grand Prix</td>\n",
       "      <td>2006</td>\n",
       "      <td>10</td>\n",
       "      <td>10</td>\n",
       "    </tr>\n",
       "    <tr>\n",
       "      <th>109</th>\n",
       "      <td>110</td>\n",
       "      <td>Brazilian Grand Prix</td>\n",
       "      <td>2003</td>\n",
       "      <td>3</td>\n",
       "      <td>8</td>\n",
       "    </tr>\n",
       "    <tr>\n",
       "      <th>123</th>\n",
       "      <td>124</td>\n",
       "      <td>Australian Grand Prix</td>\n",
       "      <td>2002</td>\n",
       "      <td>1</td>\n",
       "      <td>9</td>\n",
       "    </tr>\n",
       "    <tr>\n",
       "      <th>170</th>\n",
       "      <td>171</td>\n",
       "      <td>Italian Grand Prix</td>\n",
       "      <td>2000</td>\n",
       "      <td>14</td>\n",
       "      <td>9</td>\n",
       "    </tr>\n",
       "    <tr>\n",
       "      <th>198</th>\n",
       "      <td>199</td>\n",
       "      <td>British Grand Prix</td>\n",
       "      <td>1998</td>\n",
       "      <td>9</td>\n",
       "      <td>10</td>\n",
       "    </tr>\n",
       "    <tr>\n",
       "      <th>202</th>\n",
       "      <td>203</td>\n",
       "      <td>Belgian Grand Prix</td>\n",
       "      <td>1998</td>\n",
       "      <td>13</td>\n",
       "      <td>12</td>\n",
       "    </tr>\n",
       "    <tr>\n",
       "      <th>210</th>\n",
       "      <td>211</td>\n",
       "      <td>Monaco Grand Prix</td>\n",
       "      <td>1997</td>\n",
       "      <td>5</td>\n",
       "      <td>12</td>\n",
       "    </tr>\n",
       "    <tr>\n",
       "      <th>228</th>\n",
       "      <td>229</td>\n",
       "      <td>Monaco Grand Prix</td>\n",
       "      <td>1996</td>\n",
       "      <td>6</td>\n",
       "      <td>13</td>\n",
       "    </tr>\n",
       "    <tr>\n",
       "      <th>229</th>\n",
       "      <td>230</td>\n",
       "      <td>Spanish Grand Prix</td>\n",
       "      <td>1996</td>\n",
       "      <td>7</td>\n",
       "      <td>10</td>\n",
       "    </tr>\n",
       "    <tr>\n",
       "      <th>240</th>\n",
       "      <td>241</td>\n",
       "      <td>Argentine Grand Prix</td>\n",
       "      <td>1995</td>\n",
       "      <td>2</td>\n",
       "      <td>9</td>\n",
       "    </tr>\n",
       "    <tr>\n",
       "      <th>250</th>\n",
       "      <td>251</td>\n",
       "      <td>Italian Grand Prix</td>\n",
       "      <td>1995</td>\n",
       "      <td>12</td>\n",
       "      <td>8</td>\n",
       "    </tr>\n",
       "    <tr>\n",
       "      <th>254</th>\n",
       "      <td>255</td>\n",
       "      <td>Japanese Grand Prix</td>\n",
       "      <td>1995</td>\n",
       "      <td>16</td>\n",
       "      <td>8</td>\n",
       "    </tr>\n",
       "    <tr>\n",
       "      <th>256</th>\n",
       "      <td>257</td>\n",
       "      <td>Brazilian Grand Prix</td>\n",
       "      <td>1994</td>\n",
       "      <td>1</td>\n",
       "      <td>9</td>\n",
       "    </tr>\n",
       "    <tr>\n",
       "      <th>258</th>\n",
       "      <td>259</td>\n",
       "      <td>San Marino Grand Prix</td>\n",
       "      <td>1994</td>\n",
       "      <td>3</td>\n",
       "      <td>8</td>\n",
       "    </tr>\n",
       "    <tr>\n",
       "      <th>264</th>\n",
       "      <td>265</td>\n",
       "      <td>German Grand Prix</td>\n",
       "      <td>1994</td>\n",
       "      <td>9</td>\n",
       "      <td>10</td>\n",
       "    </tr>\n",
       "    <tr>\n",
       "      <th>270</th>\n",
       "      <td>271</td>\n",
       "      <td>Japanese Grand Prix</td>\n",
       "      <td>1994</td>\n",
       "      <td>15</td>\n",
       "      <td>9</td>\n",
       "    </tr>\n",
       "    <tr>\n",
       "      <th>272</th>\n",
       "      <td>273</td>\n",
       "      <td>South African Grand Prix</td>\n",
       "      <td>1993</td>\n",
       "      <td>1</td>\n",
       "      <td>11</td>\n",
       "    </tr>\n",
       "    <tr>\n",
       "      <th>273</th>\n",
       "      <td>274</td>\n",
       "      <td>Brazilian Grand Prix</td>\n",
       "      <td>1993</td>\n",
       "      <td>2</td>\n",
       "      <td>8</td>\n",
       "    </tr>\n",
       "    <tr>\n",
       "      <th>284</th>\n",
       "      <td>285</td>\n",
       "      <td>Italian Grand Prix</td>\n",
       "      <td>1993</td>\n",
       "      <td>13</td>\n",
       "      <td>9</td>\n",
       "    </tr>\n",
       "    <tr>\n",
       "      <th>285</th>\n",
       "      <td>286</td>\n",
       "      <td>Portuguese Grand Prix</td>\n",
       "      <td>1993</td>\n",
       "      <td>14</td>\n",
       "      <td>8</td>\n",
       "    </tr>\n",
       "    <tr>\n",
       "      <th>291</th>\n",
       "      <td>292</td>\n",
       "      <td>Spanish Grand Prix</td>\n",
       "      <td>1992</td>\n",
       "      <td>4</td>\n",
       "      <td>12</td>\n",
       "    </tr>\n",
       "    <tr>\n",
       "      <th>295</th>\n",
       "      <td>296</td>\n",
       "      <td>French Grand Prix</td>\n",
       "      <td>1992</td>\n",
       "      <td>8</td>\n",
       "      <td>8</td>\n",
       "    </tr>\n",
       "    <tr>\n",
       "      <th>298</th>\n",
       "      <td>299</td>\n",
       "      <td>Hungarian Grand Prix</td>\n",
       "      <td>1992</td>\n",
       "      <td>11</td>\n",
       "      <td>11</td>\n",
       "    </tr>\n",
       "    <tr>\n",
       "      <th>360</th>\n",
       "      <td>361</td>\n",
       "      <td>Canadian Grand Prix</td>\n",
       "      <td>1989</td>\n",
       "      <td>6</td>\n",
       "      <td>8</td>\n",
       "    </tr>\n",
       "    <tr>\n",
       "      <th>370</th>\n",
       "      <td>371</td>\n",
       "      <td>Australian Grand Prix</td>\n",
       "      <td>1989</td>\n",
       "      <td>16</td>\n",
       "      <td>13</td>\n",
       "    </tr>\n",
       "    <tr>\n",
       "      <th>443</th>\n",
       "      <td>444</td>\n",
       "      <td>Dallas Grand Prix</td>\n",
       "      <td>1984</td>\n",
       "      <td>9</td>\n",
       "      <td>13</td>\n",
       "    </tr>\n",
       "    <tr>\n",
       "      <th>454</th>\n",
       "      <td>455</td>\n",
       "      <td>San Marino Grand Prix</td>\n",
       "      <td>1983</td>\n",
       "      <td>4</td>\n",
       "      <td>9</td>\n",
       "    </tr>\n",
       "    <tr>\n",
       "      <th>468</th>\n",
       "      <td>469</td>\n",
       "      <td>United States Grand Prix West</td>\n",
       "      <td>1982</td>\n",
       "      <td>3</td>\n",
       "      <td>13</td>\n",
       "    </tr>\n",
       "    <tr>\n",
       "      <th>472</th>\n",
       "      <td>473</td>\n",
       "      <td>Detroit Grand Prix</td>\n",
       "      <td>1982</td>\n",
       "      <td>7</td>\n",
       "      <td>9</td>\n",
       "    </tr>\n",
       "    <tr>\n",
       "      <th>482</th>\n",
       "      <td>483</td>\n",
       "      <td>United States Grand Prix West</td>\n",
       "      <td>1981</td>\n",
       "      <td>1</td>\n",
       "      <td>9</td>\n",
       "    </tr>\n",
       "    <tr>\n",
       "      <th>495</th>\n",
       "      <td>496</td>\n",
       "      <td>Canadian Grand Prix</td>\n",
       "      <td>1981</td>\n",
       "      <td>14</td>\n",
       "      <td>10</td>\n",
       "    </tr>\n",
       "    <tr>\n",
       "      <th>525</th>\n",
       "      <td>526</td>\n",
       "      <td>United States Grand Prix</td>\n",
       "      <td>1979</td>\n",
       "      <td>15</td>\n",
       "      <td>9</td>\n",
       "    </tr>\n",
       "    <tr>\n",
       "      <th>531</th>\n",
       "      <td>532</td>\n",
       "      <td>Belgian Grand Prix</td>\n",
       "      <td>1978</td>\n",
       "      <td>6</td>\n",
       "      <td>8</td>\n",
       "    </tr>\n",
       "    <tr>\n",
       "      <th>537</th>\n",
       "      <td>538</td>\n",
       "      <td>Austrian Grand Prix</td>\n",
       "      <td>1978</td>\n",
       "      <td>12</td>\n",
       "      <td>12</td>\n",
       "    </tr>\n",
       "    <tr>\n",
       "      <th>543</th>\n",
       "      <td>544</td>\n",
       "      <td>Brazilian Grand Prix</td>\n",
       "      <td>1977</td>\n",
       "      <td>2</td>\n",
       "      <td>8</td>\n",
       "    </tr>\n",
       "    <tr>\n",
       "      <th>578</th>\n",
       "      <td>579</td>\n",
       "      <td>Spanish Grand Prix</td>\n",
       "      <td>1975</td>\n",
       "      <td>4</td>\n",
       "      <td>8</td>\n",
       "    </tr>\n",
       "    <tr>\n",
       "      <th>584</th>\n",
       "      <td>585</td>\n",
       "      <td>British Grand Prix</td>\n",
       "      <td>1975</td>\n",
       "      <td>10</td>\n",
       "      <td>16</td>\n",
       "    </tr>\n",
       "    <tr>\n",
       "      <th>594</th>\n",
       "      <td>595</td>\n",
       "      <td>Monaco Grand Prix</td>\n",
       "      <td>1974</td>\n",
       "      <td>6</td>\n",
       "      <td>11</td>\n",
       "    </tr>\n",
       "    <tr>\n",
       "      <th>608</th>\n",
       "      <td>609</td>\n",
       "      <td>Belgian Grand Prix</td>\n",
       "      <td>1973</td>\n",
       "      <td>5</td>\n",
       "      <td>8</td>\n",
       "    </tr>\n",
       "    <tr>\n",
       "      <th>612</th>\n",
       "      <td>613</td>\n",
       "      <td>British Grand Prix</td>\n",
       "      <td>1973</td>\n",
       "      <td>9</td>\n",
       "      <td>10</td>\n",
       "    </tr>\n",
       "    <tr>\n",
       "      <th>756</th>\n",
       "      <td>757</td>\n",
       "      <td>Indianapolis 500</td>\n",
       "      <td>1959</td>\n",
       "      <td>2</td>\n",
       "      <td>8</td>\n",
       "    </tr>\n",
       "    <tr>\n",
       "      <th>767</th>\n",
       "      <td>768</td>\n",
       "      <td>Indianapolis 500</td>\n",
       "      <td>1958</td>\n",
       "      <td>4</td>\n",
       "      <td>11</td>\n",
       "    </tr>\n",
       "    <tr>\n",
       "      <th>799</th>\n",
       "      <td>800</td>\n",
       "      <td>Indianapolis 500</td>\n",
       "      <td>1954</td>\n",
       "      <td>2</td>\n",
       "      <td>8</td>\n",
       "    </tr>\n",
       "    <tr>\n",
       "      <th>808</th>\n",
       "      <td>809</td>\n",
       "      <td>Indianapolis 500</td>\n",
       "      <td>1953</td>\n",
       "      <td>2</td>\n",
       "      <td>8</td>\n",
       "    </tr>\n",
       "    <tr>\n",
       "      <th>833</th>\n",
       "      <td>834</td>\n",
       "      <td>Monaco Grand Prix</td>\n",
       "      <td>1950</td>\n",
       "      <td>2</td>\n",
       "      <td>11</td>\n",
       "    </tr>\n",
       "  </tbody>\n",
       "</table>\n",
       "</div>"
      ],
      "text/plain": [
       "     raceId                           race  year  round  accident\n",
       "17       18          Australian Grand Prix  2008      1         8\n",
       "61       62       United States Grand Prix  2006     10        10\n",
       "109     110           Brazilian Grand Prix  2003      3         8\n",
       "123     124          Australian Grand Prix  2002      1         9\n",
       "170     171             Italian Grand Prix  2000     14         9\n",
       "198     199             British Grand Prix  1998      9        10\n",
       "202     203             Belgian Grand Prix  1998     13        12\n",
       "210     211              Monaco Grand Prix  1997      5        12\n",
       "228     229              Monaco Grand Prix  1996      6        13\n",
       "229     230             Spanish Grand Prix  1996      7        10\n",
       "240     241           Argentine Grand Prix  1995      2         9\n",
       "250     251             Italian Grand Prix  1995     12         8\n",
       "254     255            Japanese Grand Prix  1995     16         8\n",
       "256     257           Brazilian Grand Prix  1994      1         9\n",
       "258     259          San Marino Grand Prix  1994      3         8\n",
       "264     265              German Grand Prix  1994      9        10\n",
       "270     271            Japanese Grand Prix  1994     15         9\n",
       "272     273       South African Grand Prix  1993      1        11\n",
       "273     274           Brazilian Grand Prix  1993      2         8\n",
       "284     285             Italian Grand Prix  1993     13         9\n",
       "285     286          Portuguese Grand Prix  1993     14         8\n",
       "291     292             Spanish Grand Prix  1992      4        12\n",
       "295     296              French Grand Prix  1992      8         8\n",
       "298     299           Hungarian Grand Prix  1992     11        11\n",
       "360     361            Canadian Grand Prix  1989      6         8\n",
       "370     371          Australian Grand Prix  1989     16        13\n",
       "443     444              Dallas Grand Prix  1984      9        13\n",
       "454     455          San Marino Grand Prix  1983      4         9\n",
       "468     469  United States Grand Prix West  1982      3        13\n",
       "472     473             Detroit Grand Prix  1982      7         9\n",
       "482     483  United States Grand Prix West  1981      1         9\n",
       "495     496            Canadian Grand Prix  1981     14        10\n",
       "525     526       United States Grand Prix  1979     15         9\n",
       "531     532             Belgian Grand Prix  1978      6         8\n",
       "537     538            Austrian Grand Prix  1978     12        12\n",
       "543     544           Brazilian Grand Prix  1977      2         8\n",
       "578     579             Spanish Grand Prix  1975      4         8\n",
       "584     585             British Grand Prix  1975     10        16\n",
       "594     595              Monaco Grand Prix  1974      6        11\n",
       "608     609             Belgian Grand Prix  1973      5         8\n",
       "612     613             British Grand Prix  1973      9        10\n",
       "756     757               Indianapolis 500  1959      2         8\n",
       "767     768               Indianapolis 500  1958      4        11\n",
       "799     800               Indianapolis 500  1954      2         8\n",
       "808     809               Indianapolis 500  1953      2         8\n",
       "833     834              Monaco Grand Prix  1950      2        11"
      ]
     },
     "execution_count": 129,
     "metadata": {},
     "output_type": "execute_result"
    }
   ],
   "source": [
    "acc_count = results_status.groupby(['raceId','race','year','round']).agg({'accident':'sum'}).reset_index()\n",
    "acc_count[acc_count['accident']>7]"
   ]
  },
  {
   "cell_type": "code",
   "execution_count": 92,
   "metadata": {},
   "outputs": [],
   "source": [
    "acc_count.to_csv(\"./data/accidents.csv\",index=False)"
   ]
  },
  {
   "cell_type": "code",
   "execution_count": 131,
   "metadata": {},
   "outputs": [
    {
     "data": {
      "text/html": [
       "<div>\n",
       "<style scoped>\n",
       "    .dataframe tbody tr th:only-of-type {\n",
       "        vertical-align: middle;\n",
       "    }\n",
       "\n",
       "    .dataframe tbody tr th {\n",
       "        vertical-align: top;\n",
       "    }\n",
       "\n",
       "    .dataframe thead th {\n",
       "        text-align: right;\n",
       "    }\n",
       "</style>\n",
       "<table border=\"1\" class=\"dataframe\">\n",
       "  <thead>\n",
       "    <tr style=\"text-align: right;\">\n",
       "      <th></th>\n",
       "      <th>raceId</th>\n",
       "      <th>race</th>\n",
       "      <th>year</th>\n",
       "      <th>round</th>\n",
       "      <th>accident</th>\n",
       "      <th>AirTemp</th>\n",
       "      <th>Humidity</th>\n",
       "      <th>Pressure</th>\n",
       "      <th>Rainfall</th>\n",
       "      <th>TrackTemp</th>\n",
       "      <th>WindSpeed</th>\n",
       "    </tr>\n",
       "  </thead>\n",
       "  <tbody>\n",
       "    <tr>\n",
       "      <th>0</th>\n",
       "      <td>989</td>\n",
       "      <td>Australian Grand Prix</td>\n",
       "      <td>2018</td>\n",
       "      <td>1</td>\n",
       "      <td>0</td>\n",
       "      <td>24.077477</td>\n",
       "      <td>30.915315</td>\n",
       "      <td>997.003604</td>\n",
       "      <td>True</td>\n",
       "      <td>36.324324</td>\n",
       "      <td>3.691892</td>\n",
       "    </tr>\n",
       "    <tr>\n",
       "      <th>1</th>\n",
       "      <td>990</td>\n",
       "      <td>Bahrain Grand Prix</td>\n",
       "      <td>2018</td>\n",
       "      <td>2</td>\n",
       "      <td>0</td>\n",
       "      <td>27.982524</td>\n",
       "      <td>47.363107</td>\n",
       "      <td>1009.494175</td>\n",
       "      <td>False</td>\n",
       "      <td>32.198058</td>\n",
       "      <td>0.958252</td>\n",
       "    </tr>\n",
       "    <tr>\n",
       "      <th>2</th>\n",
       "      <td>991</td>\n",
       "      <td>Chinese Grand Prix</td>\n",
       "      <td>2018</td>\n",
       "      <td>3</td>\n",
       "      <td>1</td>\n",
       "      <td>19.446429</td>\n",
       "      <td>24.089286</td>\n",
       "      <td>1018.131250</td>\n",
       "      <td>True</td>\n",
       "      <td>37.019643</td>\n",
       "      <td>1.837500</td>\n",
       "    </tr>\n",
       "    <tr>\n",
       "      <th>3</th>\n",
       "      <td>992</td>\n",
       "      <td>Azerbaijan Grand Prix</td>\n",
       "      <td>2018</td>\n",
       "      <td>4</td>\n",
       "      <td>6</td>\n",
       "      <td>16.661404</td>\n",
       "      <td>45.651754</td>\n",
       "      <td>1021.913158</td>\n",
       "      <td>False</td>\n",
       "      <td>25.251754</td>\n",
       "      <td>2.222807</td>\n",
       "    </tr>\n",
       "    <tr>\n",
       "      <th>4</th>\n",
       "      <td>993</td>\n",
       "      <td>Spanish Grand Prix</td>\n",
       "      <td>2018</td>\n",
       "      <td>5</td>\n",
       "      <td>3</td>\n",
       "      <td>16.050476</td>\n",
       "      <td>52.286667</td>\n",
       "      <td>1001.541905</td>\n",
       "      <td>True</td>\n",
       "      <td>32.339048</td>\n",
       "      <td>1.952381</td>\n",
       "    </tr>\n",
       "  </tbody>\n",
       "</table>\n",
       "</div>"
      ],
      "text/plain": [
       "   raceId                   race  year  round  accident    AirTemp   Humidity  \\\n",
       "0     989  Australian Grand Prix  2018      1         0  24.077477  30.915315   \n",
       "1     990     Bahrain Grand Prix  2018      2         0  27.982524  47.363107   \n",
       "2     991     Chinese Grand Prix  2018      3         1  19.446429  24.089286   \n",
       "3     992  Azerbaijan Grand Prix  2018      4         6  16.661404  45.651754   \n",
       "4     993     Spanish Grand Prix  2018      5         3  16.050476  52.286667   \n",
       "\n",
       "      Pressure  Rainfall  TrackTemp  WindSpeed  \n",
       "0   997.003604      True  36.324324   3.691892  \n",
       "1  1009.494175     False  32.198058   0.958252  \n",
       "2  1018.131250      True  37.019643   1.837500  \n",
       "3  1021.913158     False  25.251754   2.222807  \n",
       "4  1001.541905      True  32.339048   1.952381  "
      ]
     },
     "execution_count": 131,
     "metadata": {},
     "output_type": "execute_result"
    }
   ],
   "source": [
    "# combine accidents and weather\n",
    "weather = pd.read_csv('./data/weather.csv')\n",
    "accidents_weather = acc_count.merge(weather,on=['year','round'])\n",
    "\n",
    "accidents_weather.head()"
   ]
  },
  {
   "cell_type": "code",
   "execution_count": 97,
   "metadata": {},
   "outputs": [],
   "source": [
    "accidents_weather.to_csv('./data/accidents_weather.csv',index=False)"
   ]
  },
  {
   "cell_type": "code",
   "execution_count": 132,
   "metadata": {},
   "outputs": [
    {
     "data": {
      "text/html": [
       "<div>\n",
       "<style scoped>\n",
       "    .dataframe tbody tr th:only-of-type {\n",
       "        vertical-align: middle;\n",
       "    }\n",
       "\n",
       "    .dataframe tbody tr th {\n",
       "        vertical-align: top;\n",
       "    }\n",
       "\n",
       "    .dataframe thead th {\n",
       "        text-align: right;\n",
       "    }\n",
       "</style>\n",
       "<table border=\"1\" class=\"dataframe\">\n",
       "  <thead>\n",
       "    <tr style=\"text-align: right;\">\n",
       "      <th></th>\n",
       "      <th>raceId</th>\n",
       "      <th>race</th>\n",
       "      <th>year</th>\n",
       "      <th>round</th>\n",
       "      <th>accident</th>\n",
       "      <th>AirTemp</th>\n",
       "      <th>Humidity</th>\n",
       "      <th>Pressure</th>\n",
       "      <th>TrackTemp</th>\n",
       "      <th>WindSpeed</th>\n",
       "    </tr>\n",
       "    <tr>\n",
       "      <th>Rainfall</th>\n",
       "      <th></th>\n",
       "      <th></th>\n",
       "      <th></th>\n",
       "      <th></th>\n",
       "      <th></th>\n",
       "      <th></th>\n",
       "      <th></th>\n",
       "      <th></th>\n",
       "      <th></th>\n",
       "      <th></th>\n",
       "    </tr>\n",
       "  </thead>\n",
       "  <tbody>\n",
       "    <tr>\n",
       "      <th>False</th>\n",
       "      <td>69</td>\n",
       "      <td>69</td>\n",
       "      <td>69</td>\n",
       "      <td>69</td>\n",
       "      <td>69</td>\n",
       "      <td>69</td>\n",
       "      <td>69</td>\n",
       "      <td>69</td>\n",
       "      <td>69</td>\n",
       "      <td>69</td>\n",
       "    </tr>\n",
       "    <tr>\n",
       "      <th>True</th>\n",
       "      <td>28</td>\n",
       "      <td>28</td>\n",
       "      <td>28</td>\n",
       "      <td>28</td>\n",
       "      <td>28</td>\n",
       "      <td>28</td>\n",
       "      <td>28</td>\n",
       "      <td>28</td>\n",
       "      <td>28</td>\n",
       "      <td>28</td>\n",
       "    </tr>\n",
       "  </tbody>\n",
       "</table>\n",
       "</div>"
      ],
      "text/plain": [
       "          raceId  race  year  round  accident  AirTemp  Humidity  Pressure  \\\n",
       "Rainfall                                                                     \n",
       "False         69    69    69     69        69       69        69        69   \n",
       "True          28    28    28     28        28       28        28        28   \n",
       "\n",
       "          TrackTemp  WindSpeed  \n",
       "Rainfall                        \n",
       "False            69         69  \n",
       "True             28         28  "
      ]
     },
     "metadata": {},
     "output_type": "display_data"
    },
    {
     "data": {
      "text/html": [
       "<div>\n",
       "<style scoped>\n",
       "    .dataframe tbody tr th:only-of-type {\n",
       "        vertical-align: middle;\n",
       "    }\n",
       "\n",
       "    .dataframe tbody tr th {\n",
       "        vertical-align: top;\n",
       "    }\n",
       "\n",
       "    .dataframe thead th {\n",
       "        text-align: right;\n",
       "    }\n",
       "</style>\n",
       "<table border=\"1\" class=\"dataframe\">\n",
       "  <thead>\n",
       "    <tr style=\"text-align: right;\">\n",
       "      <th></th>\n",
       "      <th>accident</th>\n",
       "    </tr>\n",
       "    <tr>\n",
       "      <th>Rainfall</th>\n",
       "      <th></th>\n",
       "    </tr>\n",
       "  </thead>\n",
       "  <tbody>\n",
       "    <tr>\n",
       "      <th>False</th>\n",
       "      <td>82</td>\n",
       "    </tr>\n",
       "    <tr>\n",
       "      <th>True</th>\n",
       "      <td>47</td>\n",
       "    </tr>\n",
       "  </tbody>\n",
       "</table>\n",
       "</div>"
      ],
      "text/plain": [
       "          accident\n",
       "Rainfall          \n",
       "False           82\n",
       "True            47"
      ]
     },
     "metadata": {},
     "output_type": "display_data"
    }
   ],
   "source": [
    "display(accidents_weather.groupby('Rainfall').count())\n",
    "display(accidents_weather.groupby('Rainfall').agg({'accident':'sum'}))\n",
    "\n",
    "# 69 no rain and 28 rain races\n",
    "# 82 no rain accidents and 47 rain accidents\n",
    "# average of 82/69=1.19 no rain, 47/28=1.68 rain"
   ]
  },
  {
   "cell_type": "code",
   "execution_count": 144,
   "metadata": {},
   "outputs": [
    {
     "data": {
      "application/vnd.plotly.v1+json": {
       "config": {
        "plotlyServerURL": "https://plot.ly"
       },
       "data": [
        {
         "alignmentgroup": "True",
         "box": {
          "visible": true
         },
         "customdata": [
          [
           1
          ],
          [
           3
          ],
          [
           5
          ],
          [
           6
          ],
          [
           8
          ],
          [
           11
          ],
          [
           14
          ],
          [
           16
          ],
          [
           21
          ],
          [
           6
          ],
          [
           11
          ],
          [
           16
          ],
          [
           2
          ],
          [
           3
          ],
          [
           11
          ],
          [
           14
          ],
          [
           20
          ],
          [
           20
          ],
          [
           2
          ],
          [
           2
          ],
          [
           9
          ],
          [
           9
          ],
          [
           11
          ],
          [
           11
          ],
          [
           12
          ],
          [
           12
          ],
          [
           15
          ],
          [
           15
          ]
         ],
         "hovertemplate": "Rainfall=True<br>year=%{x}<br>accident=%{y}<br>round=%{customdata[0]}<extra></extra>",
         "legendgroup": "True",
         "marker": {
          "color": "#636efa"
         },
         "name": "True",
         "offsetgroup": "True",
         "orientation": "v",
         "points": "outliers",
         "scalegroup": "True",
         "showlegend": true,
         "type": "violin",
         "x": [
          2018,
          2018,
          2018,
          2018,
          2018,
          2018,
          2018,
          2018,
          2018,
          2019,
          2019,
          2019,
          2020,
          2020,
          2020,
          2020,
          2021,
          2021,
          2021,
          2021,
          2021,
          2021,
          2021,
          2021,
          2021,
          2021,
          2021,
          2021
         ],
         "x0": " ",
         "xaxis": "x",
         "y": [
          0,
          1,
          3,
          2,
          2,
          1,
          0,
          0,
          1,
          1,
          5,
          2,
          2,
          0,
          1,
          2,
          0,
          0,
          3,
          3,
          2,
          2,
          6,
          6,
          0,
          0,
          1,
          1
         ],
         "y0": " ",
         "yaxis": "y"
        },
        {
         "alignmentgroup": "True",
         "box": {
          "visible": true
         },
         "customdata": [
          [
           2
          ],
          [
           4
          ],
          [
           7
          ],
          [
           9
          ],
          [
           10
          ],
          [
           12
          ],
          [
           13
          ],
          [
           15
          ],
          [
           17
          ],
          [
           18
          ],
          [
           19
          ],
          [
           20
          ],
          [
           1
          ],
          [
           2
          ],
          [
           3
          ],
          [
           4
          ],
          [
           5
          ],
          [
           7
          ],
          [
           8
          ],
          [
           9
          ],
          [
           10
          ],
          [
           12
          ],
          [
           13
          ],
          [
           14
          ],
          [
           15
          ],
          [
           17
          ],
          [
           18
          ],
          [
           19
          ],
          [
           20
          ],
          [
           21
          ],
          [
           1
          ],
          [
           4
          ],
          [
           5
          ],
          [
           6
          ],
          [
           7
          ],
          [
           8
          ],
          [
           9
          ],
          [
           10
          ],
          [
           12
          ],
          [
           13
          ],
          [
           15
          ],
          [
           16
          ],
          [
           17
          ],
          [
           1
          ],
          [
           1
          ],
          [
           3
          ],
          [
           3
          ],
          [
           4
          ],
          [
           4
          ],
          [
           5
          ],
          [
           5
          ],
          [
           6
          ],
          [
           6
          ],
          [
           8
          ],
          [
           8
          ],
          [
           7
          ],
          [
           7
          ],
          [
           13
          ],
          [
           13
          ],
          [
           16
          ],
          [
           16
          ],
          [
           17
          ],
          [
           17
          ],
          [
           18
          ],
          [
           18
          ],
          [
           21
          ],
          [
           21
          ],
          [
           22
          ],
          [
           22
          ]
         ],
         "hovertemplate": "Rainfall=False<br>year=%{x}<br>accident=%{y}<br>round=%{customdata[0]}<extra></extra>",
         "legendgroup": "False",
         "marker": {
          "color": "#EF553B"
         },
         "name": "False",
         "offsetgroup": "False",
         "orientation": "v",
         "points": "outliers",
         "scalegroup": "True",
         "showlegend": true,
         "type": "violin",
         "x": [
          2018,
          2018,
          2018,
          2018,
          2018,
          2018,
          2018,
          2018,
          2018,
          2018,
          2018,
          2018,
          2019,
          2019,
          2019,
          2019,
          2019,
          2019,
          2019,
          2019,
          2019,
          2019,
          2019,
          2019,
          2019,
          2019,
          2019,
          2019,
          2019,
          2019,
          2020,
          2020,
          2020,
          2020,
          2020,
          2020,
          2020,
          2020,
          2020,
          2020,
          2020,
          2020,
          2020,
          2021,
          2021,
          2021,
          2021,
          2021,
          2021,
          2021,
          2021,
          2021,
          2021,
          2021,
          2021,
          2021,
          2021,
          2021,
          2021,
          2021,
          2021,
          2021,
          2021,
          2021,
          2021,
          2021,
          2021,
          2021,
          2021
         ],
         "x0": " ",
         "xaxis": "x",
         "y": [
          0,
          6,
          2,
          1,
          3,
          0,
          3,
          1,
          1,
          3,
          0,
          1,
          0,
          1,
          2,
          2,
          2,
          1,
          0,
          0,
          3,
          0,
          2,
          0,
          2,
          0,
          0,
          0,
          2,
          0,
          0,
          2,
          0,
          0,
          1,
          1,
          6,
          2,
          1,
          1,
          2,
          2,
          0,
          1,
          1,
          1,
          1,
          0,
          0,
          0,
          0,
          2,
          2,
          1,
          1,
          0,
          0,
          0,
          0,
          0,
          0,
          0,
          0,
          2,
          2,
          5,
          5,
          1,
          1
         ],
         "y0": " ",
         "yaxis": "y"
        }
       ],
       "layout": {
        "legend": {
         "title": {
          "text": "Rainfall"
         },
         "tracegroupgap": 0
        },
        "margin": {
         "t": 60
        },
        "template": {
         "data": {
          "bar": [
           {
            "error_x": {
             "color": "#2a3f5f"
            },
            "error_y": {
             "color": "#2a3f5f"
            },
            "marker": {
             "line": {
              "color": "#E5ECF6",
              "width": 0.5
             }
            },
            "type": "bar"
           }
          ],
          "barpolar": [
           {
            "marker": {
             "line": {
              "color": "#E5ECF6",
              "width": 0.5
             }
            },
            "type": "barpolar"
           }
          ],
          "carpet": [
           {
            "aaxis": {
             "endlinecolor": "#2a3f5f",
             "gridcolor": "white",
             "linecolor": "white",
             "minorgridcolor": "white",
             "startlinecolor": "#2a3f5f"
            },
            "baxis": {
             "endlinecolor": "#2a3f5f",
             "gridcolor": "white",
             "linecolor": "white",
             "minorgridcolor": "white",
             "startlinecolor": "#2a3f5f"
            },
            "type": "carpet"
           }
          ],
          "choropleth": [
           {
            "colorbar": {
             "outlinewidth": 0,
             "ticks": ""
            },
            "type": "choropleth"
           }
          ],
          "contour": [
           {
            "colorbar": {
             "outlinewidth": 0,
             "ticks": ""
            },
            "colorscale": [
             [
              0,
              "#0d0887"
             ],
             [
              0.1111111111111111,
              "#46039f"
             ],
             [
              0.2222222222222222,
              "#7201a8"
             ],
             [
              0.3333333333333333,
              "#9c179e"
             ],
             [
              0.4444444444444444,
              "#bd3786"
             ],
             [
              0.5555555555555556,
              "#d8576b"
             ],
             [
              0.6666666666666666,
              "#ed7953"
             ],
             [
              0.7777777777777778,
              "#fb9f3a"
             ],
             [
              0.8888888888888888,
              "#fdca26"
             ],
             [
              1,
              "#f0f921"
             ]
            ],
            "type": "contour"
           }
          ],
          "contourcarpet": [
           {
            "colorbar": {
             "outlinewidth": 0,
             "ticks": ""
            },
            "type": "contourcarpet"
           }
          ],
          "heatmap": [
           {
            "colorbar": {
             "outlinewidth": 0,
             "ticks": ""
            },
            "colorscale": [
             [
              0,
              "#0d0887"
             ],
             [
              0.1111111111111111,
              "#46039f"
             ],
             [
              0.2222222222222222,
              "#7201a8"
             ],
             [
              0.3333333333333333,
              "#9c179e"
             ],
             [
              0.4444444444444444,
              "#bd3786"
             ],
             [
              0.5555555555555556,
              "#d8576b"
             ],
             [
              0.6666666666666666,
              "#ed7953"
             ],
             [
              0.7777777777777778,
              "#fb9f3a"
             ],
             [
              0.8888888888888888,
              "#fdca26"
             ],
             [
              1,
              "#f0f921"
             ]
            ],
            "type": "heatmap"
           }
          ],
          "heatmapgl": [
           {
            "colorbar": {
             "outlinewidth": 0,
             "ticks": ""
            },
            "colorscale": [
             [
              0,
              "#0d0887"
             ],
             [
              0.1111111111111111,
              "#46039f"
             ],
             [
              0.2222222222222222,
              "#7201a8"
             ],
             [
              0.3333333333333333,
              "#9c179e"
             ],
             [
              0.4444444444444444,
              "#bd3786"
             ],
             [
              0.5555555555555556,
              "#d8576b"
             ],
             [
              0.6666666666666666,
              "#ed7953"
             ],
             [
              0.7777777777777778,
              "#fb9f3a"
             ],
             [
              0.8888888888888888,
              "#fdca26"
             ],
             [
              1,
              "#f0f921"
             ]
            ],
            "type": "heatmapgl"
           }
          ],
          "histogram": [
           {
            "marker": {
             "colorbar": {
              "outlinewidth": 0,
              "ticks": ""
             }
            },
            "type": "histogram"
           }
          ],
          "histogram2d": [
           {
            "colorbar": {
             "outlinewidth": 0,
             "ticks": ""
            },
            "colorscale": [
             [
              0,
              "#0d0887"
             ],
             [
              0.1111111111111111,
              "#46039f"
             ],
             [
              0.2222222222222222,
              "#7201a8"
             ],
             [
              0.3333333333333333,
              "#9c179e"
             ],
             [
              0.4444444444444444,
              "#bd3786"
             ],
             [
              0.5555555555555556,
              "#d8576b"
             ],
             [
              0.6666666666666666,
              "#ed7953"
             ],
             [
              0.7777777777777778,
              "#fb9f3a"
             ],
             [
              0.8888888888888888,
              "#fdca26"
             ],
             [
              1,
              "#f0f921"
             ]
            ],
            "type": "histogram2d"
           }
          ],
          "histogram2dcontour": [
           {
            "colorbar": {
             "outlinewidth": 0,
             "ticks": ""
            },
            "colorscale": [
             [
              0,
              "#0d0887"
             ],
             [
              0.1111111111111111,
              "#46039f"
             ],
             [
              0.2222222222222222,
              "#7201a8"
             ],
             [
              0.3333333333333333,
              "#9c179e"
             ],
             [
              0.4444444444444444,
              "#bd3786"
             ],
             [
              0.5555555555555556,
              "#d8576b"
             ],
             [
              0.6666666666666666,
              "#ed7953"
             ],
             [
              0.7777777777777778,
              "#fb9f3a"
             ],
             [
              0.8888888888888888,
              "#fdca26"
             ],
             [
              1,
              "#f0f921"
             ]
            ],
            "type": "histogram2dcontour"
           }
          ],
          "mesh3d": [
           {
            "colorbar": {
             "outlinewidth": 0,
             "ticks": ""
            },
            "type": "mesh3d"
           }
          ],
          "parcoords": [
           {
            "line": {
             "colorbar": {
              "outlinewidth": 0,
              "ticks": ""
             }
            },
            "type": "parcoords"
           }
          ],
          "pie": [
           {
            "automargin": true,
            "type": "pie"
           }
          ],
          "scatter": [
           {
            "marker": {
             "colorbar": {
              "outlinewidth": 0,
              "ticks": ""
             }
            },
            "type": "scatter"
           }
          ],
          "scatter3d": [
           {
            "line": {
             "colorbar": {
              "outlinewidth": 0,
              "ticks": ""
             }
            },
            "marker": {
             "colorbar": {
              "outlinewidth": 0,
              "ticks": ""
             }
            },
            "type": "scatter3d"
           }
          ],
          "scattercarpet": [
           {
            "marker": {
             "colorbar": {
              "outlinewidth": 0,
              "ticks": ""
             }
            },
            "type": "scattercarpet"
           }
          ],
          "scattergeo": [
           {
            "marker": {
             "colorbar": {
              "outlinewidth": 0,
              "ticks": ""
             }
            },
            "type": "scattergeo"
           }
          ],
          "scattergl": [
           {
            "marker": {
             "colorbar": {
              "outlinewidth": 0,
              "ticks": ""
             }
            },
            "type": "scattergl"
           }
          ],
          "scattermapbox": [
           {
            "marker": {
             "colorbar": {
              "outlinewidth": 0,
              "ticks": ""
             }
            },
            "type": "scattermapbox"
           }
          ],
          "scatterpolar": [
           {
            "marker": {
             "colorbar": {
              "outlinewidth": 0,
              "ticks": ""
             }
            },
            "type": "scatterpolar"
           }
          ],
          "scatterpolargl": [
           {
            "marker": {
             "colorbar": {
              "outlinewidth": 0,
              "ticks": ""
             }
            },
            "type": "scatterpolargl"
           }
          ],
          "scatterternary": [
           {
            "marker": {
             "colorbar": {
              "outlinewidth": 0,
              "ticks": ""
             }
            },
            "type": "scatterternary"
           }
          ],
          "surface": [
           {
            "colorbar": {
             "outlinewidth": 0,
             "ticks": ""
            },
            "colorscale": [
             [
              0,
              "#0d0887"
             ],
             [
              0.1111111111111111,
              "#46039f"
             ],
             [
              0.2222222222222222,
              "#7201a8"
             ],
             [
              0.3333333333333333,
              "#9c179e"
             ],
             [
              0.4444444444444444,
              "#bd3786"
             ],
             [
              0.5555555555555556,
              "#d8576b"
             ],
             [
              0.6666666666666666,
              "#ed7953"
             ],
             [
              0.7777777777777778,
              "#fb9f3a"
             ],
             [
              0.8888888888888888,
              "#fdca26"
             ],
             [
              1,
              "#f0f921"
             ]
            ],
            "type": "surface"
           }
          ],
          "table": [
           {
            "cells": {
             "fill": {
              "color": "#EBF0F8"
             },
             "line": {
              "color": "white"
             }
            },
            "header": {
             "fill": {
              "color": "#C8D4E3"
             },
             "line": {
              "color": "white"
             }
            },
            "type": "table"
           }
          ]
         },
         "layout": {
          "annotationdefaults": {
           "arrowcolor": "#2a3f5f",
           "arrowhead": 0,
           "arrowwidth": 1
          },
          "autotypenumbers": "strict",
          "coloraxis": {
           "colorbar": {
            "outlinewidth": 0,
            "ticks": ""
           }
          },
          "colorscale": {
           "diverging": [
            [
             0,
             "#8e0152"
            ],
            [
             0.1,
             "#c51b7d"
            ],
            [
             0.2,
             "#de77ae"
            ],
            [
             0.3,
             "#f1b6da"
            ],
            [
             0.4,
             "#fde0ef"
            ],
            [
             0.5,
             "#f7f7f7"
            ],
            [
             0.6,
             "#e6f5d0"
            ],
            [
             0.7,
             "#b8e186"
            ],
            [
             0.8,
             "#7fbc41"
            ],
            [
             0.9,
             "#4d9221"
            ],
            [
             1,
             "#276419"
            ]
           ],
           "sequential": [
            [
             0,
             "#0d0887"
            ],
            [
             0.1111111111111111,
             "#46039f"
            ],
            [
             0.2222222222222222,
             "#7201a8"
            ],
            [
             0.3333333333333333,
             "#9c179e"
            ],
            [
             0.4444444444444444,
             "#bd3786"
            ],
            [
             0.5555555555555556,
             "#d8576b"
            ],
            [
             0.6666666666666666,
             "#ed7953"
            ],
            [
             0.7777777777777778,
             "#fb9f3a"
            ],
            [
             0.8888888888888888,
             "#fdca26"
            ],
            [
             1,
             "#f0f921"
            ]
           ],
           "sequentialminus": [
            [
             0,
             "#0d0887"
            ],
            [
             0.1111111111111111,
             "#46039f"
            ],
            [
             0.2222222222222222,
             "#7201a8"
            ],
            [
             0.3333333333333333,
             "#9c179e"
            ],
            [
             0.4444444444444444,
             "#bd3786"
            ],
            [
             0.5555555555555556,
             "#d8576b"
            ],
            [
             0.6666666666666666,
             "#ed7953"
            ],
            [
             0.7777777777777778,
             "#fb9f3a"
            ],
            [
             0.8888888888888888,
             "#fdca26"
            ],
            [
             1,
             "#f0f921"
            ]
           ]
          },
          "colorway": [
           "#636efa",
           "#EF553B",
           "#00cc96",
           "#ab63fa",
           "#FFA15A",
           "#19d3f3",
           "#FF6692",
           "#B6E880",
           "#FF97FF",
           "#FECB52"
          ],
          "font": {
           "color": "#2a3f5f"
          },
          "geo": {
           "bgcolor": "white",
           "lakecolor": "white",
           "landcolor": "#E5ECF6",
           "showlakes": true,
           "showland": true,
           "subunitcolor": "white"
          },
          "hoverlabel": {
           "align": "left"
          },
          "hovermode": "closest",
          "mapbox": {
           "style": "light"
          },
          "paper_bgcolor": "white",
          "plot_bgcolor": "#E5ECF6",
          "polar": {
           "angularaxis": {
            "gridcolor": "white",
            "linecolor": "white",
            "ticks": ""
           },
           "bgcolor": "#E5ECF6",
           "radialaxis": {
            "gridcolor": "white",
            "linecolor": "white",
            "ticks": ""
           }
          },
          "scene": {
           "xaxis": {
            "backgroundcolor": "#E5ECF6",
            "gridcolor": "white",
            "gridwidth": 2,
            "linecolor": "white",
            "showbackground": true,
            "ticks": "",
            "zerolinecolor": "white"
           },
           "yaxis": {
            "backgroundcolor": "#E5ECF6",
            "gridcolor": "white",
            "gridwidth": 2,
            "linecolor": "white",
            "showbackground": true,
            "ticks": "",
            "zerolinecolor": "white"
           },
           "zaxis": {
            "backgroundcolor": "#E5ECF6",
            "gridcolor": "white",
            "gridwidth": 2,
            "linecolor": "white",
            "showbackground": true,
            "ticks": "",
            "zerolinecolor": "white"
           }
          },
          "shapedefaults": {
           "line": {
            "color": "#2a3f5f"
           }
          },
          "ternary": {
           "aaxis": {
            "gridcolor": "white",
            "linecolor": "white",
            "ticks": ""
           },
           "baxis": {
            "gridcolor": "white",
            "linecolor": "white",
            "ticks": ""
           },
           "bgcolor": "#E5ECF6",
           "caxis": {
            "gridcolor": "white",
            "linecolor": "white",
            "ticks": ""
           }
          },
          "title": {
           "x": 0.05
          },
          "xaxis": {
           "automargin": true,
           "gridcolor": "white",
           "linecolor": "white",
           "ticks": "",
           "title": {
            "standoff": 15
           },
           "zerolinecolor": "white",
           "zerolinewidth": 2
          },
          "yaxis": {
           "automargin": true,
           "gridcolor": "white",
           "linecolor": "white",
           "ticks": "",
           "title": {
            "standoff": 15
           },
           "zerolinecolor": "white",
           "zerolinewidth": 2
          }
         }
        },
        "violinmode": "group",
        "xaxis": {
         "anchor": "y",
         "domain": [
          0,
          1
         ],
         "title": {
          "text": "year"
         }
        },
        "yaxis": {
         "anchor": "x",
         "domain": [
          0,
          1
         ],
         "title": {
          "text": "accident"
         }
        }
       }
      }
     },
     "metadata": {},
     "output_type": "display_data"
    }
   ],
   "source": [
    "px.violin(accidents_weather,x='year',y='accident',color='Rainfall',hover_data=['round'],points='outliers',box=True)"
   ]
  },
  {
   "cell_type": "code",
   "execution_count": 157,
   "metadata": {},
   "outputs": [
    {
     "data": {
      "application/vnd.plotly.v1+json": {
       "config": {
        "plotlyServerURL": "https://plot.ly"
       },
       "data": [
        {
         "alignmentgroup": "True",
         "box": {
          "visible": false
         },
         "customdata": [
          [
           "Australian Grand Prix",
           2018,
           1
          ],
          [
           "Chinese Grand Prix",
           2018,
           3
          ],
          [
           "Spanish Grand Prix",
           2018,
           5
          ],
          [
           "Monaco Grand Prix",
           2018,
           6
          ],
          [
           "French Grand Prix",
           2018,
           8
          ],
          [
           "German Grand Prix",
           2018,
           11
          ],
          [
           "Italian Grand Prix",
           2018,
           14
          ],
          [
           "Russian Grand Prix",
           2018,
           16
          ],
          [
           "Abu Dhabi Grand Prix",
           2018,
           21
          ],
          [
           "Monaco Grand Prix",
           2019,
           6
          ],
          [
           "German Grand Prix",
           2019,
           11
          ],
          [
           "Russian Grand Prix",
           2019,
           16
          ],
          [
           "Styrian Grand Prix",
           2020,
           2
          ],
          [
           "Hungarian Grand Prix",
           2020,
           3
          ],
          [
           "Eifel Grand Prix",
           2020,
           11
          ],
          [
           "Turkish Grand Prix",
           2020,
           14
          ],
          [
           "Qatar Grand Prix",
           2021,
           20
          ],
          [
           "Qatar Grand Prix",
           2021,
           20
          ],
          [
           "Emilia Romagna Grand Prix",
           2021,
           2
          ],
          [
           "Emilia Romagna Grand Prix",
           2021,
           2
          ],
          [
           "Austrian Grand Prix",
           2021,
           9
          ],
          [
           "Austrian Grand Prix",
           2021,
           9
          ],
          [
           "Hungarian Grand Prix",
           2021,
           11
          ],
          [
           "Hungarian Grand Prix",
           2021,
           11
          ],
          [
           "Belgian Grand Prix",
           2021,
           12
          ],
          [
           "Belgian Grand Prix",
           2021,
           12
          ],
          [
           "Russian Grand Prix",
           2021,
           15
          ],
          [
           "Russian Grand Prix",
           2021,
           15
          ]
         ],
         "hovertemplate": "Rainfall=True<br>accident=%{y}<br>race=%{customdata[0]}<br>year=%{customdata[1]}<br>round=%{customdata[2]}<extra></extra>",
         "legendgroup": "True",
         "marker": {
          "color": "#636efa"
         },
         "name": "True",
         "offsetgroup": "True",
         "orientation": "v",
         "points": "all",
         "scalegroup": "True",
         "showlegend": true,
         "type": "violin",
         "x0": " ",
         "xaxis": "x",
         "y": [
          0,
          1,
          3,
          2,
          2,
          1,
          0,
          0,
          1,
          1,
          5,
          2,
          2,
          0,
          1,
          2,
          0,
          0,
          3,
          3,
          2,
          2,
          6,
          6,
          0,
          0,
          1,
          1
         ],
         "y0": " ",
         "yaxis": "y"
        },
        {
         "alignmentgroup": "True",
         "box": {
          "visible": false
         },
         "customdata": [
          [
           "Bahrain Grand Prix",
           2018,
           2
          ],
          [
           "Azerbaijan Grand Prix",
           2018,
           4
          ],
          [
           "Canadian Grand Prix",
           2018,
           7
          ],
          [
           "Austrian Grand Prix",
           2018,
           9
          ],
          [
           "British Grand Prix",
           2018,
           10
          ],
          [
           "Hungarian Grand Prix",
           2018,
           12
          ],
          [
           "Belgian Grand Prix",
           2018,
           13
          ],
          [
           "Singapore Grand Prix",
           2018,
           15
          ],
          [
           "Japanese Grand Prix",
           2018,
           17
          ],
          [
           "United States Grand Prix",
           2018,
           18
          ],
          [
           "Mexican Grand Prix",
           2018,
           19
          ],
          [
           "Brazilian Grand Prix",
           2018,
           20
          ],
          [
           "Australian Grand Prix",
           2019,
           1
          ],
          [
           "Bahrain Grand Prix",
           2019,
           2
          ],
          [
           "Chinese Grand Prix",
           2019,
           3
          ],
          [
           "Azerbaijan Grand Prix",
           2019,
           4
          ],
          [
           "Spanish Grand Prix",
           2019,
           5
          ],
          [
           "Canadian Grand Prix",
           2019,
           7
          ],
          [
           "French Grand Prix",
           2019,
           8
          ],
          [
           "Austrian Grand Prix",
           2019,
           9
          ],
          [
           "British Grand Prix",
           2019,
           10
          ],
          [
           "Hungarian Grand Prix",
           2019,
           12
          ],
          [
           "Belgian Grand Prix",
           2019,
           13
          ],
          [
           "Italian Grand Prix",
           2019,
           14
          ],
          [
           "Singapore Grand Prix",
           2019,
           15
          ],
          [
           "Japanese Grand Prix",
           2019,
           17
          ],
          [
           "Mexican Grand Prix",
           2019,
           18
          ],
          [
           "United States Grand Prix",
           2019,
           19
          ],
          [
           "Brazilian Grand Prix",
           2019,
           20
          ],
          [
           "Abu Dhabi Grand Prix",
           2019,
           21
          ],
          [
           "Austrian Grand Prix",
           2020,
           1
          ],
          [
           "British Grand Prix",
           2020,
           4
          ],
          [
           "70th Anniversary Grand Prix",
           2020,
           5
          ],
          [
           "Spanish Grand Prix",
           2020,
           6
          ],
          [
           "Belgian Grand Prix",
           2020,
           7
          ],
          [
           "Italian Grand Prix",
           2020,
           8
          ],
          [
           "Tuscan Grand Prix",
           2020,
           9
          ],
          [
           "Russian Grand Prix",
           2020,
           10
          ],
          [
           "Portuguese Grand Prix",
           2020,
           12
          ],
          [
           "Emilia Romagna Grand Prix",
           2020,
           13
          ],
          [
           "Bahrain Grand Prix",
           2020,
           15
          ],
          [
           "Sakhir Grand Prix",
           2020,
           16
          ],
          [
           "Abu Dhabi Grand Prix",
           2020,
           17
          ],
          [
           "Bahrain Grand Prix",
           2021,
           1
          ],
          [
           "Bahrain Grand Prix",
           2021,
           1
          ],
          [
           "Portuguese Grand Prix",
           2021,
           3
          ],
          [
           "Portuguese Grand Prix",
           2021,
           3
          ],
          [
           "Spanish Grand Prix",
           2021,
           4
          ],
          [
           "Spanish Grand Prix",
           2021,
           4
          ],
          [
           "Monaco Grand Prix",
           2021,
           5
          ],
          [
           "Monaco Grand Prix",
           2021,
           5
          ],
          [
           "Azerbaijan Grand Prix",
           2021,
           6
          ],
          [
           "Azerbaijan Grand Prix",
           2021,
           6
          ],
          [
           "Styrian Grand Prix",
           2021,
           8
          ],
          [
           "Styrian Grand Prix",
           2021,
           8
          ],
          [
           "French Grand Prix",
           2021,
           7
          ],
          [
           "French Grand Prix",
           2021,
           7
          ],
          [
           "Dutch Grand Prix",
           2021,
           13
          ],
          [
           "Dutch Grand Prix",
           2021,
           13
          ],
          [
           "Turkish Grand Prix",
           2021,
           16
          ],
          [
           "Turkish Grand Prix",
           2021,
           16
          ],
          [
           "United States Grand Prix",
           2021,
           17
          ],
          [
           "United States Grand Prix",
           2021,
           17
          ],
          [
           "Mexico City Grand Prix",
           2021,
           18
          ],
          [
           "Mexico City Grand Prix",
           2021,
           18
          ],
          [
           "Saudi Arabian Grand Prix",
           2021,
           21
          ],
          [
           "Saudi Arabian Grand Prix",
           2021,
           21
          ],
          [
           "Abu Dhabi Grand Prix",
           2021,
           22
          ],
          [
           "Abu Dhabi Grand Prix",
           2021,
           22
          ]
         ],
         "hovertemplate": "Rainfall=False<br>accident=%{y}<br>race=%{customdata[0]}<br>year=%{customdata[1]}<br>round=%{customdata[2]}<extra></extra>",
         "legendgroup": "False",
         "marker": {
          "color": "#EF553B"
         },
         "name": "False",
         "offsetgroup": "False",
         "orientation": "v",
         "points": "all",
         "scalegroup": "True",
         "showlegend": true,
         "type": "violin",
         "x0": " ",
         "xaxis": "x",
         "y": [
          0,
          6,
          2,
          1,
          3,
          0,
          3,
          1,
          1,
          3,
          0,
          1,
          0,
          1,
          2,
          2,
          2,
          1,
          0,
          0,
          3,
          0,
          2,
          0,
          2,
          0,
          0,
          0,
          2,
          0,
          0,
          2,
          0,
          0,
          1,
          1,
          6,
          2,
          1,
          1,
          2,
          2,
          0,
          1,
          1,
          1,
          1,
          0,
          0,
          0,
          0,
          2,
          2,
          1,
          1,
          0,
          0,
          0,
          0,
          0,
          0,
          0,
          0,
          2,
          2,
          5,
          5,
          1,
          1
         ],
         "y0": " ",
         "yaxis": "y"
        }
       ],
       "layout": {
        "legend": {
         "title": {
          "text": "Rainfall"
         },
         "tracegroupgap": 0
        },
        "margin": {
         "t": 60
        },
        "template": {
         "data": {
          "bar": [
           {
            "error_x": {
             "color": "#2a3f5f"
            },
            "error_y": {
             "color": "#2a3f5f"
            },
            "marker": {
             "line": {
              "color": "#E5ECF6",
              "width": 0.5
             }
            },
            "type": "bar"
           }
          ],
          "barpolar": [
           {
            "marker": {
             "line": {
              "color": "#E5ECF6",
              "width": 0.5
             }
            },
            "type": "barpolar"
           }
          ],
          "carpet": [
           {
            "aaxis": {
             "endlinecolor": "#2a3f5f",
             "gridcolor": "white",
             "linecolor": "white",
             "minorgridcolor": "white",
             "startlinecolor": "#2a3f5f"
            },
            "baxis": {
             "endlinecolor": "#2a3f5f",
             "gridcolor": "white",
             "linecolor": "white",
             "minorgridcolor": "white",
             "startlinecolor": "#2a3f5f"
            },
            "type": "carpet"
           }
          ],
          "choropleth": [
           {
            "colorbar": {
             "outlinewidth": 0,
             "ticks": ""
            },
            "type": "choropleth"
           }
          ],
          "contour": [
           {
            "colorbar": {
             "outlinewidth": 0,
             "ticks": ""
            },
            "colorscale": [
             [
              0,
              "#0d0887"
             ],
             [
              0.1111111111111111,
              "#46039f"
             ],
             [
              0.2222222222222222,
              "#7201a8"
             ],
             [
              0.3333333333333333,
              "#9c179e"
             ],
             [
              0.4444444444444444,
              "#bd3786"
             ],
             [
              0.5555555555555556,
              "#d8576b"
             ],
             [
              0.6666666666666666,
              "#ed7953"
             ],
             [
              0.7777777777777778,
              "#fb9f3a"
             ],
             [
              0.8888888888888888,
              "#fdca26"
             ],
             [
              1,
              "#f0f921"
             ]
            ],
            "type": "contour"
           }
          ],
          "contourcarpet": [
           {
            "colorbar": {
             "outlinewidth": 0,
             "ticks": ""
            },
            "type": "contourcarpet"
           }
          ],
          "heatmap": [
           {
            "colorbar": {
             "outlinewidth": 0,
             "ticks": ""
            },
            "colorscale": [
             [
              0,
              "#0d0887"
             ],
             [
              0.1111111111111111,
              "#46039f"
             ],
             [
              0.2222222222222222,
              "#7201a8"
             ],
             [
              0.3333333333333333,
              "#9c179e"
             ],
             [
              0.4444444444444444,
              "#bd3786"
             ],
             [
              0.5555555555555556,
              "#d8576b"
             ],
             [
              0.6666666666666666,
              "#ed7953"
             ],
             [
              0.7777777777777778,
              "#fb9f3a"
             ],
             [
              0.8888888888888888,
              "#fdca26"
             ],
             [
              1,
              "#f0f921"
             ]
            ],
            "type": "heatmap"
           }
          ],
          "heatmapgl": [
           {
            "colorbar": {
             "outlinewidth": 0,
             "ticks": ""
            },
            "colorscale": [
             [
              0,
              "#0d0887"
             ],
             [
              0.1111111111111111,
              "#46039f"
             ],
             [
              0.2222222222222222,
              "#7201a8"
             ],
             [
              0.3333333333333333,
              "#9c179e"
             ],
             [
              0.4444444444444444,
              "#bd3786"
             ],
             [
              0.5555555555555556,
              "#d8576b"
             ],
             [
              0.6666666666666666,
              "#ed7953"
             ],
             [
              0.7777777777777778,
              "#fb9f3a"
             ],
             [
              0.8888888888888888,
              "#fdca26"
             ],
             [
              1,
              "#f0f921"
             ]
            ],
            "type": "heatmapgl"
           }
          ],
          "histogram": [
           {
            "marker": {
             "colorbar": {
              "outlinewidth": 0,
              "ticks": ""
             }
            },
            "type": "histogram"
           }
          ],
          "histogram2d": [
           {
            "colorbar": {
             "outlinewidth": 0,
             "ticks": ""
            },
            "colorscale": [
             [
              0,
              "#0d0887"
             ],
             [
              0.1111111111111111,
              "#46039f"
             ],
             [
              0.2222222222222222,
              "#7201a8"
             ],
             [
              0.3333333333333333,
              "#9c179e"
             ],
             [
              0.4444444444444444,
              "#bd3786"
             ],
             [
              0.5555555555555556,
              "#d8576b"
             ],
             [
              0.6666666666666666,
              "#ed7953"
             ],
             [
              0.7777777777777778,
              "#fb9f3a"
             ],
             [
              0.8888888888888888,
              "#fdca26"
             ],
             [
              1,
              "#f0f921"
             ]
            ],
            "type": "histogram2d"
           }
          ],
          "histogram2dcontour": [
           {
            "colorbar": {
             "outlinewidth": 0,
             "ticks": ""
            },
            "colorscale": [
             [
              0,
              "#0d0887"
             ],
             [
              0.1111111111111111,
              "#46039f"
             ],
             [
              0.2222222222222222,
              "#7201a8"
             ],
             [
              0.3333333333333333,
              "#9c179e"
             ],
             [
              0.4444444444444444,
              "#bd3786"
             ],
             [
              0.5555555555555556,
              "#d8576b"
             ],
             [
              0.6666666666666666,
              "#ed7953"
             ],
             [
              0.7777777777777778,
              "#fb9f3a"
             ],
             [
              0.8888888888888888,
              "#fdca26"
             ],
             [
              1,
              "#f0f921"
             ]
            ],
            "type": "histogram2dcontour"
           }
          ],
          "mesh3d": [
           {
            "colorbar": {
             "outlinewidth": 0,
             "ticks": ""
            },
            "type": "mesh3d"
           }
          ],
          "parcoords": [
           {
            "line": {
             "colorbar": {
              "outlinewidth": 0,
              "ticks": ""
             }
            },
            "type": "parcoords"
           }
          ],
          "pie": [
           {
            "automargin": true,
            "type": "pie"
           }
          ],
          "scatter": [
           {
            "marker": {
             "colorbar": {
              "outlinewidth": 0,
              "ticks": ""
             }
            },
            "type": "scatter"
           }
          ],
          "scatter3d": [
           {
            "line": {
             "colorbar": {
              "outlinewidth": 0,
              "ticks": ""
             }
            },
            "marker": {
             "colorbar": {
              "outlinewidth": 0,
              "ticks": ""
             }
            },
            "type": "scatter3d"
           }
          ],
          "scattercarpet": [
           {
            "marker": {
             "colorbar": {
              "outlinewidth": 0,
              "ticks": ""
             }
            },
            "type": "scattercarpet"
           }
          ],
          "scattergeo": [
           {
            "marker": {
             "colorbar": {
              "outlinewidth": 0,
              "ticks": ""
             }
            },
            "type": "scattergeo"
           }
          ],
          "scattergl": [
           {
            "marker": {
             "colorbar": {
              "outlinewidth": 0,
              "ticks": ""
             }
            },
            "type": "scattergl"
           }
          ],
          "scattermapbox": [
           {
            "marker": {
             "colorbar": {
              "outlinewidth": 0,
              "ticks": ""
             }
            },
            "type": "scattermapbox"
           }
          ],
          "scatterpolar": [
           {
            "marker": {
             "colorbar": {
              "outlinewidth": 0,
              "ticks": ""
             }
            },
            "type": "scatterpolar"
           }
          ],
          "scatterpolargl": [
           {
            "marker": {
             "colorbar": {
              "outlinewidth": 0,
              "ticks": ""
             }
            },
            "type": "scatterpolargl"
           }
          ],
          "scatterternary": [
           {
            "marker": {
             "colorbar": {
              "outlinewidth": 0,
              "ticks": ""
             }
            },
            "type": "scatterternary"
           }
          ],
          "surface": [
           {
            "colorbar": {
             "outlinewidth": 0,
             "ticks": ""
            },
            "colorscale": [
             [
              0,
              "#0d0887"
             ],
             [
              0.1111111111111111,
              "#46039f"
             ],
             [
              0.2222222222222222,
              "#7201a8"
             ],
             [
              0.3333333333333333,
              "#9c179e"
             ],
             [
              0.4444444444444444,
              "#bd3786"
             ],
             [
              0.5555555555555556,
              "#d8576b"
             ],
             [
              0.6666666666666666,
              "#ed7953"
             ],
             [
              0.7777777777777778,
              "#fb9f3a"
             ],
             [
              0.8888888888888888,
              "#fdca26"
             ],
             [
              1,
              "#f0f921"
             ]
            ],
            "type": "surface"
           }
          ],
          "table": [
           {
            "cells": {
             "fill": {
              "color": "#EBF0F8"
             },
             "line": {
              "color": "white"
             }
            },
            "header": {
             "fill": {
              "color": "#C8D4E3"
             },
             "line": {
              "color": "white"
             }
            },
            "type": "table"
           }
          ]
         },
         "layout": {
          "annotationdefaults": {
           "arrowcolor": "#2a3f5f",
           "arrowhead": 0,
           "arrowwidth": 1
          },
          "autotypenumbers": "strict",
          "coloraxis": {
           "colorbar": {
            "outlinewidth": 0,
            "ticks": ""
           }
          },
          "colorscale": {
           "diverging": [
            [
             0,
             "#8e0152"
            ],
            [
             0.1,
             "#c51b7d"
            ],
            [
             0.2,
             "#de77ae"
            ],
            [
             0.3,
             "#f1b6da"
            ],
            [
             0.4,
             "#fde0ef"
            ],
            [
             0.5,
             "#f7f7f7"
            ],
            [
             0.6,
             "#e6f5d0"
            ],
            [
             0.7,
             "#b8e186"
            ],
            [
             0.8,
             "#7fbc41"
            ],
            [
             0.9,
             "#4d9221"
            ],
            [
             1,
             "#276419"
            ]
           ],
           "sequential": [
            [
             0,
             "#0d0887"
            ],
            [
             0.1111111111111111,
             "#46039f"
            ],
            [
             0.2222222222222222,
             "#7201a8"
            ],
            [
             0.3333333333333333,
             "#9c179e"
            ],
            [
             0.4444444444444444,
             "#bd3786"
            ],
            [
             0.5555555555555556,
             "#d8576b"
            ],
            [
             0.6666666666666666,
             "#ed7953"
            ],
            [
             0.7777777777777778,
             "#fb9f3a"
            ],
            [
             0.8888888888888888,
             "#fdca26"
            ],
            [
             1,
             "#f0f921"
            ]
           ],
           "sequentialminus": [
            [
             0,
             "#0d0887"
            ],
            [
             0.1111111111111111,
             "#46039f"
            ],
            [
             0.2222222222222222,
             "#7201a8"
            ],
            [
             0.3333333333333333,
             "#9c179e"
            ],
            [
             0.4444444444444444,
             "#bd3786"
            ],
            [
             0.5555555555555556,
             "#d8576b"
            ],
            [
             0.6666666666666666,
             "#ed7953"
            ],
            [
             0.7777777777777778,
             "#fb9f3a"
            ],
            [
             0.8888888888888888,
             "#fdca26"
            ],
            [
             1,
             "#f0f921"
            ]
           ]
          },
          "colorway": [
           "#636efa",
           "#EF553B",
           "#00cc96",
           "#ab63fa",
           "#FFA15A",
           "#19d3f3",
           "#FF6692",
           "#B6E880",
           "#FF97FF",
           "#FECB52"
          ],
          "font": {
           "color": "#2a3f5f"
          },
          "geo": {
           "bgcolor": "white",
           "lakecolor": "white",
           "landcolor": "#E5ECF6",
           "showlakes": true,
           "showland": true,
           "subunitcolor": "white"
          },
          "hoverlabel": {
           "align": "left"
          },
          "hovermode": "closest",
          "mapbox": {
           "style": "light"
          },
          "paper_bgcolor": "white",
          "plot_bgcolor": "#E5ECF6",
          "polar": {
           "angularaxis": {
            "gridcolor": "white",
            "linecolor": "white",
            "ticks": ""
           },
           "bgcolor": "#E5ECF6",
           "radialaxis": {
            "gridcolor": "white",
            "linecolor": "white",
            "ticks": ""
           }
          },
          "scene": {
           "xaxis": {
            "backgroundcolor": "#E5ECF6",
            "gridcolor": "white",
            "gridwidth": 2,
            "linecolor": "white",
            "showbackground": true,
            "ticks": "",
            "zerolinecolor": "white"
           },
           "yaxis": {
            "backgroundcolor": "#E5ECF6",
            "gridcolor": "white",
            "gridwidth": 2,
            "linecolor": "white",
            "showbackground": true,
            "ticks": "",
            "zerolinecolor": "white"
           },
           "zaxis": {
            "backgroundcolor": "#E5ECF6",
            "gridcolor": "white",
            "gridwidth": 2,
            "linecolor": "white",
            "showbackground": true,
            "ticks": "",
            "zerolinecolor": "white"
           }
          },
          "shapedefaults": {
           "line": {
            "color": "#2a3f5f"
           }
          },
          "ternary": {
           "aaxis": {
            "gridcolor": "white",
            "linecolor": "white",
            "ticks": ""
           },
           "baxis": {
            "gridcolor": "white",
            "linecolor": "white",
            "ticks": ""
           },
           "bgcolor": "#E5ECF6",
           "caxis": {
            "gridcolor": "white",
            "linecolor": "white",
            "ticks": ""
           }
          },
          "title": {
           "x": 0.05
          },
          "xaxis": {
           "automargin": true,
           "gridcolor": "white",
           "linecolor": "white",
           "ticks": "",
           "title": {
            "standoff": 15
           },
           "zerolinecolor": "white",
           "zerolinewidth": 2
          },
          "yaxis": {
           "automargin": true,
           "gridcolor": "white",
           "linecolor": "white",
           "ticks": "",
           "title": {
            "standoff": 15
           },
           "zerolinecolor": "white",
           "zerolinewidth": 2
          }
         }
        },
        "violinmode": "group",
        "xaxis": {
         "anchor": "y",
         "domain": [
          0,
          1
         ]
        },
        "yaxis": {
         "anchor": "x",
         "domain": [
          0,
          1
         ],
         "title": {
          "text": "accident"
         }
        }
       }
      }
     },
     "metadata": {},
     "output_type": "display_data"
    }
   ],
   "source": [
    "px.violin(accidents_weather,y='accident',color='Rainfall',hover_data=['race','year','round'],points='all')"
   ]
  },
  {
   "cell_type": "code",
   "execution_count": 134,
   "metadata": {},
   "outputs": [
    {
     "data": {
      "text/html": [
       "<div>\n",
       "<style scoped>\n",
       "    .dataframe tbody tr th:only-of-type {\n",
       "        vertical-align: middle;\n",
       "    }\n",
       "\n",
       "    .dataframe tbody tr th {\n",
       "        vertical-align: top;\n",
       "    }\n",
       "\n",
       "    .dataframe thead th {\n",
       "        text-align: right;\n",
       "    }\n",
       "</style>\n",
       "<table border=\"1\" class=\"dataframe\">\n",
       "  <thead>\n",
       "    <tr style=\"text-align: right;\">\n",
       "      <th></th>\n",
       "      <th></th>\n",
       "      <th></th>\n",
       "      <th>raceId</th>\n",
       "      <th>driverId</th>\n",
       "      <th>forename</th>\n",
       "      <th>surname</th>\n",
       "      <th>constructorId</th>\n",
       "      <th>constructor</th>\n",
       "      <th>round</th>\n",
       "      <th>race</th>\n",
       "      <th>driver</th>\n",
       "      <th>accident</th>\n",
       "    </tr>\n",
       "    <tr>\n",
       "      <th>year</th>\n",
       "      <th>statusId</th>\n",
       "      <th>status</th>\n",
       "      <th></th>\n",
       "      <th></th>\n",
       "      <th></th>\n",
       "      <th></th>\n",
       "      <th></th>\n",
       "      <th></th>\n",
       "      <th></th>\n",
       "      <th></th>\n",
       "      <th></th>\n",
       "      <th></th>\n",
       "    </tr>\n",
       "  </thead>\n",
       "  <tbody>\n",
       "    <tr>\n",
       "      <th rowspan=\"2\" valign=\"top\">1951</th>\n",
       "      <th>3</th>\n",
       "      <th>Accident</th>\n",
       "      <td>9</td>\n",
       "      <td>9</td>\n",
       "      <td>9</td>\n",
       "      <td>9</td>\n",
       "      <td>9</td>\n",
       "      <td>9</td>\n",
       "      <td>9</td>\n",
       "      <td>9</td>\n",
       "      <td>9</td>\n",
       "      <td>9</td>\n",
       "    </tr>\n",
       "    <tr>\n",
       "      <th>20</th>\n",
       "      <th>Spun off</th>\n",
       "      <td>1</td>\n",
       "      <td>1</td>\n",
       "      <td>1</td>\n",
       "      <td>1</td>\n",
       "      <td>1</td>\n",
       "      <td>1</td>\n",
       "      <td>1</td>\n",
       "      <td>1</td>\n",
       "      <td>1</td>\n",
       "      <td>1</td>\n",
       "    </tr>\n",
       "    <tr>\n",
       "      <th rowspan=\"2\" valign=\"top\">1952</th>\n",
       "      <th>3</th>\n",
       "      <th>Accident</th>\n",
       "      <td>5</td>\n",
       "      <td>5</td>\n",
       "      <td>5</td>\n",
       "      <td>5</td>\n",
       "      <td>5</td>\n",
       "      <td>5</td>\n",
       "      <td>5</td>\n",
       "      <td>5</td>\n",
       "      <td>5</td>\n",
       "      <td>5</td>\n",
       "    </tr>\n",
       "    <tr>\n",
       "      <th>20</th>\n",
       "      <th>Spun off</th>\n",
       "      <td>1</td>\n",
       "      <td>1</td>\n",
       "      <td>1</td>\n",
       "      <td>1</td>\n",
       "      <td>1</td>\n",
       "      <td>1</td>\n",
       "      <td>1</td>\n",
       "      <td>1</td>\n",
       "      <td>1</td>\n",
       "      <td>1</td>\n",
       "    </tr>\n",
       "    <tr>\n",
       "      <th>1953</th>\n",
       "      <th>3</th>\n",
       "      <th>Accident</th>\n",
       "      <td>13</td>\n",
       "      <td>13</td>\n",
       "      <td>13</td>\n",
       "      <td>13</td>\n",
       "      <td>13</td>\n",
       "      <td>13</td>\n",
       "      <td>13</td>\n",
       "      <td>13</td>\n",
       "      <td>13</td>\n",
       "      <td>13</td>\n",
       "    </tr>\n",
       "    <tr>\n",
       "      <th>...</th>\n",
       "      <th>...</th>\n",
       "      <th>...</th>\n",
       "      <td>...</td>\n",
       "      <td>...</td>\n",
       "      <td>...</td>\n",
       "      <td>...</td>\n",
       "      <td>...</td>\n",
       "      <td>...</td>\n",
       "      <td>...</td>\n",
       "      <td>...</td>\n",
       "      <td>...</td>\n",
       "      <td>...</td>\n",
       "    </tr>\n",
       "    <tr>\n",
       "      <th>2021</th>\n",
       "      <th>130</th>\n",
       "      <th>Collision damage</th>\n",
       "      <td>3</td>\n",
       "      <td>3</td>\n",
       "      <td>3</td>\n",
       "      <td>3</td>\n",
       "      <td>3</td>\n",
       "      <td>3</td>\n",
       "      <td>3</td>\n",
       "      <td>3</td>\n",
       "      <td>3</td>\n",
       "      <td>3</td>\n",
       "    </tr>\n",
       "    <tr>\n",
       "      <th rowspan=\"4\" valign=\"top\">2022</th>\n",
       "      <th>3</th>\n",
       "      <th>Accident</th>\n",
       "      <td>5</td>\n",
       "      <td>5</td>\n",
       "      <td>5</td>\n",
       "      <td>5</td>\n",
       "      <td>5</td>\n",
       "      <td>5</td>\n",
       "      <td>5</td>\n",
       "      <td>5</td>\n",
       "      <td>5</td>\n",
       "      <td>5</td>\n",
       "    </tr>\n",
       "    <tr>\n",
       "      <th>4</th>\n",
       "      <th>Collision</th>\n",
       "      <td>6</td>\n",
       "      <td>6</td>\n",
       "      <td>6</td>\n",
       "      <td>6</td>\n",
       "      <td>6</td>\n",
       "      <td>6</td>\n",
       "      <td>6</td>\n",
       "      <td>6</td>\n",
       "      <td>6</td>\n",
       "      <td>6</td>\n",
       "    </tr>\n",
       "    <tr>\n",
       "      <th>20</th>\n",
       "      <th>Spun off</th>\n",
       "      <td>1</td>\n",
       "      <td>1</td>\n",
       "      <td>1</td>\n",
       "      <td>1</td>\n",
       "      <td>1</td>\n",
       "      <td>1</td>\n",
       "      <td>1</td>\n",
       "      <td>1</td>\n",
       "      <td>1</td>\n",
       "      <td>1</td>\n",
       "    </tr>\n",
       "    <tr>\n",
       "      <th>130</th>\n",
       "      <th>Collision damage</th>\n",
       "      <td>6</td>\n",
       "      <td>6</td>\n",
       "      <td>6</td>\n",
       "      <td>6</td>\n",
       "      <td>6</td>\n",
       "      <td>6</td>\n",
       "      <td>6</td>\n",
       "      <td>6</td>\n",
       "      <td>6</td>\n",
       "      <td>6</td>\n",
       "    </tr>\n",
       "  </tbody>\n",
       "</table>\n",
       "<p>190 rows × 10 columns</p>\n",
       "</div>"
      ],
      "text/plain": [
       "                                raceId  driverId  forename  surname  \\\n",
       "year statusId status                                                  \n",
       "1951 3        Accident               9         9         9        9   \n",
       "     20       Spun off               1         1         1        1   \n",
       "1952 3        Accident               5         5         5        5   \n",
       "     20       Spun off               1         1         1        1   \n",
       "1953 3        Accident              13        13        13       13   \n",
       "...                                ...       ...       ...      ...   \n",
       "2021 130      Collision damage       3         3         3        3   \n",
       "2022 3        Accident               5         5         5        5   \n",
       "     4        Collision              6         6         6        6   \n",
       "     20       Spun off               1         1         1        1   \n",
       "     130      Collision damage       6         6         6        6   \n",
       "\n",
       "                                constructorId  constructor  round  race  \\\n",
       "year statusId status                                                      \n",
       "1951 3        Accident                      9            9      9     9   \n",
       "     20       Spun off                      1            1      1     1   \n",
       "1952 3        Accident                      5            5      5     5   \n",
       "     20       Spun off                      1            1      1     1   \n",
       "1953 3        Accident                     13           13     13    13   \n",
       "...                                       ...          ...    ...   ...   \n",
       "2021 130      Collision damage              3            3      3     3   \n",
       "2022 3        Accident                      5            5      5     5   \n",
       "     4        Collision                     6            6      6     6   \n",
       "     20       Spun off                      1            1      1     1   \n",
       "     130      Collision damage              6            6      6     6   \n",
       "\n",
       "                                driver  accident  \n",
       "year statusId status                              \n",
       "1951 3        Accident               9         9  \n",
       "     20       Spun off               1         1  \n",
       "1952 3        Accident               5         5  \n",
       "     20       Spun off               1         1  \n",
       "1953 3        Accident              13        13  \n",
       "...                                ...       ...  \n",
       "2021 130      Collision damage       3         3  \n",
       "2022 3        Accident               5         5  \n",
       "     4        Collision              6         6  \n",
       "     20       Spun off               1         1  \n",
       "     130      Collision damage       6         6  \n",
       "\n",
       "[190 rows x 10 columns]"
      ]
     },
     "execution_count": 134,
     "metadata": {},
     "output_type": "execute_result"
    }
   ],
   "source": [
    "# count statuses by year\n",
    "results_status[(results_status['year'] > 1950) & results_status['statusId'].isin(acc_statusid)].groupby(['year','statusId','status']).count()"
   ]
  },
  {
   "cell_type": "code",
   "execution_count": 91,
   "metadata": {},
   "outputs": [
    {
     "data": {
      "text/html": [
       "<div>\n",
       "<style scoped>\n",
       "    .dataframe tbody tr th:only-of-type {\n",
       "        vertical-align: middle;\n",
       "    }\n",
       "\n",
       "    .dataframe tbody tr th {\n",
       "        vertical-align: top;\n",
       "    }\n",
       "\n",
       "    .dataframe thead th {\n",
       "        text-align: right;\n",
       "    }\n",
       "</style>\n",
       "<table border=\"1\" class=\"dataframe\">\n",
       "  <thead>\n",
       "    <tr style=\"text-align: right;\">\n",
       "      <th></th>\n",
       "      <th>raceId</th>\n",
       "      <th>driverId</th>\n",
       "      <th>forename</th>\n",
       "      <th>surname</th>\n",
       "      <th>constructorId</th>\n",
       "      <th>constructor</th>\n",
       "      <th>year</th>\n",
       "      <th>round</th>\n",
       "      <th>race</th>\n",
       "      <th>statusId</th>\n",
       "      <th>status</th>\n",
       "      <th>driver</th>\n",
       "      <th>accident</th>\n",
       "    </tr>\n",
       "  </thead>\n",
       "  <tbody>\n",
       "    <tr>\n",
       "      <th>11611</th>\n",
       "      <td>51</td>\n",
       "      <td>1</td>\n",
       "      <td>Lewis</td>\n",
       "      <td>Hamilton</td>\n",
       "      <td>1</td>\n",
       "      <td>McLaren</td>\n",
       "      <td>2007</td>\n",
       "      <td>16</td>\n",
       "      <td>Chinese Grand Prix</td>\n",
       "      <td>20</td>\n",
       "      <td>Spun off</td>\n",
       "      <td>Lewis Hamilton</td>\n",
       "      <td>True</td>\n",
       "    </tr>\n",
       "    <tr>\n",
       "      <th>11612</th>\n",
       "      <td>2</td>\n",
       "      <td>5</td>\n",
       "      <td>Heikki</td>\n",
       "      <td>Kovalainen</td>\n",
       "      <td>1</td>\n",
       "      <td>McLaren</td>\n",
       "      <td>2009</td>\n",
       "      <td>2</td>\n",
       "      <td>Malaysian Grand Prix</td>\n",
       "      <td>20</td>\n",
       "      <td>Spun off</td>\n",
       "      <td>Heikki Kovalainen</td>\n",
       "      <td>True</td>\n",
       "    </tr>\n",
       "    <tr>\n",
       "      <th>11613</th>\n",
       "      <td>135</td>\n",
       "      <td>8</td>\n",
       "      <td>Kimi</td>\n",
       "      <td>Räikkönen</td>\n",
       "      <td>1</td>\n",
       "      <td>McLaren</td>\n",
       "      <td>2002</td>\n",
       "      <td>12</td>\n",
       "      <td>German Grand Prix</td>\n",
       "      <td>20</td>\n",
       "      <td>Spun off</td>\n",
       "      <td>Kimi Räikkönen</td>\n",
       "      <td>True</td>\n",
       "    </tr>\n",
       "    <tr>\n",
       "      <th>11614</th>\n",
       "      <td>188</td>\n",
       "      <td>14</td>\n",
       "      <td>David</td>\n",
       "      <td>Coulthard</td>\n",
       "      <td>1</td>\n",
       "      <td>McLaren</td>\n",
       "      <td>1999</td>\n",
       "      <td>14</td>\n",
       "      <td>European Grand Prix</td>\n",
       "      <td>20</td>\n",
       "      <td>Spun off</td>\n",
       "      <td>David Coulthard</td>\n",
       "      <td>True</td>\n",
       "    </tr>\n",
       "    <tr>\n",
       "      <th>11615</th>\n",
       "      <td>199</td>\n",
       "      <td>14</td>\n",
       "      <td>David</td>\n",
       "      <td>Coulthard</td>\n",
       "      <td>1</td>\n",
       "      <td>McLaren</td>\n",
       "      <td>1998</td>\n",
       "      <td>9</td>\n",
       "      <td>British Grand Prix</td>\n",
       "      <td>20</td>\n",
       "      <td>Spun off</td>\n",
       "      <td>David Coulthard</td>\n",
       "      <td>True</td>\n",
       "    </tr>\n",
       "    <tr>\n",
       "      <th>...</th>\n",
       "      <td>...</td>\n",
       "      <td>...</td>\n",
       "      <td>...</td>\n",
       "      <td>...</td>\n",
       "      <td>...</td>\n",
       "      <td>...</td>\n",
       "      <td>...</td>\n",
       "      <td>...</td>\n",
       "      <td>...</td>\n",
       "      <td>...</td>\n",
       "      <td>...</td>\n",
       "      <td>...</td>\n",
       "      <td>...</td>\n",
       "    </tr>\n",
       "    <tr>\n",
       "      <th>12397</th>\n",
       "      <td>819</td>\n",
       "      <td>663</td>\n",
       "      <td>Ken</td>\n",
       "      <td>Wharton</td>\n",
       "      <td>148</td>\n",
       "      <td>Frazer Nash</td>\n",
       "      <td>1952</td>\n",
       "      <td>3</td>\n",
       "      <td>Belgian Grand Prix</td>\n",
       "      <td>20</td>\n",
       "      <td>Spun off</td>\n",
       "      <td>Ken Wharton</td>\n",
       "      <td>True</td>\n",
       "    </tr>\n",
       "    <tr>\n",
       "      <th>12398</th>\n",
       "      <td>835</td>\n",
       "      <td>797</td>\n",
       "      <td>Jackie</td>\n",
       "      <td>Holmes</td>\n",
       "      <td>159</td>\n",
       "      <td>Olson</td>\n",
       "      <td>1950</td>\n",
       "      <td>3</td>\n",
       "      <td>Indianapolis 500</td>\n",
       "      <td>20</td>\n",
       "      <td>Spun off</td>\n",
       "      <td>Jackie Holmes</td>\n",
       "      <td>True</td>\n",
       "    </tr>\n",
       "    <tr>\n",
       "      <th>12399</th>\n",
       "      <td>1020</td>\n",
       "      <td>815</td>\n",
       "      <td>Sergio</td>\n",
       "      <td>Pérez</td>\n",
       "      <td>211</td>\n",
       "      <td>Racing Point</td>\n",
       "      <td>2019</td>\n",
       "      <td>11</td>\n",
       "      <td>German Grand Prix</td>\n",
       "      <td>20</td>\n",
       "      <td>Spun off</td>\n",
       "      <td>Sergio Pérez</td>\n",
       "      <td>True</td>\n",
       "    </tr>\n",
       "    <tr>\n",
       "      <th>12400</th>\n",
       "      <td>957</td>\n",
       "      <td>836</td>\n",
       "      <td>Pascal</td>\n",
       "      <td>Wehrlein</td>\n",
       "      <td>209</td>\n",
       "      <td>Manor Marussia</td>\n",
       "      <td>2016</td>\n",
       "      <td>10</td>\n",
       "      <td>British Grand Prix</td>\n",
       "      <td>20</td>\n",
       "      <td>Spun off</td>\n",
       "      <td>Pascal Wehrlein</td>\n",
       "      <td>True</td>\n",
       "    </tr>\n",
       "    <tr>\n",
       "      <th>12401</th>\n",
       "      <td>957</td>\n",
       "      <td>837</td>\n",
       "      <td>Rio</td>\n",
       "      <td>Haryanto</td>\n",
       "      <td>209</td>\n",
       "      <td>Manor Marussia</td>\n",
       "      <td>2016</td>\n",
       "      <td>10</td>\n",
       "      <td>British Grand Prix</td>\n",
       "      <td>20</td>\n",
       "      <td>Spun off</td>\n",
       "      <td>Rio Haryanto</td>\n",
       "      <td>True</td>\n",
       "    </tr>\n",
       "  </tbody>\n",
       "</table>\n",
       "<p>791 rows × 13 columns</p>\n",
       "</div>"
      ],
      "text/plain": [
       "       raceId  driverId forename     surname  constructorId     constructor  \\\n",
       "11611      51         1    Lewis    Hamilton              1         McLaren   \n",
       "11612       2         5   Heikki  Kovalainen              1         McLaren   \n",
       "11613     135         8     Kimi   Räikkönen              1         McLaren   \n",
       "11614     188        14    David   Coulthard              1         McLaren   \n",
       "11615     199        14    David   Coulthard              1         McLaren   \n",
       "...       ...       ...      ...         ...            ...             ...   \n",
       "12397     819       663      Ken     Wharton            148     Frazer Nash   \n",
       "12398     835       797   Jackie      Holmes            159           Olson   \n",
       "12399    1020       815   Sergio       Pérez            211    Racing Point   \n",
       "12400     957       836   Pascal    Wehrlein            209  Manor Marussia   \n",
       "12401     957       837      Rio    Haryanto            209  Manor Marussia   \n",
       "\n",
       "       year  round                  race  statusId    status  \\\n",
       "11611  2007     16    Chinese Grand Prix        20  Spun off   \n",
       "11612  2009      2  Malaysian Grand Prix        20  Spun off   \n",
       "11613  2002     12     German Grand Prix        20  Spun off   \n",
       "11614  1999     14   European Grand Prix        20  Spun off   \n",
       "11615  1998      9    British Grand Prix        20  Spun off   \n",
       "...     ...    ...                   ...       ...       ...   \n",
       "12397  1952      3    Belgian Grand Prix        20  Spun off   \n",
       "12398  1950      3      Indianapolis 500        20  Spun off   \n",
       "12399  2019     11     German Grand Prix        20  Spun off   \n",
       "12400  2016     10    British Grand Prix        20  Spun off   \n",
       "12401  2016     10    British Grand Prix        20  Spun off   \n",
       "\n",
       "                  driver  accident  \n",
       "11611     Lewis Hamilton      True  \n",
       "11612  Heikki Kovalainen      True  \n",
       "11613     Kimi Räikkönen      True  \n",
       "11614    David Coulthard      True  \n",
       "11615    David Coulthard      True  \n",
       "...                  ...       ...  \n",
       "12397        Ken Wharton      True  \n",
       "12398      Jackie Holmes      True  \n",
       "12399       Sergio Pérez      True  \n",
       "12400    Pascal Wehrlein      True  \n",
       "12401       Rio Haryanto      True  \n",
       "\n",
       "[791 rows x 13 columns]"
      ]
     },
     "execution_count": 91,
     "metadata": {},
     "output_type": "execute_result"
    }
   ],
   "source": [
    "# check races with particular statuses\n",
    "results_status[results_status['status'] == 'Spun off']"
   ]
  },
  {
   "cell_type": "code",
   "execution_count": 53,
   "metadata": {},
   "outputs": [
    {
     "data": {
      "text/html": [
       "<div>\n",
       "<style scoped>\n",
       "    .dataframe tbody tr th:only-of-type {\n",
       "        vertical-align: middle;\n",
       "    }\n",
       "\n",
       "    .dataframe tbody tr th {\n",
       "        vertical-align: top;\n",
       "    }\n",
       "\n",
       "    .dataframe thead th {\n",
       "        text-align: right;\n",
       "    }\n",
       "</style>\n",
       "<table border=\"1\" class=\"dataframe\">\n",
       "  <thead>\n",
       "    <tr style=\"text-align: right;\">\n",
       "      <th></th>\n",
       "      <th>raceId</th>\n",
       "      <th>driverId</th>\n",
       "      <th>forename</th>\n",
       "      <th>surname</th>\n",
       "      <th>constructorId</th>\n",
       "      <th>constructor</th>\n",
       "      <th>year</th>\n",
       "      <th>round</th>\n",
       "      <th>race</th>\n",
       "      <th>statusId</th>\n",
       "      <th>status</th>\n",
       "      <th>driver</th>\n",
       "    </tr>\n",
       "  </thead>\n",
       "  <tbody>\n",
       "    <tr>\n",
       "      <th>831</th>\n",
       "      <td>1024</td>\n",
       "      <td>832</td>\n",
       "      <td>Carlos</td>\n",
       "      <td>Sainz</td>\n",
       "      <td>1</td>\n",
       "      <td>McLaren</td>\n",
       "      <td>2019</td>\n",
       "      <td>15</td>\n",
       "      <td>Singapore Grand Prix</td>\n",
       "      <td>1</td>\n",
       "      <td>Finished</td>\n",
       "      <td>Carlos Sainz</td>\n",
       "    </tr>\n",
       "    <tr>\n",
       "      <th>857</th>\n",
       "      <td>1024</td>\n",
       "      <td>846</td>\n",
       "      <td>Lando</td>\n",
       "      <td>Norris</td>\n",
       "      <td>1</td>\n",
       "      <td>McLaren</td>\n",
       "      <td>2019</td>\n",
       "      <td>15</td>\n",
       "      <td>Singapore Grand Prix</td>\n",
       "      <td>1</td>\n",
       "      <td>Finished</td>\n",
       "      <td>Lando Norris</td>\n",
       "    </tr>\n",
       "    <tr>\n",
       "      <th>1022</th>\n",
       "      <td>1024</td>\n",
       "      <td>1</td>\n",
       "      <td>Lewis</td>\n",
       "      <td>Hamilton</td>\n",
       "      <td>131</td>\n",
       "      <td>Mercedes</td>\n",
       "      <td>2019</td>\n",
       "      <td>15</td>\n",
       "      <td>Singapore Grand Prix</td>\n",
       "      <td>1</td>\n",
       "      <td>Finished</td>\n",
       "      <td>Lewis Hamilton</td>\n",
       "    </tr>\n",
       "    <tr>\n",
       "      <th>1286</th>\n",
       "      <td>1024</td>\n",
       "      <td>822</td>\n",
       "      <td>Valtteri</td>\n",
       "      <td>Bottas</td>\n",
       "      <td>131</td>\n",
       "      <td>Mercedes</td>\n",
       "      <td>2019</td>\n",
       "      <td>15</td>\n",
       "      <td>Singapore Grand Prix</td>\n",
       "      <td>1</td>\n",
       "      <td>Finished</td>\n",
       "      <td>Valtteri Bottas</td>\n",
       "    </tr>\n",
       "    <tr>\n",
       "      <th>1486</th>\n",
       "      <td>1024</td>\n",
       "      <td>9</td>\n",
       "      <td>Robert</td>\n",
       "      <td>Kubica</td>\n",
       "      <td>3</td>\n",
       "      <td>Williams</td>\n",
       "      <td>2019</td>\n",
       "      <td>15</td>\n",
       "      <td>Singapore Grand Prix</td>\n",
       "      <td>1</td>\n",
       "      <td>Finished</td>\n",
       "      <td>Robert Kubica</td>\n",
       "    </tr>\n",
       "    <tr>\n",
       "      <th>2667</th>\n",
       "      <td>1024</td>\n",
       "      <td>807</td>\n",
       "      <td>Nico</td>\n",
       "      <td>Hülkenberg</td>\n",
       "      <td>4</td>\n",
       "      <td>Renault</td>\n",
       "      <td>2019</td>\n",
       "      <td>15</td>\n",
       "      <td>Singapore Grand Prix</td>\n",
       "      <td>1</td>\n",
       "      <td>Finished</td>\n",
       "      <td>Nico Hülkenberg</td>\n",
       "    </tr>\n",
       "    <tr>\n",
       "      <th>2690</th>\n",
       "      <td>1024</td>\n",
       "      <td>817</td>\n",
       "      <td>Daniel</td>\n",
       "      <td>Ricciardo</td>\n",
       "      <td>4</td>\n",
       "      <td>Renault</td>\n",
       "      <td>2019</td>\n",
       "      <td>15</td>\n",
       "      <td>Singapore Grand Prix</td>\n",
       "      <td>1</td>\n",
       "      <td>Finished</td>\n",
       "      <td>Daniel Ricciardo</td>\n",
       "    </tr>\n",
       "    <tr>\n",
       "      <th>3136</th>\n",
       "      <td>1024</td>\n",
       "      <td>20</td>\n",
       "      <td>Sebastian</td>\n",
       "      <td>Vettel</td>\n",
       "      <td>6</td>\n",
       "      <td>Ferrari</td>\n",
       "      <td>2019</td>\n",
       "      <td>15</td>\n",
       "      <td>Singapore Grand Prix</td>\n",
       "      <td>1</td>\n",
       "      <td>Finished</td>\n",
       "      <td>Sebastian Vettel</td>\n",
       "    </tr>\n",
       "    <tr>\n",
       "      <th>3925</th>\n",
       "      <td>1024</td>\n",
       "      <td>844</td>\n",
       "      <td>Charles</td>\n",
       "      <td>Leclerc</td>\n",
       "      <td>6</td>\n",
       "      <td>Ferrari</td>\n",
       "      <td>2019</td>\n",
       "      <td>15</td>\n",
       "      <td>Singapore Grand Prix</td>\n",
       "      <td>1</td>\n",
       "      <td>Finished</td>\n",
       "      <td>Charles Leclerc</td>\n",
       "    </tr>\n",
       "    <tr>\n",
       "      <th>4221</th>\n",
       "      <td>1024</td>\n",
       "      <td>826</td>\n",
       "      <td>Daniil</td>\n",
       "      <td>Kvyat</td>\n",
       "      <td>5</td>\n",
       "      <td>Toro Rosso</td>\n",
       "      <td>2019</td>\n",
       "      <td>15</td>\n",
       "      <td>Singapore Grand Prix</td>\n",
       "      <td>1</td>\n",
       "      <td>Finished</td>\n",
       "      <td>Daniil Kvyat</td>\n",
       "    </tr>\n",
       "    <tr>\n",
       "      <th>4261</th>\n",
       "      <td>1024</td>\n",
       "      <td>842</td>\n",
       "      <td>Pierre</td>\n",
       "      <td>Gasly</td>\n",
       "      <td>5</td>\n",
       "      <td>Toro Rosso</td>\n",
       "      <td>2019</td>\n",
       "      <td>15</td>\n",
       "      <td>Singapore Grand Prix</td>\n",
       "      <td>1</td>\n",
       "      <td>Finished</td>\n",
       "      <td>Pierre Gasly</td>\n",
       "    </tr>\n",
       "    <tr>\n",
       "      <th>4332</th>\n",
       "      <td>1024</td>\n",
       "      <td>841</td>\n",
       "      <td>Antonio</td>\n",
       "      <td>Giovinazzi</td>\n",
       "      <td>51</td>\n",
       "      <td>Alfa Romeo</td>\n",
       "      <td>2019</td>\n",
       "      <td>15</td>\n",
       "      <td>Singapore Grand Prix</td>\n",
       "      <td>1</td>\n",
       "      <td>Finished</td>\n",
       "      <td>Antonio Giovinazzi</td>\n",
       "    </tr>\n",
       "    <tr>\n",
       "      <th>4921</th>\n",
       "      <td>1024</td>\n",
       "      <td>830</td>\n",
       "      <td>Max</td>\n",
       "      <td>Verstappen</td>\n",
       "      <td>9</td>\n",
       "      <td>Red Bull</td>\n",
       "      <td>2019</td>\n",
       "      <td>15</td>\n",
       "      <td>Singapore Grand Prix</td>\n",
       "      <td>1</td>\n",
       "      <td>Finished</td>\n",
       "      <td>Max Verstappen</td>\n",
       "    </tr>\n",
       "    <tr>\n",
       "      <th>4976</th>\n",
       "      <td>1024</td>\n",
       "      <td>848</td>\n",
       "      <td>Alexander</td>\n",
       "      <td>Albon</td>\n",
       "      <td>9</td>\n",
       "      <td>Red Bull</td>\n",
       "      <td>2019</td>\n",
       "      <td>15</td>\n",
       "      <td>Singapore Grand Prix</td>\n",
       "      <td>1</td>\n",
       "      <td>Finished</td>\n",
       "      <td>Alexander Albon</td>\n",
       "    </tr>\n",
       "    <tr>\n",
       "      <th>6229</th>\n",
       "      <td>1024</td>\n",
       "      <td>154</td>\n",
       "      <td>Romain</td>\n",
       "      <td>Grosjean</td>\n",
       "      <td>210</td>\n",
       "      <td>Haas F1 Team</td>\n",
       "      <td>2019</td>\n",
       "      <td>15</td>\n",
       "      <td>Singapore Grand Prix</td>\n",
       "      <td>1</td>\n",
       "      <td>Finished</td>\n",
       "      <td>Romain Grosjean</td>\n",
       "    </tr>\n",
       "    <tr>\n",
       "      <th>6255</th>\n",
       "      <td>1024</td>\n",
       "      <td>825</td>\n",
       "      <td>Kevin</td>\n",
       "      <td>Magnussen</td>\n",
       "      <td>210</td>\n",
       "      <td>Haas F1 Team</td>\n",
       "      <td>2019</td>\n",
       "      <td>15</td>\n",
       "      <td>Singapore Grand Prix</td>\n",
       "      <td>1</td>\n",
       "      <td>Finished</td>\n",
       "      <td>Kevin Magnussen</td>\n",
       "    </tr>\n",
       "    <tr>\n",
       "      <th>6896</th>\n",
       "      <td>1024</td>\n",
       "      <td>840</td>\n",
       "      <td>Lance</td>\n",
       "      <td>Stroll</td>\n",
       "      <td>211</td>\n",
       "      <td>Racing Point</td>\n",
       "      <td>2019</td>\n",
       "      <td>15</td>\n",
       "      <td>Singapore Grand Prix</td>\n",
       "      <td>1</td>\n",
       "      <td>Finished</td>\n",
       "      <td>Lance Stroll</td>\n",
       "    </tr>\n",
       "    <tr>\n",
       "      <th>10942</th>\n",
       "      <td>1024</td>\n",
       "      <td>847</td>\n",
       "      <td>George</td>\n",
       "      <td>Russell</td>\n",
       "      <td>3</td>\n",
       "      <td>Williams</td>\n",
       "      <td>2019</td>\n",
       "      <td>15</td>\n",
       "      <td>Singapore Grand Prix</td>\n",
       "      <td>4</td>\n",
       "      <td>Collision</td>\n",
       "      <td>George Russell</td>\n",
       "    </tr>\n",
       "    <tr>\n",
       "      <th>11219</th>\n",
       "      <td>1024</td>\n",
       "      <td>8</td>\n",
       "      <td>Kimi</td>\n",
       "      <td>Räikkönen</td>\n",
       "      <td>51</td>\n",
       "      <td>Alfa Romeo</td>\n",
       "      <td>2019</td>\n",
       "      <td>15</td>\n",
       "      <td>Singapore Grand Prix</td>\n",
       "      <td>4</td>\n",
       "      <td>Collision</td>\n",
       "      <td>Kimi Räikkönen</td>\n",
       "    </tr>\n",
       "    <tr>\n",
       "      <th>17002</th>\n",
       "      <td>1024</td>\n",
       "      <td>815</td>\n",
       "      <td>Sergio</td>\n",
       "      <td>Pérez</td>\n",
       "      <td>211</td>\n",
       "      <td>Racing Point</td>\n",
       "      <td>2019</td>\n",
       "      <td>15</td>\n",
       "      <td>Singapore Grand Prix</td>\n",
       "      <td>5</td>\n",
       "      <td>Engine</td>\n",
       "      <td>Sergio Pérez</td>\n",
       "    </tr>\n",
       "  </tbody>\n",
       "</table>\n",
       "</div>"
      ],
      "text/plain": [
       "       raceId  driverId   forename     surname  constructorId   constructor  \\\n",
       "831      1024       832     Carlos       Sainz              1       McLaren   \n",
       "857      1024       846      Lando      Norris              1       McLaren   \n",
       "1022     1024         1      Lewis    Hamilton            131      Mercedes   \n",
       "1286     1024       822   Valtteri      Bottas            131      Mercedes   \n",
       "1486     1024         9     Robert      Kubica              3      Williams   \n",
       "2667     1024       807       Nico  Hülkenberg              4       Renault   \n",
       "2690     1024       817     Daniel   Ricciardo              4       Renault   \n",
       "3136     1024        20  Sebastian      Vettel              6       Ferrari   \n",
       "3925     1024       844    Charles     Leclerc              6       Ferrari   \n",
       "4221     1024       826     Daniil       Kvyat              5    Toro Rosso   \n",
       "4261     1024       842     Pierre       Gasly              5    Toro Rosso   \n",
       "4332     1024       841    Antonio  Giovinazzi             51    Alfa Romeo   \n",
       "4921     1024       830        Max  Verstappen              9      Red Bull   \n",
       "4976     1024       848  Alexander       Albon              9      Red Bull   \n",
       "6229     1024       154     Romain    Grosjean            210  Haas F1 Team   \n",
       "6255     1024       825      Kevin   Magnussen            210  Haas F1 Team   \n",
       "6896     1024       840      Lance      Stroll            211  Racing Point   \n",
       "10942    1024       847     George     Russell              3      Williams   \n",
       "11219    1024         8       Kimi   Räikkönen             51    Alfa Romeo   \n",
       "17002    1024       815     Sergio       Pérez            211  Racing Point   \n",
       "\n",
       "       year  round                  race  statusId     status  \\\n",
       "831    2019     15  Singapore Grand Prix         1   Finished   \n",
       "857    2019     15  Singapore Grand Prix         1   Finished   \n",
       "1022   2019     15  Singapore Grand Prix         1   Finished   \n",
       "1286   2019     15  Singapore Grand Prix         1   Finished   \n",
       "1486   2019     15  Singapore Grand Prix         1   Finished   \n",
       "2667   2019     15  Singapore Grand Prix         1   Finished   \n",
       "2690   2019     15  Singapore Grand Prix         1   Finished   \n",
       "3136   2019     15  Singapore Grand Prix         1   Finished   \n",
       "3925   2019     15  Singapore Grand Prix         1   Finished   \n",
       "4221   2019     15  Singapore Grand Prix         1   Finished   \n",
       "4261   2019     15  Singapore Grand Prix         1   Finished   \n",
       "4332   2019     15  Singapore Grand Prix         1   Finished   \n",
       "4921   2019     15  Singapore Grand Prix         1   Finished   \n",
       "4976   2019     15  Singapore Grand Prix         1   Finished   \n",
       "6229   2019     15  Singapore Grand Prix         1   Finished   \n",
       "6255   2019     15  Singapore Grand Prix         1   Finished   \n",
       "6896   2019     15  Singapore Grand Prix         1   Finished   \n",
       "10942  2019     15  Singapore Grand Prix         4  Collision   \n",
       "11219  2019     15  Singapore Grand Prix         4  Collision   \n",
       "17002  2019     15  Singapore Grand Prix         5     Engine   \n",
       "\n",
       "                   driver  \n",
       "831          Carlos Sainz  \n",
       "857          Lando Norris  \n",
       "1022       Lewis Hamilton  \n",
       "1286      Valtteri Bottas  \n",
       "1486        Robert Kubica  \n",
       "2667      Nico Hülkenberg  \n",
       "2690     Daniel Ricciardo  \n",
       "3136     Sebastian Vettel  \n",
       "3925      Charles Leclerc  \n",
       "4221         Daniil Kvyat  \n",
       "4261         Pierre Gasly  \n",
       "4332   Antonio Giovinazzi  \n",
       "4921       Max Verstappen  \n",
       "4976      Alexander Albon  \n",
       "6229      Romain Grosjean  \n",
       "6255      Kevin Magnussen  \n",
       "6896         Lance Stroll  \n",
       "10942      George Russell  \n",
       "11219      Kimi Räikkönen  \n",
       "17002        Sergio Pérez  "
      ]
     },
     "execution_count": 53,
     "metadata": {},
     "output_type": "execute_result"
    }
   ],
   "source": [
    "# look up race results by raceid\n",
    "results_status[results_status['raceId'] == 1024]"
   ]
  },
  {
   "cell_type": "code",
   "execution_count": 43,
   "metadata": {},
   "outputs": [
    {
     "data": {
      "text/html": [
       "<div>\n",
       "<style scoped>\n",
       "    .dataframe tbody tr th:only-of-type {\n",
       "        vertical-align: middle;\n",
       "    }\n",
       "\n",
       "    .dataframe tbody tr th {\n",
       "        vertical-align: top;\n",
       "    }\n",
       "\n",
       "    .dataframe thead th {\n",
       "        text-align: right;\n",
       "    }\n",
       "</style>\n",
       "<table border=\"1\" class=\"dataframe\">\n",
       "  <thead>\n",
       "    <tr style=\"text-align: right;\">\n",
       "      <th></th>\n",
       "      <th>raceId</th>\n",
       "      <th>driverId</th>\n",
       "      <th>forename</th>\n",
       "      <th>surname</th>\n",
       "      <th>constructorId</th>\n",
       "      <th>constructor</th>\n",
       "      <th>year</th>\n",
       "      <th>round</th>\n",
       "      <th>race</th>\n",
       "      <th>statusId</th>\n",
       "      <th>status</th>\n",
       "      <th>driver</th>\n",
       "    </tr>\n",
       "  </thead>\n",
       "  <tbody>\n",
       "    <tr>\n",
       "      <th>8818</th>\n",
       "      <td>1052</td>\n",
       "      <td>841</td>\n",
       "      <td>Antonio</td>\n",
       "      <td>Giovinazzi</td>\n",
       "      <td>51</td>\n",
       "      <td>Alfa Romeo</td>\n",
       "      <td>2021</td>\n",
       "      <td>1</td>\n",
       "      <td>Bahrain Grand Prix</td>\n",
       "      <td>11</td>\n",
       "      <td>+1 Lap</td>\n",
       "      <td>Antonio Giovinazzi</td>\n",
       "    </tr>\n",
       "    <tr>\n",
       "      <th>4283</th>\n",
       "      <td>1052</td>\n",
       "      <td>8</td>\n",
       "      <td>Kimi</td>\n",
       "      <td>Räikkönen</td>\n",
       "      <td>51</td>\n",
       "      <td>Alfa Romeo</td>\n",
       "      <td>2021</td>\n",
       "      <td>1</td>\n",
       "      <td>Bahrain Grand Prix</td>\n",
       "      <td>1</td>\n",
       "      <td>Finished</td>\n",
       "      <td>Kimi Räikkönen</td>\n",
       "    </tr>\n",
       "    <tr>\n",
       "      <th>17251</th>\n",
       "      <td>1052</td>\n",
       "      <td>842</td>\n",
       "      <td>Pierre</td>\n",
       "      <td>Gasly</td>\n",
       "      <td>213</td>\n",
       "      <td>AlphaTauri</td>\n",
       "      <td>2021</td>\n",
       "      <td>1</td>\n",
       "      <td>Bahrain Grand Prix</td>\n",
       "      <td>31</td>\n",
       "      <td>Retired</td>\n",
       "      <td>Pierre Gasly</td>\n",
       "    </tr>\n",
       "    <tr>\n",
       "      <th>6945</th>\n",
       "      <td>1052</td>\n",
       "      <td>852</td>\n",
       "      <td>Yuki</td>\n",
       "      <td>Tsunoda</td>\n",
       "      <td>213</td>\n",
       "      <td>AlphaTauri</td>\n",
       "      <td>2021</td>\n",
       "      <td>1</td>\n",
       "      <td>Bahrain Grand Prix</td>\n",
       "      <td>1</td>\n",
       "      <td>Finished</td>\n",
       "      <td>Yuki Tsunoda</td>\n",
       "    </tr>\n",
       "    <tr>\n",
       "      <th>13657</th>\n",
       "      <td>1052</td>\n",
       "      <td>4</td>\n",
       "      <td>Fernando</td>\n",
       "      <td>Alonso</td>\n",
       "      <td>214</td>\n",
       "      <td>Alpine F1 Team</td>\n",
       "      <td>2021</td>\n",
       "      <td>1</td>\n",
       "      <td>Bahrain Grand Prix</td>\n",
       "      <td>23</td>\n",
       "      <td>Brakes</td>\n",
       "      <td>Fernando Alonso</td>\n",
       "    </tr>\n",
       "    <tr>\n",
       "      <th>8427</th>\n",
       "      <td>1052</td>\n",
       "      <td>839</td>\n",
       "      <td>Esteban</td>\n",
       "      <td>Ocon</td>\n",
       "      <td>214</td>\n",
       "      <td>Alpine F1 Team</td>\n",
       "      <td>2021</td>\n",
       "      <td>1</td>\n",
       "      <td>Bahrain Grand Prix</td>\n",
       "      <td>11</td>\n",
       "      <td>+1 Lap</td>\n",
       "      <td>Esteban Ocon</td>\n",
       "    </tr>\n",
       "    <tr>\n",
       "      <th>9433</th>\n",
       "      <td>1052</td>\n",
       "      <td>20</td>\n",
       "      <td>Sebastian</td>\n",
       "      <td>Vettel</td>\n",
       "      <td>117</td>\n",
       "      <td>Aston Martin</td>\n",
       "      <td>2021</td>\n",
       "      <td>1</td>\n",
       "      <td>Bahrain Grand Prix</td>\n",
       "      <td>11</td>\n",
       "      <td>+1 Lap</td>\n",
       "      <td>Sebastian Vettel</td>\n",
       "    </tr>\n",
       "    <tr>\n",
       "      <th>5500</th>\n",
       "      <td>1052</td>\n",
       "      <td>840</td>\n",
       "      <td>Lance</td>\n",
       "      <td>Stroll</td>\n",
       "      <td>117</td>\n",
       "      <td>Aston Martin</td>\n",
       "      <td>2021</td>\n",
       "      <td>1</td>\n",
       "      <td>Bahrain Grand Prix</td>\n",
       "      <td>1</td>\n",
       "      <td>Finished</td>\n",
       "      <td>Lance Stroll</td>\n",
       "    </tr>\n",
       "    <tr>\n",
       "      <th>3940</th>\n",
       "      <td>1052</td>\n",
       "      <td>844</td>\n",
       "      <td>Charles</td>\n",
       "      <td>Leclerc</td>\n",
       "      <td>6</td>\n",
       "      <td>Ferrari</td>\n",
       "      <td>2021</td>\n",
       "      <td>1</td>\n",
       "      <td>Bahrain Grand Prix</td>\n",
       "      <td>1</td>\n",
       "      <td>Finished</td>\n",
       "      <td>Charles Leclerc</td>\n",
       "    </tr>\n",
       "    <tr>\n",
       "      <th>3885</th>\n",
       "      <td>1052</td>\n",
       "      <td>832</td>\n",
       "      <td>Carlos</td>\n",
       "      <td>Sainz</td>\n",
       "      <td>6</td>\n",
       "      <td>Ferrari</td>\n",
       "      <td>2021</td>\n",
       "      <td>1</td>\n",
       "      <td>Bahrain Grand Prix</td>\n",
       "      <td>1</td>\n",
       "      <td>Finished</td>\n",
       "      <td>Carlos Sainz</td>\n",
       "    </tr>\n",
       "    <tr>\n",
       "      <th>10338</th>\n",
       "      <td>1052</td>\n",
       "      <td>854</td>\n",
       "      <td>Mick</td>\n",
       "      <td>Schumacher</td>\n",
       "      <td>210</td>\n",
       "      <td>Haas F1 Team</td>\n",
       "      <td>2021</td>\n",
       "      <td>1</td>\n",
       "      <td>Bahrain Grand Prix</td>\n",
       "      <td>11</td>\n",
       "      <td>+1 Lap</td>\n",
       "      <td>Mick Schumacher</td>\n",
       "    </tr>\n",
       "    <tr>\n",
       "      <th>13288</th>\n",
       "      <td>1052</td>\n",
       "      <td>853</td>\n",
       "      <td>Nikita</td>\n",
       "      <td>Mazepin</td>\n",
       "      <td>210</td>\n",
       "      <td>Haas F1 Team</td>\n",
       "      <td>2021</td>\n",
       "      <td>1</td>\n",
       "      <td>Bahrain Grand Prix</td>\n",
       "      <td>3</td>\n",
       "      <td>Accident</td>\n",
       "      <td>Nikita Mazepin</td>\n",
       "    </tr>\n",
       "    <tr>\n",
       "      <th>873</th>\n",
       "      <td>1052</td>\n",
       "      <td>846</td>\n",
       "      <td>Lando</td>\n",
       "      <td>Norris</td>\n",
       "      <td>1</td>\n",
       "      <td>McLaren</td>\n",
       "      <td>2021</td>\n",
       "      <td>1</td>\n",
       "      <td>Bahrain Grand Prix</td>\n",
       "      <td>1</td>\n",
       "      <td>Finished</td>\n",
       "      <td>Lando Norris</td>\n",
       "    </tr>\n",
       "    <tr>\n",
       "      <th>792</th>\n",
       "      <td>1052</td>\n",
       "      <td>817</td>\n",
       "      <td>Daniel</td>\n",
       "      <td>Ricciardo</td>\n",
       "      <td>1</td>\n",
       "      <td>McLaren</td>\n",
       "      <td>2021</td>\n",
       "      <td>1</td>\n",
       "      <td>Bahrain Grand Prix</td>\n",
       "      <td>1</td>\n",
       "      <td>Finished</td>\n",
       "      <td>Daniel Ricciardo</td>\n",
       "    </tr>\n",
       "    <tr>\n",
       "      <th>1307</th>\n",
       "      <td>1052</td>\n",
       "      <td>822</td>\n",
       "      <td>Valtteri</td>\n",
       "      <td>Bottas</td>\n",
       "      <td>131</td>\n",
       "      <td>Mercedes</td>\n",
       "      <td>2021</td>\n",
       "      <td>1</td>\n",
       "      <td>Bahrain Grand Prix</td>\n",
       "      <td>1</td>\n",
       "      <td>Finished</td>\n",
       "      <td>Valtteri Bottas</td>\n",
       "    </tr>\n",
       "    <tr>\n",
       "      <th>1045</th>\n",
       "      <td>1052</td>\n",
       "      <td>1</td>\n",
       "      <td>Lewis</td>\n",
       "      <td>Hamilton</td>\n",
       "      <td>131</td>\n",
       "      <td>Mercedes</td>\n",
       "      <td>2021</td>\n",
       "      <td>1</td>\n",
       "      <td>Bahrain Grand Prix</td>\n",
       "      <td>1</td>\n",
       "      <td>Finished</td>\n",
       "      <td>Lewis Hamilton</td>\n",
       "    </tr>\n",
       "    <tr>\n",
       "      <th>4939</th>\n",
       "      <td>1052</td>\n",
       "      <td>830</td>\n",
       "      <td>Max</td>\n",
       "      <td>Verstappen</td>\n",
       "      <td>9</td>\n",
       "      <td>Red Bull</td>\n",
       "      <td>2021</td>\n",
       "      <td>1</td>\n",
       "      <td>Bahrain Grand Prix</td>\n",
       "      <td>1</td>\n",
       "      <td>Finished</td>\n",
       "      <td>Max Verstappen</td>\n",
       "    </tr>\n",
       "    <tr>\n",
       "      <th>4757</th>\n",
       "      <td>1052</td>\n",
       "      <td>815</td>\n",
       "      <td>Sergio</td>\n",
       "      <td>Pérez</td>\n",
       "      <td>9</td>\n",
       "      <td>Red Bull</td>\n",
       "      <td>2021</td>\n",
       "      <td>1</td>\n",
       "      <td>Bahrain Grand Prix</td>\n",
       "      <td>1</td>\n",
       "      <td>Finished</td>\n",
       "      <td>Sergio Pérez</td>\n",
       "    </tr>\n",
       "    <tr>\n",
       "      <th>17174</th>\n",
       "      <td>1052</td>\n",
       "      <td>849</td>\n",
       "      <td>Nicholas</td>\n",
       "      <td>Latifi</td>\n",
       "      <td>3</td>\n",
       "      <td>Williams</td>\n",
       "      <td>2021</td>\n",
       "      <td>1</td>\n",
       "      <td>Bahrain Grand Prix</td>\n",
       "      <td>31</td>\n",
       "      <td>Retired</td>\n",
       "      <td>Nicholas Latifi</td>\n",
       "    </tr>\n",
       "    <tr>\n",
       "      <th>7528</th>\n",
       "      <td>1052</td>\n",
       "      <td>847</td>\n",
       "      <td>George</td>\n",
       "      <td>Russell</td>\n",
       "      <td>3</td>\n",
       "      <td>Williams</td>\n",
       "      <td>2021</td>\n",
       "      <td>1</td>\n",
       "      <td>Bahrain Grand Prix</td>\n",
       "      <td>11</td>\n",
       "      <td>+1 Lap</td>\n",
       "      <td>George Russell</td>\n",
       "    </tr>\n",
       "  </tbody>\n",
       "</table>\n",
       "</div>"
      ],
      "text/plain": [
       "       raceId  driverId   forename     surname  constructorId     constructor  \\\n",
       "8818     1052       841    Antonio  Giovinazzi             51      Alfa Romeo   \n",
       "4283     1052         8       Kimi   Räikkönen             51      Alfa Romeo   \n",
       "17251    1052       842     Pierre       Gasly            213      AlphaTauri   \n",
       "6945     1052       852       Yuki     Tsunoda            213      AlphaTauri   \n",
       "13657    1052         4   Fernando      Alonso            214  Alpine F1 Team   \n",
       "8427     1052       839    Esteban        Ocon            214  Alpine F1 Team   \n",
       "9433     1052        20  Sebastian      Vettel            117    Aston Martin   \n",
       "5500     1052       840      Lance      Stroll            117    Aston Martin   \n",
       "3940     1052       844    Charles     Leclerc              6         Ferrari   \n",
       "3885     1052       832     Carlos       Sainz              6         Ferrari   \n",
       "10338    1052       854       Mick  Schumacher            210    Haas F1 Team   \n",
       "13288    1052       853     Nikita     Mazepin            210    Haas F1 Team   \n",
       "873      1052       846      Lando      Norris              1         McLaren   \n",
       "792      1052       817     Daniel   Ricciardo              1         McLaren   \n",
       "1307     1052       822   Valtteri      Bottas            131        Mercedes   \n",
       "1045     1052         1      Lewis    Hamilton            131        Mercedes   \n",
       "4939     1052       830        Max  Verstappen              9        Red Bull   \n",
       "4757     1052       815     Sergio       Pérez              9        Red Bull   \n",
       "17174    1052       849   Nicholas      Latifi              3        Williams   \n",
       "7528     1052       847     George     Russell              3        Williams   \n",
       "\n",
       "       year  round                race  statusId    status              driver  \n",
       "8818   2021      1  Bahrain Grand Prix        11    +1 Lap  Antonio Giovinazzi  \n",
       "4283   2021      1  Bahrain Grand Prix         1  Finished      Kimi Räikkönen  \n",
       "17251  2021      1  Bahrain Grand Prix        31   Retired        Pierre Gasly  \n",
       "6945   2021      1  Bahrain Grand Prix         1  Finished        Yuki Tsunoda  \n",
       "13657  2021      1  Bahrain Grand Prix        23    Brakes     Fernando Alonso  \n",
       "8427   2021      1  Bahrain Grand Prix        11    +1 Lap        Esteban Ocon  \n",
       "9433   2021      1  Bahrain Grand Prix        11    +1 Lap    Sebastian Vettel  \n",
       "5500   2021      1  Bahrain Grand Prix         1  Finished        Lance Stroll  \n",
       "3940   2021      1  Bahrain Grand Prix         1  Finished     Charles Leclerc  \n",
       "3885   2021      1  Bahrain Grand Prix         1  Finished        Carlos Sainz  \n",
       "10338  2021      1  Bahrain Grand Prix        11    +1 Lap     Mick Schumacher  \n",
       "13288  2021      1  Bahrain Grand Prix         3  Accident      Nikita Mazepin  \n",
       "873    2021      1  Bahrain Grand Prix         1  Finished        Lando Norris  \n",
       "792    2021      1  Bahrain Grand Prix         1  Finished    Daniel Ricciardo  \n",
       "1307   2021      1  Bahrain Grand Prix         1  Finished     Valtteri Bottas  \n",
       "1045   2021      1  Bahrain Grand Prix         1  Finished      Lewis Hamilton  \n",
       "4939   2021      1  Bahrain Grand Prix         1  Finished      Max Verstappen  \n",
       "4757   2021      1  Bahrain Grand Prix         1  Finished        Sergio Pérez  \n",
       "17174  2021      1  Bahrain Grand Prix        31   Retired     Nicholas Latifi  \n",
       "7528   2021      1  Bahrain Grand Prix        11    +1 Lap      George Russell  "
      ]
     },
     "execution_count": 43,
     "metadata": {},
     "output_type": "execute_result"
    }
   ],
   "source": [
    "# look up race results by year/round\n",
    "results_status[(results_status['year'] == 2021) & (results_status['round'] == 1)].sort_values('constructor')"
   ]
  },
  {
   "cell_type": "code",
   "execution_count": 48,
   "metadata": {},
   "outputs": [
    {
     "data": {
      "text/html": [
       "<div>\n",
       "<style scoped>\n",
       "    .dataframe tbody tr th:only-of-type {\n",
       "        vertical-align: middle;\n",
       "    }\n",
       "\n",
       "    .dataframe tbody tr th {\n",
       "        vertical-align: top;\n",
       "    }\n",
       "\n",
       "    .dataframe thead th {\n",
       "        text-align: right;\n",
       "    }\n",
       "</style>\n",
       "<table border=\"1\" class=\"dataframe\">\n",
       "  <thead>\n",
       "    <tr style=\"text-align: right;\">\n",
       "      <th></th>\n",
       "      <th>raceId</th>\n",
       "      <th>driverId</th>\n",
       "      <th>forename</th>\n",
       "      <th>surname</th>\n",
       "      <th>constructorId</th>\n",
       "      <th>constructor</th>\n",
       "      <th>round</th>\n",
       "      <th>race</th>\n",
       "      <th>statusId</th>\n",
       "      <th>status</th>\n",
       "      <th>driver</th>\n",
       "    </tr>\n",
       "    <tr>\n",
       "      <th>year</th>\n",
       "      <th></th>\n",
       "      <th></th>\n",
       "      <th></th>\n",
       "      <th></th>\n",
       "      <th></th>\n",
       "      <th></th>\n",
       "      <th></th>\n",
       "      <th></th>\n",
       "      <th></th>\n",
       "      <th></th>\n",
       "      <th></th>\n",
       "    </tr>\n",
       "  </thead>\n",
       "  <tbody>\n",
       "    <tr>\n",
       "      <th>1950</th>\n",
       "      <td>6</td>\n",
       "      <td>6</td>\n",
       "      <td>6</td>\n",
       "      <td>6</td>\n",
       "      <td>6</td>\n",
       "      <td>6</td>\n",
       "      <td>6</td>\n",
       "      <td>6</td>\n",
       "      <td>6</td>\n",
       "      <td>6</td>\n",
       "      <td>6</td>\n",
       "    </tr>\n",
       "    <tr>\n",
       "      <th>1951</th>\n",
       "      <td>7</td>\n",
       "      <td>7</td>\n",
       "      <td>7</td>\n",
       "      <td>7</td>\n",
       "      <td>7</td>\n",
       "      <td>7</td>\n",
       "      <td>7</td>\n",
       "      <td>7</td>\n",
       "      <td>7</td>\n",
       "      <td>7</td>\n",
       "      <td>7</td>\n",
       "    </tr>\n",
       "    <tr>\n",
       "      <th>1952</th>\n",
       "      <td>8</td>\n",
       "      <td>8</td>\n",
       "      <td>8</td>\n",
       "      <td>8</td>\n",
       "      <td>8</td>\n",
       "      <td>8</td>\n",
       "      <td>8</td>\n",
       "      <td>8</td>\n",
       "      <td>8</td>\n",
       "      <td>8</td>\n",
       "      <td>8</td>\n",
       "    </tr>\n",
       "    <tr>\n",
       "      <th>1953</th>\n",
       "      <td>23</td>\n",
       "      <td>23</td>\n",
       "      <td>23</td>\n",
       "      <td>23</td>\n",
       "      <td>23</td>\n",
       "      <td>23</td>\n",
       "      <td>23</td>\n",
       "      <td>23</td>\n",
       "      <td>23</td>\n",
       "      <td>23</td>\n",
       "      <td>23</td>\n",
       "    </tr>\n",
       "    <tr>\n",
       "      <th>1954</th>\n",
       "      <td>19</td>\n",
       "      <td>19</td>\n",
       "      <td>19</td>\n",
       "      <td>19</td>\n",
       "      <td>19</td>\n",
       "      <td>19</td>\n",
       "      <td>19</td>\n",
       "      <td>19</td>\n",
       "      <td>19</td>\n",
       "      <td>19</td>\n",
       "      <td>19</td>\n",
       "    </tr>\n",
       "    <tr>\n",
       "      <th>1955</th>\n",
       "      <td>12</td>\n",
       "      <td>12</td>\n",
       "      <td>12</td>\n",
       "      <td>12</td>\n",
       "      <td>12</td>\n",
       "      <td>12</td>\n",
       "      <td>12</td>\n",
       "      <td>12</td>\n",
       "      <td>12</td>\n",
       "      <td>12</td>\n",
       "      <td>12</td>\n",
       "    </tr>\n",
       "    <tr>\n",
       "      <th>1956</th>\n",
       "      <td>9</td>\n",
       "      <td>9</td>\n",
       "      <td>9</td>\n",
       "      <td>9</td>\n",
       "      <td>9</td>\n",
       "      <td>9</td>\n",
       "      <td>9</td>\n",
       "      <td>9</td>\n",
       "      <td>9</td>\n",
       "      <td>9</td>\n",
       "      <td>9</td>\n",
       "    </tr>\n",
       "    <tr>\n",
       "      <th>1957</th>\n",
       "      <td>10</td>\n",
       "      <td>10</td>\n",
       "      <td>10</td>\n",
       "      <td>10</td>\n",
       "      <td>10</td>\n",
       "      <td>10</td>\n",
       "      <td>10</td>\n",
       "      <td>10</td>\n",
       "      <td>10</td>\n",
       "      <td>10</td>\n",
       "      <td>10</td>\n",
       "    </tr>\n",
       "    <tr>\n",
       "      <th>1958</th>\n",
       "      <td>16</td>\n",
       "      <td>16</td>\n",
       "      <td>16</td>\n",
       "      <td>16</td>\n",
       "      <td>16</td>\n",
       "      <td>16</td>\n",
       "      <td>16</td>\n",
       "      <td>16</td>\n",
       "      <td>16</td>\n",
       "      <td>16</td>\n",
       "      <td>16</td>\n",
       "    </tr>\n",
       "    <tr>\n",
       "      <th>1959</th>\n",
       "      <td>10</td>\n",
       "      <td>10</td>\n",
       "      <td>10</td>\n",
       "      <td>10</td>\n",
       "      <td>10</td>\n",
       "      <td>10</td>\n",
       "      <td>10</td>\n",
       "      <td>10</td>\n",
       "      <td>10</td>\n",
       "      <td>10</td>\n",
       "      <td>10</td>\n",
       "    </tr>\n",
       "    <tr>\n",
       "      <th>1960</th>\n",
       "      <td>18</td>\n",
       "      <td>18</td>\n",
       "      <td>18</td>\n",
       "      <td>18</td>\n",
       "      <td>18</td>\n",
       "      <td>18</td>\n",
       "      <td>18</td>\n",
       "      <td>18</td>\n",
       "      <td>18</td>\n",
       "      <td>18</td>\n",
       "      <td>18</td>\n",
       "    </tr>\n",
       "    <tr>\n",
       "      <th>1961</th>\n",
       "      <td>13</td>\n",
       "      <td>13</td>\n",
       "      <td>13</td>\n",
       "      <td>13</td>\n",
       "      <td>13</td>\n",
       "      <td>13</td>\n",
       "      <td>13</td>\n",
       "      <td>13</td>\n",
       "      <td>13</td>\n",
       "      <td>13</td>\n",
       "      <td>13</td>\n",
       "    </tr>\n",
       "    <tr>\n",
       "      <th>1962</th>\n",
       "      <td>18</td>\n",
       "      <td>18</td>\n",
       "      <td>18</td>\n",
       "      <td>18</td>\n",
       "      <td>18</td>\n",
       "      <td>18</td>\n",
       "      <td>18</td>\n",
       "      <td>18</td>\n",
       "      <td>18</td>\n",
       "      <td>18</td>\n",
       "      <td>18</td>\n",
       "    </tr>\n",
       "    <tr>\n",
       "      <th>1963</th>\n",
       "      <td>19</td>\n",
       "      <td>19</td>\n",
       "      <td>19</td>\n",
       "      <td>19</td>\n",
       "      <td>19</td>\n",
       "      <td>19</td>\n",
       "      <td>19</td>\n",
       "      <td>19</td>\n",
       "      <td>19</td>\n",
       "      <td>19</td>\n",
       "      <td>19</td>\n",
       "    </tr>\n",
       "    <tr>\n",
       "      <th>1964</th>\n",
       "      <td>26</td>\n",
       "      <td>26</td>\n",
       "      <td>26</td>\n",
       "      <td>26</td>\n",
       "      <td>26</td>\n",
       "      <td>26</td>\n",
       "      <td>26</td>\n",
       "      <td>26</td>\n",
       "      <td>26</td>\n",
       "      <td>26</td>\n",
       "      <td>26</td>\n",
       "    </tr>\n",
       "    <tr>\n",
       "      <th>1965</th>\n",
       "      <td>24</td>\n",
       "      <td>24</td>\n",
       "      <td>24</td>\n",
       "      <td>24</td>\n",
       "      <td>24</td>\n",
       "      <td>24</td>\n",
       "      <td>24</td>\n",
       "      <td>24</td>\n",
       "      <td>24</td>\n",
       "      <td>24</td>\n",
       "      <td>24</td>\n",
       "    </tr>\n",
       "    <tr>\n",
       "      <th>1966</th>\n",
       "      <td>13</td>\n",
       "      <td>13</td>\n",
       "      <td>13</td>\n",
       "      <td>13</td>\n",
       "      <td>13</td>\n",
       "      <td>13</td>\n",
       "      <td>13</td>\n",
       "      <td>13</td>\n",
       "      <td>13</td>\n",
       "      <td>13</td>\n",
       "      <td>13</td>\n",
       "    </tr>\n",
       "    <tr>\n",
       "      <th>1967</th>\n",
       "      <td>15</td>\n",
       "      <td>15</td>\n",
       "      <td>15</td>\n",
       "      <td>15</td>\n",
       "      <td>15</td>\n",
       "      <td>15</td>\n",
       "      <td>15</td>\n",
       "      <td>15</td>\n",
       "      <td>15</td>\n",
       "      <td>15</td>\n",
       "      <td>15</td>\n",
       "    </tr>\n",
       "    <tr>\n",
       "      <th>1968</th>\n",
       "      <td>17</td>\n",
       "      <td>17</td>\n",
       "      <td>17</td>\n",
       "      <td>17</td>\n",
       "      <td>17</td>\n",
       "      <td>17</td>\n",
       "      <td>17</td>\n",
       "      <td>17</td>\n",
       "      <td>17</td>\n",
       "      <td>17</td>\n",
       "      <td>17</td>\n",
       "    </tr>\n",
       "    <tr>\n",
       "      <th>1969</th>\n",
       "      <td>10</td>\n",
       "      <td>10</td>\n",
       "      <td>10</td>\n",
       "      <td>10</td>\n",
       "      <td>10</td>\n",
       "      <td>10</td>\n",
       "      <td>10</td>\n",
       "      <td>10</td>\n",
       "      <td>10</td>\n",
       "      <td>10</td>\n",
       "      <td>10</td>\n",
       "    </tr>\n",
       "    <tr>\n",
       "      <th>1970</th>\n",
       "      <td>33</td>\n",
       "      <td>33</td>\n",
       "      <td>33</td>\n",
       "      <td>33</td>\n",
       "      <td>33</td>\n",
       "      <td>33</td>\n",
       "      <td>33</td>\n",
       "      <td>33</td>\n",
       "      <td>33</td>\n",
       "      <td>33</td>\n",
       "      <td>33</td>\n",
       "    </tr>\n",
       "    <tr>\n",
       "      <th>1971</th>\n",
       "      <td>26</td>\n",
       "      <td>26</td>\n",
       "      <td>26</td>\n",
       "      <td>26</td>\n",
       "      <td>26</td>\n",
       "      <td>26</td>\n",
       "      <td>26</td>\n",
       "      <td>26</td>\n",
       "      <td>26</td>\n",
       "      <td>26</td>\n",
       "      <td>26</td>\n",
       "    </tr>\n",
       "    <tr>\n",
       "      <th>1972</th>\n",
       "      <td>40</td>\n",
       "      <td>40</td>\n",
       "      <td>40</td>\n",
       "      <td>40</td>\n",
       "      <td>40</td>\n",
       "      <td>40</td>\n",
       "      <td>40</td>\n",
       "      <td>40</td>\n",
       "      <td>40</td>\n",
       "      <td>40</td>\n",
       "      <td>40</td>\n",
       "    </tr>\n",
       "    <tr>\n",
       "      <th>1973</th>\n",
       "      <td>40</td>\n",
       "      <td>40</td>\n",
       "      <td>40</td>\n",
       "      <td>40</td>\n",
       "      <td>40</td>\n",
       "      <td>40</td>\n",
       "      <td>40</td>\n",
       "      <td>40</td>\n",
       "      <td>40</td>\n",
       "      <td>40</td>\n",
       "      <td>40</td>\n",
       "    </tr>\n",
       "    <tr>\n",
       "      <th>1974</th>\n",
       "      <td>48</td>\n",
       "      <td>48</td>\n",
       "      <td>48</td>\n",
       "      <td>48</td>\n",
       "      <td>48</td>\n",
       "      <td>48</td>\n",
       "      <td>48</td>\n",
       "      <td>48</td>\n",
       "      <td>48</td>\n",
       "      <td>48</td>\n",
       "      <td>48</td>\n",
       "    </tr>\n",
       "    <tr>\n",
       "      <th>1975</th>\n",
       "      <td>46</td>\n",
       "      <td>46</td>\n",
       "      <td>46</td>\n",
       "      <td>46</td>\n",
       "      <td>46</td>\n",
       "      <td>46</td>\n",
       "      <td>46</td>\n",
       "      <td>46</td>\n",
       "      <td>46</td>\n",
       "      <td>46</td>\n",
       "      <td>46</td>\n",
       "    </tr>\n",
       "    <tr>\n",
       "      <th>1976</th>\n",
       "      <td>69</td>\n",
       "      <td>69</td>\n",
       "      <td>69</td>\n",
       "      <td>69</td>\n",
       "      <td>69</td>\n",
       "      <td>69</td>\n",
       "      <td>69</td>\n",
       "      <td>69</td>\n",
       "      <td>69</td>\n",
       "      <td>69</td>\n",
       "      <td>69</td>\n",
       "    </tr>\n",
       "    <tr>\n",
       "      <th>1977</th>\n",
       "      <td>45</td>\n",
       "      <td>45</td>\n",
       "      <td>45</td>\n",
       "      <td>45</td>\n",
       "      <td>45</td>\n",
       "      <td>45</td>\n",
       "      <td>45</td>\n",
       "      <td>45</td>\n",
       "      <td>45</td>\n",
       "      <td>45</td>\n",
       "      <td>45</td>\n",
       "    </tr>\n",
       "    <tr>\n",
       "      <th>1978</th>\n",
       "      <td>66</td>\n",
       "      <td>66</td>\n",
       "      <td>66</td>\n",
       "      <td>66</td>\n",
       "      <td>66</td>\n",
       "      <td>66</td>\n",
       "      <td>66</td>\n",
       "      <td>66</td>\n",
       "      <td>66</td>\n",
       "      <td>66</td>\n",
       "      <td>66</td>\n",
       "    </tr>\n",
       "    <tr>\n",
       "      <th>1979</th>\n",
       "      <td>49</td>\n",
       "      <td>49</td>\n",
       "      <td>49</td>\n",
       "      <td>49</td>\n",
       "      <td>49</td>\n",
       "      <td>49</td>\n",
       "      <td>49</td>\n",
       "      <td>49</td>\n",
       "      <td>49</td>\n",
       "      <td>49</td>\n",
       "      <td>49</td>\n",
       "    </tr>\n",
       "    <tr>\n",
       "      <th>1980</th>\n",
       "      <td>60</td>\n",
       "      <td>60</td>\n",
       "      <td>60</td>\n",
       "      <td>60</td>\n",
       "      <td>60</td>\n",
       "      <td>60</td>\n",
       "      <td>60</td>\n",
       "      <td>60</td>\n",
       "      <td>60</td>\n",
       "      <td>60</td>\n",
       "      <td>60</td>\n",
       "    </tr>\n",
       "    <tr>\n",
       "      <th>1981</th>\n",
       "      <td>40</td>\n",
       "      <td>40</td>\n",
       "      <td>40</td>\n",
       "      <td>40</td>\n",
       "      <td>40</td>\n",
       "      <td>40</td>\n",
       "      <td>40</td>\n",
       "      <td>40</td>\n",
       "      <td>40</td>\n",
       "      <td>40</td>\n",
       "      <td>40</td>\n",
       "    </tr>\n",
       "    <tr>\n",
       "      <th>1982</th>\n",
       "      <td>49</td>\n",
       "      <td>49</td>\n",
       "      <td>49</td>\n",
       "      <td>49</td>\n",
       "      <td>49</td>\n",
       "      <td>49</td>\n",
       "      <td>49</td>\n",
       "      <td>49</td>\n",
       "      <td>49</td>\n",
       "      <td>49</td>\n",
       "      <td>49</td>\n",
       "    </tr>\n",
       "    <tr>\n",
       "      <th>1983</th>\n",
       "      <td>55</td>\n",
       "      <td>55</td>\n",
       "      <td>55</td>\n",
       "      <td>55</td>\n",
       "      <td>55</td>\n",
       "      <td>55</td>\n",
       "      <td>55</td>\n",
       "      <td>55</td>\n",
       "      <td>55</td>\n",
       "      <td>55</td>\n",
       "      <td>55</td>\n",
       "    </tr>\n",
       "    <tr>\n",
       "      <th>1984</th>\n",
       "      <td>37</td>\n",
       "      <td>37</td>\n",
       "      <td>37</td>\n",
       "      <td>37</td>\n",
       "      <td>37</td>\n",
       "      <td>37</td>\n",
       "      <td>37</td>\n",
       "      <td>37</td>\n",
       "      <td>37</td>\n",
       "      <td>37</td>\n",
       "      <td>37</td>\n",
       "    </tr>\n",
       "    <tr>\n",
       "      <th>1985</th>\n",
       "      <td>49</td>\n",
       "      <td>49</td>\n",
       "      <td>49</td>\n",
       "      <td>49</td>\n",
       "      <td>49</td>\n",
       "      <td>49</td>\n",
       "      <td>49</td>\n",
       "      <td>49</td>\n",
       "      <td>49</td>\n",
       "      <td>49</td>\n",
       "      <td>49</td>\n",
       "    </tr>\n",
       "    <tr>\n",
       "      <th>1986</th>\n",
       "      <td>34</td>\n",
       "      <td>34</td>\n",
       "      <td>34</td>\n",
       "      <td>34</td>\n",
       "      <td>34</td>\n",
       "      <td>34</td>\n",
       "      <td>34</td>\n",
       "      <td>34</td>\n",
       "      <td>34</td>\n",
       "      <td>34</td>\n",
       "      <td>34</td>\n",
       "    </tr>\n",
       "    <tr>\n",
       "      <th>1987</th>\n",
       "      <td>24</td>\n",
       "      <td>24</td>\n",
       "      <td>24</td>\n",
       "      <td>24</td>\n",
       "      <td>24</td>\n",
       "      <td>24</td>\n",
       "      <td>24</td>\n",
       "      <td>24</td>\n",
       "      <td>24</td>\n",
       "      <td>24</td>\n",
       "      <td>24</td>\n",
       "    </tr>\n",
       "    <tr>\n",
       "      <th>1988</th>\n",
       "      <td>61</td>\n",
       "      <td>61</td>\n",
       "      <td>61</td>\n",
       "      <td>61</td>\n",
       "      <td>61</td>\n",
       "      <td>61</td>\n",
       "      <td>61</td>\n",
       "      <td>61</td>\n",
       "      <td>61</td>\n",
       "      <td>61</td>\n",
       "      <td>61</td>\n",
       "    </tr>\n",
       "    <tr>\n",
       "      <th>1989</th>\n",
       "      <td>61</td>\n",
       "      <td>61</td>\n",
       "      <td>61</td>\n",
       "      <td>61</td>\n",
       "      <td>61</td>\n",
       "      <td>61</td>\n",
       "      <td>61</td>\n",
       "      <td>61</td>\n",
       "      <td>61</td>\n",
       "      <td>61</td>\n",
       "      <td>61</td>\n",
       "    </tr>\n",
       "    <tr>\n",
       "      <th>1990</th>\n",
       "      <td>57</td>\n",
       "      <td>57</td>\n",
       "      <td>57</td>\n",
       "      <td>57</td>\n",
       "      <td>57</td>\n",
       "      <td>57</td>\n",
       "      <td>57</td>\n",
       "      <td>57</td>\n",
       "      <td>57</td>\n",
       "      <td>57</td>\n",
       "      <td>57</td>\n",
       "    </tr>\n",
       "    <tr>\n",
       "      <th>1991</th>\n",
       "      <td>54</td>\n",
       "      <td>54</td>\n",
       "      <td>54</td>\n",
       "      <td>54</td>\n",
       "      <td>54</td>\n",
       "      <td>54</td>\n",
       "      <td>54</td>\n",
       "      <td>54</td>\n",
       "      <td>54</td>\n",
       "      <td>54</td>\n",
       "      <td>54</td>\n",
       "    </tr>\n",
       "    <tr>\n",
       "      <th>1992</th>\n",
       "      <td>62</td>\n",
       "      <td>62</td>\n",
       "      <td>62</td>\n",
       "      <td>62</td>\n",
       "      <td>62</td>\n",
       "      <td>62</td>\n",
       "      <td>62</td>\n",
       "      <td>62</td>\n",
       "      <td>62</td>\n",
       "      <td>62</td>\n",
       "      <td>62</td>\n",
       "    </tr>\n",
       "    <tr>\n",
       "      <th>1993</th>\n",
       "      <td>52</td>\n",
       "      <td>52</td>\n",
       "      <td>52</td>\n",
       "      <td>52</td>\n",
       "      <td>52</td>\n",
       "      <td>52</td>\n",
       "      <td>52</td>\n",
       "      <td>52</td>\n",
       "      <td>52</td>\n",
       "      <td>52</td>\n",
       "      <td>52</td>\n",
       "    </tr>\n",
       "    <tr>\n",
       "      <th>1994</th>\n",
       "      <td>61</td>\n",
       "      <td>61</td>\n",
       "      <td>61</td>\n",
       "      <td>61</td>\n",
       "      <td>61</td>\n",
       "      <td>61</td>\n",
       "      <td>61</td>\n",
       "      <td>61</td>\n",
       "      <td>61</td>\n",
       "      <td>61</td>\n",
       "      <td>61</td>\n",
       "    </tr>\n",
       "    <tr>\n",
       "      <th>1995</th>\n",
       "      <td>61</td>\n",
       "      <td>61</td>\n",
       "      <td>61</td>\n",
       "      <td>61</td>\n",
       "      <td>61</td>\n",
       "      <td>61</td>\n",
       "      <td>61</td>\n",
       "      <td>61</td>\n",
       "      <td>61</td>\n",
       "      <td>61</td>\n",
       "      <td>61</td>\n",
       "    </tr>\n",
       "    <tr>\n",
       "      <th>1996</th>\n",
       "      <td>43</td>\n",
       "      <td>43</td>\n",
       "      <td>43</td>\n",
       "      <td>43</td>\n",
       "      <td>43</td>\n",
       "      <td>43</td>\n",
       "      <td>43</td>\n",
       "      <td>43</td>\n",
       "      <td>43</td>\n",
       "      <td>43</td>\n",
       "      <td>43</td>\n",
       "    </tr>\n",
       "    <tr>\n",
       "      <th>1997</th>\n",
       "      <td>49</td>\n",
       "      <td>49</td>\n",
       "      <td>49</td>\n",
       "      <td>49</td>\n",
       "      <td>49</td>\n",
       "      <td>49</td>\n",
       "      <td>49</td>\n",
       "      <td>49</td>\n",
       "      <td>49</td>\n",
       "      <td>49</td>\n",
       "      <td>49</td>\n",
       "    </tr>\n",
       "    <tr>\n",
       "      <th>1998</th>\n",
       "      <td>57</td>\n",
       "      <td>57</td>\n",
       "      <td>57</td>\n",
       "      <td>57</td>\n",
       "      <td>57</td>\n",
       "      <td>57</td>\n",
       "      <td>57</td>\n",
       "      <td>57</td>\n",
       "      <td>57</td>\n",
       "      <td>57</td>\n",
       "      <td>57</td>\n",
       "    </tr>\n",
       "    <tr>\n",
       "      <th>1999</th>\n",
       "      <td>44</td>\n",
       "      <td>44</td>\n",
       "      <td>44</td>\n",
       "      <td>44</td>\n",
       "      <td>44</td>\n",
       "      <td>44</td>\n",
       "      <td>44</td>\n",
       "      <td>44</td>\n",
       "      <td>44</td>\n",
       "      <td>44</td>\n",
       "      <td>44</td>\n",
       "    </tr>\n",
       "    <tr>\n",
       "      <th>2000</th>\n",
       "      <td>84</td>\n",
       "      <td>84</td>\n",
       "      <td>84</td>\n",
       "      <td>84</td>\n",
       "      <td>84</td>\n",
       "      <td>84</td>\n",
       "      <td>84</td>\n",
       "      <td>84</td>\n",
       "      <td>84</td>\n",
       "      <td>84</td>\n",
       "      <td>84</td>\n",
       "    </tr>\n",
       "    <tr>\n",
       "      <th>2001</th>\n",
       "      <td>72</td>\n",
       "      <td>72</td>\n",
       "      <td>72</td>\n",
       "      <td>72</td>\n",
       "      <td>72</td>\n",
       "      <td>72</td>\n",
       "      <td>72</td>\n",
       "      <td>72</td>\n",
       "      <td>72</td>\n",
       "      <td>72</td>\n",
       "      <td>72</td>\n",
       "    </tr>\n",
       "    <tr>\n",
       "      <th>2002</th>\n",
       "      <td>70</td>\n",
       "      <td>70</td>\n",
       "      <td>70</td>\n",
       "      <td>70</td>\n",
       "      <td>70</td>\n",
       "      <td>70</td>\n",
       "      <td>70</td>\n",
       "      <td>70</td>\n",
       "      <td>70</td>\n",
       "      <td>70</td>\n",
       "      <td>70</td>\n",
       "    </tr>\n",
       "    <tr>\n",
       "      <th>2003</th>\n",
       "      <td>58</td>\n",
       "      <td>58</td>\n",
       "      <td>58</td>\n",
       "      <td>58</td>\n",
       "      <td>58</td>\n",
       "      <td>58</td>\n",
       "      <td>58</td>\n",
       "      <td>58</td>\n",
       "      <td>58</td>\n",
       "      <td>58</td>\n",
       "      <td>58</td>\n",
       "    </tr>\n",
       "    <tr>\n",
       "      <th>2004</th>\n",
       "      <td>74</td>\n",
       "      <td>74</td>\n",
       "      <td>74</td>\n",
       "      <td>74</td>\n",
       "      <td>74</td>\n",
       "      <td>74</td>\n",
       "      <td>74</td>\n",
       "      <td>74</td>\n",
       "      <td>74</td>\n",
       "      <td>74</td>\n",
       "      <td>74</td>\n",
       "    </tr>\n",
       "    <tr>\n",
       "      <th>2005</th>\n",
       "      <td>72</td>\n",
       "      <td>72</td>\n",
       "      <td>72</td>\n",
       "      <td>72</td>\n",
       "      <td>72</td>\n",
       "      <td>72</td>\n",
       "      <td>72</td>\n",
       "      <td>72</td>\n",
       "      <td>72</td>\n",
       "      <td>72</td>\n",
       "      <td>72</td>\n",
       "    </tr>\n",
       "    <tr>\n",
       "      <th>2006</th>\n",
       "      <td>87</td>\n",
       "      <td>87</td>\n",
       "      <td>87</td>\n",
       "      <td>87</td>\n",
       "      <td>87</td>\n",
       "      <td>87</td>\n",
       "      <td>87</td>\n",
       "      <td>87</td>\n",
       "      <td>87</td>\n",
       "      <td>87</td>\n",
       "      <td>87</td>\n",
       "    </tr>\n",
       "    <tr>\n",
       "      <th>2007</th>\n",
       "      <td>98</td>\n",
       "      <td>98</td>\n",
       "      <td>98</td>\n",
       "      <td>98</td>\n",
       "      <td>98</td>\n",
       "      <td>98</td>\n",
       "      <td>98</td>\n",
       "      <td>98</td>\n",
       "      <td>98</td>\n",
       "      <td>98</td>\n",
       "      <td>98</td>\n",
       "    </tr>\n",
       "    <tr>\n",
       "      <th>2008</th>\n",
       "      <td>76</td>\n",
       "      <td>76</td>\n",
       "      <td>76</td>\n",
       "      <td>76</td>\n",
       "      <td>76</td>\n",
       "      <td>76</td>\n",
       "      <td>76</td>\n",
       "      <td>76</td>\n",
       "      <td>76</td>\n",
       "      <td>76</td>\n",
       "      <td>76</td>\n",
       "    </tr>\n",
       "    <tr>\n",
       "      <th>2009</th>\n",
       "      <td>52</td>\n",
       "      <td>52</td>\n",
       "      <td>52</td>\n",
       "      <td>52</td>\n",
       "      <td>52</td>\n",
       "      <td>52</td>\n",
       "      <td>52</td>\n",
       "      <td>52</td>\n",
       "      <td>52</td>\n",
       "      <td>52</td>\n",
       "      <td>52</td>\n",
       "    </tr>\n",
       "    <tr>\n",
       "      <th>2010</th>\n",
       "      <td>68</td>\n",
       "      <td>68</td>\n",
       "      <td>68</td>\n",
       "      <td>68</td>\n",
       "      <td>68</td>\n",
       "      <td>68</td>\n",
       "      <td>68</td>\n",
       "      <td>68</td>\n",
       "      <td>68</td>\n",
       "      <td>68</td>\n",
       "      <td>68</td>\n",
       "    </tr>\n",
       "    <tr>\n",
       "      <th>2011</th>\n",
       "      <td>121</td>\n",
       "      <td>121</td>\n",
       "      <td>121</td>\n",
       "      <td>121</td>\n",
       "      <td>121</td>\n",
       "      <td>121</td>\n",
       "      <td>121</td>\n",
       "      <td>121</td>\n",
       "      <td>121</td>\n",
       "      <td>121</td>\n",
       "      <td>121</td>\n",
       "    </tr>\n",
       "    <tr>\n",
       "      <th>2012</th>\n",
       "      <td>79</td>\n",
       "      <td>79</td>\n",
       "      <td>79</td>\n",
       "      <td>79</td>\n",
       "      <td>79</td>\n",
       "      <td>79</td>\n",
       "      <td>79</td>\n",
       "      <td>79</td>\n",
       "      <td>79</td>\n",
       "      <td>79</td>\n",
       "      <td>79</td>\n",
       "    </tr>\n",
       "    <tr>\n",
       "      <th>2013</th>\n",
       "      <td>83</td>\n",
       "      <td>83</td>\n",
       "      <td>83</td>\n",
       "      <td>83</td>\n",
       "      <td>83</td>\n",
       "      <td>83</td>\n",
       "      <td>83</td>\n",
       "      <td>83</td>\n",
       "      <td>83</td>\n",
       "      <td>83</td>\n",
       "      <td>83</td>\n",
       "    </tr>\n",
       "    <tr>\n",
       "      <th>2014</th>\n",
       "      <td>95</td>\n",
       "      <td>95</td>\n",
       "      <td>95</td>\n",
       "      <td>95</td>\n",
       "      <td>95</td>\n",
       "      <td>95</td>\n",
       "      <td>95</td>\n",
       "      <td>95</td>\n",
       "      <td>95</td>\n",
       "      <td>95</td>\n",
       "      <td>95</td>\n",
       "    </tr>\n",
       "    <tr>\n",
       "      <th>2015</th>\n",
       "      <td>90</td>\n",
       "      <td>90</td>\n",
       "      <td>90</td>\n",
       "      <td>90</td>\n",
       "      <td>90</td>\n",
       "      <td>90</td>\n",
       "      <td>90</td>\n",
       "      <td>90</td>\n",
       "      <td>90</td>\n",
       "      <td>90</td>\n",
       "      <td>90</td>\n",
       "    </tr>\n",
       "    <tr>\n",
       "      <th>2016</th>\n",
       "      <td>152</td>\n",
       "      <td>152</td>\n",
       "      <td>152</td>\n",
       "      <td>152</td>\n",
       "      <td>152</td>\n",
       "      <td>152</td>\n",
       "      <td>152</td>\n",
       "      <td>152</td>\n",
       "      <td>152</td>\n",
       "      <td>152</td>\n",
       "      <td>152</td>\n",
       "    </tr>\n",
       "    <tr>\n",
       "      <th>2017</th>\n",
       "      <td>118</td>\n",
       "      <td>118</td>\n",
       "      <td>118</td>\n",
       "      <td>118</td>\n",
       "      <td>118</td>\n",
       "      <td>118</td>\n",
       "      <td>118</td>\n",
       "      <td>118</td>\n",
       "      <td>118</td>\n",
       "      <td>118</td>\n",
       "      <td>118</td>\n",
       "    </tr>\n",
       "    <tr>\n",
       "      <th>2018</th>\n",
       "      <td>109</td>\n",
       "      <td>109</td>\n",
       "      <td>109</td>\n",
       "      <td>109</td>\n",
       "      <td>109</td>\n",
       "      <td>109</td>\n",
       "      <td>109</td>\n",
       "      <td>109</td>\n",
       "      <td>109</td>\n",
       "      <td>109</td>\n",
       "      <td>109</td>\n",
       "    </tr>\n",
       "    <tr>\n",
       "      <th>2019</th>\n",
       "      <td>133</td>\n",
       "      <td>133</td>\n",
       "      <td>133</td>\n",
       "      <td>133</td>\n",
       "      <td>133</td>\n",
       "      <td>133</td>\n",
       "      <td>133</td>\n",
       "      <td>133</td>\n",
       "      <td>133</td>\n",
       "      <td>133</td>\n",
       "      <td>133</td>\n",
       "    </tr>\n",
       "    <tr>\n",
       "      <th>2020</th>\n",
       "      <td>84</td>\n",
       "      <td>84</td>\n",
       "      <td>84</td>\n",
       "      <td>84</td>\n",
       "      <td>84</td>\n",
       "      <td>84</td>\n",
       "      <td>84</td>\n",
       "      <td>84</td>\n",
       "      <td>84</td>\n",
       "      <td>84</td>\n",
       "      <td>84</td>\n",
       "    </tr>\n",
       "    <tr>\n",
       "      <th>2021</th>\n",
       "      <td>130</td>\n",
       "      <td>130</td>\n",
       "      <td>130</td>\n",
       "      <td>130</td>\n",
       "      <td>130</td>\n",
       "      <td>130</td>\n",
       "      <td>130</td>\n",
       "      <td>130</td>\n",
       "      <td>130</td>\n",
       "      <td>130</td>\n",
       "      <td>130</td>\n",
       "    </tr>\n",
       "    <tr>\n",
       "      <th>2022</th>\n",
       "      <td>53</td>\n",
       "      <td>53</td>\n",
       "      <td>53</td>\n",
       "      <td>53</td>\n",
       "      <td>53</td>\n",
       "      <td>53</td>\n",
       "      <td>53</td>\n",
       "      <td>53</td>\n",
       "      <td>53</td>\n",
       "      <td>53</td>\n",
       "      <td>53</td>\n",
       "    </tr>\n",
       "  </tbody>\n",
       "</table>\n",
       "</div>"
      ],
      "text/plain": [
       "      raceId  driverId  forename  surname  constructorId  constructor  round  \\\n",
       "year                                                                           \n",
       "1950       6         6         6        6              6            6      6   \n",
       "1951       7         7         7        7              7            7      7   \n",
       "1952       8         8         8        8              8            8      8   \n",
       "1953      23        23        23       23             23           23     23   \n",
       "1954      19        19        19       19             19           19     19   \n",
       "1955      12        12        12       12             12           12     12   \n",
       "1956       9         9         9        9              9            9      9   \n",
       "1957      10        10        10       10             10           10     10   \n",
       "1958      16        16        16       16             16           16     16   \n",
       "1959      10        10        10       10             10           10     10   \n",
       "1960      18        18        18       18             18           18     18   \n",
       "1961      13        13        13       13             13           13     13   \n",
       "1962      18        18        18       18             18           18     18   \n",
       "1963      19        19        19       19             19           19     19   \n",
       "1964      26        26        26       26             26           26     26   \n",
       "1965      24        24        24       24             24           24     24   \n",
       "1966      13        13        13       13             13           13     13   \n",
       "1967      15        15        15       15             15           15     15   \n",
       "1968      17        17        17       17             17           17     17   \n",
       "1969      10        10        10       10             10           10     10   \n",
       "1970      33        33        33       33             33           33     33   \n",
       "1971      26        26        26       26             26           26     26   \n",
       "1972      40        40        40       40             40           40     40   \n",
       "1973      40        40        40       40             40           40     40   \n",
       "1974      48        48        48       48             48           48     48   \n",
       "1975      46        46        46       46             46           46     46   \n",
       "1976      69        69        69       69             69           69     69   \n",
       "1977      45        45        45       45             45           45     45   \n",
       "1978      66        66        66       66             66           66     66   \n",
       "1979      49        49        49       49             49           49     49   \n",
       "1980      60        60        60       60             60           60     60   \n",
       "1981      40        40        40       40             40           40     40   \n",
       "1982      49        49        49       49             49           49     49   \n",
       "1983      55        55        55       55             55           55     55   \n",
       "1984      37        37        37       37             37           37     37   \n",
       "1985      49        49        49       49             49           49     49   \n",
       "1986      34        34        34       34             34           34     34   \n",
       "1987      24        24        24       24             24           24     24   \n",
       "1988      61        61        61       61             61           61     61   \n",
       "1989      61        61        61       61             61           61     61   \n",
       "1990      57        57        57       57             57           57     57   \n",
       "1991      54        54        54       54             54           54     54   \n",
       "1992      62        62        62       62             62           62     62   \n",
       "1993      52        52        52       52             52           52     52   \n",
       "1994      61        61        61       61             61           61     61   \n",
       "1995      61        61        61       61             61           61     61   \n",
       "1996      43        43        43       43             43           43     43   \n",
       "1997      49        49        49       49             49           49     49   \n",
       "1998      57        57        57       57             57           57     57   \n",
       "1999      44        44        44       44             44           44     44   \n",
       "2000      84        84        84       84             84           84     84   \n",
       "2001      72        72        72       72             72           72     72   \n",
       "2002      70        70        70       70             70           70     70   \n",
       "2003      58        58        58       58             58           58     58   \n",
       "2004      74        74        74       74             74           74     74   \n",
       "2005      72        72        72       72             72           72     72   \n",
       "2006      87        87        87       87             87           87     87   \n",
       "2007      98        98        98       98             98           98     98   \n",
       "2008      76        76        76       76             76           76     76   \n",
       "2009      52        52        52       52             52           52     52   \n",
       "2010      68        68        68       68             68           68     68   \n",
       "2011     121       121       121      121            121          121    121   \n",
       "2012      79        79        79       79             79           79     79   \n",
       "2013      83        83        83       83             83           83     83   \n",
       "2014      95        95        95       95             95           95     95   \n",
       "2015      90        90        90       90             90           90     90   \n",
       "2016     152       152       152      152            152          152    152   \n",
       "2017     118       118       118      118            118          118    118   \n",
       "2018     109       109       109      109            109          109    109   \n",
       "2019     133       133       133      133            133          133    133   \n",
       "2020      84        84        84       84             84           84     84   \n",
       "2021     130       130       130      130            130          130    130   \n",
       "2022      53        53        53       53             53           53     53   \n",
       "\n",
       "      race  statusId  status  driver  \n",
       "year                                  \n",
       "1950     6         6       6       6  \n",
       "1951     7         7       7       7  \n",
       "1952     8         8       8       8  \n",
       "1953    23        23      23      23  \n",
       "1954    19        19      19      19  \n",
       "1955    12        12      12      12  \n",
       "1956     9         9       9       9  \n",
       "1957    10        10      10      10  \n",
       "1958    16        16      16      16  \n",
       "1959    10        10      10      10  \n",
       "1960    18        18      18      18  \n",
       "1961    13        13      13      13  \n",
       "1962    18        18      18      18  \n",
       "1963    19        19      19      19  \n",
       "1964    26        26      26      26  \n",
       "1965    24        24      24      24  \n",
       "1966    13        13      13      13  \n",
       "1967    15        15      15      15  \n",
       "1968    17        17      17      17  \n",
       "1969    10        10      10      10  \n",
       "1970    33        33      33      33  \n",
       "1971    26        26      26      26  \n",
       "1972    40        40      40      40  \n",
       "1973    40        40      40      40  \n",
       "1974    48        48      48      48  \n",
       "1975    46        46      46      46  \n",
       "1976    69        69      69      69  \n",
       "1977    45        45      45      45  \n",
       "1978    66        66      66      66  \n",
       "1979    49        49      49      49  \n",
       "1980    60        60      60      60  \n",
       "1981    40        40      40      40  \n",
       "1982    49        49      49      49  \n",
       "1983    55        55      55      55  \n",
       "1984    37        37      37      37  \n",
       "1985    49        49      49      49  \n",
       "1986    34        34      34      34  \n",
       "1987    24        24      24      24  \n",
       "1988    61        61      61      61  \n",
       "1989    61        61      61      61  \n",
       "1990    57        57      57      57  \n",
       "1991    54        54      54      54  \n",
       "1992    62        62      62      62  \n",
       "1993    52        52      52      52  \n",
       "1994    61        61      61      61  \n",
       "1995    61        61      61      61  \n",
       "1996    43        43      43      43  \n",
       "1997    49        49      49      49  \n",
       "1998    57        57      57      57  \n",
       "1999    44        44      44      44  \n",
       "2000    84        84      84      84  \n",
       "2001    72        72      72      72  \n",
       "2002    70        70      70      70  \n",
       "2003    58        58      58      58  \n",
       "2004    74        74      74      74  \n",
       "2005    72        72      72      72  \n",
       "2006    87        87      87      87  \n",
       "2007    98        98      98      98  \n",
       "2008    76        76      76      76  \n",
       "2009    52        52      52      52  \n",
       "2010    68        68      68      68  \n",
       "2011   121       121     121     121  \n",
       "2012    79        79      79      79  \n",
       "2013    83        83      83      83  \n",
       "2014    95        95      95      95  \n",
       "2015    90        90      90      90  \n",
       "2016   152       152     152     152  \n",
       "2017   118       118     118     118  \n",
       "2018   109       109     109     109  \n",
       "2019   133       133     133     133  \n",
       "2020    84        84      84      84  \n",
       "2021   130       130     130     130  \n",
       "2022    53        53      53      53  "
      ]
     },
     "execution_count": 48,
     "metadata": {},
     "output_type": "execute_result"
    }
   ],
   "source": [
    "results_status[results_status['status'] == '+1 Lap'].sort_values(['year'])"
   ]
  },
  {
   "cell_type": "markdown",
   "metadata": {},
   "source": [
    "# analyse tyrelife\n",
    "# maybe sequence of tyre changes? hard -> medium\n",
    "note: constraints on number of tyres\n",
    "sole supplier of tyres"
   ]
  },
  {
   "cell_type": "code",
   "execution_count": 188,
   "metadata": {},
   "outputs": [
    {
     "data": {
      "text/plain": [
       "{'HYPERSOFT': 1,\n",
       " 'ULTRASOFT': 2,\n",
       " 'SUPERSOFT': 3,\n",
       " 'SOFT': 4,\n",
       " 'MEDIUM': 5,\n",
       " 'HARD': 6,\n",
       " 'SUPERHARD': 7}"
      ]
     },
     "execution_count": 188,
     "metadata": {},
     "output_type": "execute_result"
    }
   ],
   "source": [
    "tyre_rank = ['HYPERSOFT','ULTRASOFT','SUPERSOFT','SOFT','MEDIUM','HARD','SUPERHARD']\n",
    "tyre_rank_dict = {x:i+1 for i,x in enumerate(tyre_rank)}\n",
    "tyre_rank_dict"
   ]
  },
  {
   "cell_type": "code",
   "execution_count": 197,
   "metadata": {},
   "outputs": [
    {
     "data": {
      "text/html": [
       "<div>\n",
       "<style scoped>\n",
       "    .dataframe tbody tr th:only-of-type {\n",
       "        vertical-align: middle;\n",
       "    }\n",
       "\n",
       "    .dataframe tbody tr th {\n",
       "        vertical-align: top;\n",
       "    }\n",
       "\n",
       "    .dataframe thead th {\n",
       "        text-align: right;\n",
       "    }\n",
       "</style>\n",
       "<table border=\"1\" class=\"dataframe\">\n",
       "  <thead>\n",
       "    <tr style=\"text-align: right;\">\n",
       "      <th></th>\n",
       "      <th>Team</th>\n",
       "      <th>Driver</th>\n",
       "      <th>Stint</th>\n",
       "      <th>Compound</th>\n",
       "      <th>TyreLife</th>\n",
       "      <th>round</th>\n",
       "      <th>year</th>\n",
       "      <th>Compound_num</th>\n",
       "    </tr>\n",
       "  </thead>\n",
       "  <tbody>\n",
       "    <tr>\n",
       "      <th>0</th>\n",
       "      <td>Ferrari</td>\n",
       "      <td>RAI</td>\n",
       "      <td>1.0</td>\n",
       "      <td>ULTRASOFT</td>\n",
       "      <td>22.0</td>\n",
       "      <td>1</td>\n",
       "      <td>2018</td>\n",
       "      <td>2.0</td>\n",
       "    </tr>\n",
       "    <tr>\n",
       "      <th>1</th>\n",
       "      <td>Ferrari</td>\n",
       "      <td>RAI</td>\n",
       "      <td>2.0</td>\n",
       "      <td>SOFT</td>\n",
       "      <td>40.0</td>\n",
       "      <td>1</td>\n",
       "      <td>2018</td>\n",
       "      <td>4.0</td>\n",
       "    </tr>\n",
       "    <tr>\n",
       "      <th>2</th>\n",
       "      <td>Ferrari</td>\n",
       "      <td>VET</td>\n",
       "      <td>1.0</td>\n",
       "      <td>ULTRASOFT</td>\n",
       "      <td>29.0</td>\n",
       "      <td>1</td>\n",
       "      <td>2018</td>\n",
       "      <td>2.0</td>\n",
       "    </tr>\n",
       "    <tr>\n",
       "      <th>3</th>\n",
       "      <td>Ferrari</td>\n",
       "      <td>VET</td>\n",
       "      <td>2.0</td>\n",
       "      <td>SOFT</td>\n",
       "      <td>33.0</td>\n",
       "      <td>1</td>\n",
       "      <td>2018</td>\n",
       "      <td>4.0</td>\n",
       "    </tr>\n",
       "    <tr>\n",
       "      <th>4</th>\n",
       "      <td>Ferrari</td>\n",
       "      <td>VET</td>\n",
       "      <td>2.0</td>\n",
       "      <td>ULTRASOFT</td>\n",
       "      <td>5.0</td>\n",
       "      <td>1</td>\n",
       "      <td>2018</td>\n",
       "      <td>2.0</td>\n",
       "    </tr>\n",
       "  </tbody>\n",
       "</table>\n",
       "</div>"
      ],
      "text/plain": [
       "      Team Driver  Stint   Compound  TyreLife  round  year  Compound_num\n",
       "0  Ferrari    RAI    1.0  ULTRASOFT      22.0      1  2018           2.0\n",
       "1  Ferrari    RAI    2.0       SOFT      40.0      1  2018           4.0\n",
       "2  Ferrari    VET    1.0  ULTRASOFT      29.0      1  2018           2.0\n",
       "3  Ferrari    VET    2.0       SOFT      33.0      1  2018           4.0\n",
       "4  Ferrari    VET    2.0  ULTRASOFT       5.0      1  2018           2.0"
      ]
     },
     "execution_count": 197,
     "metadata": {},
     "output_type": "execute_result"
    }
   ],
   "source": [
    "tyrelife = pd.read_csv('./data/tyrelife.csv')\n",
    "tyrelife['Compound_num'] = tyrelife['Compound'].map(tyre_rank_dict)\n",
    "tyrelife.head()\n"
   ]
  },
  {
   "cell_type": "code",
   "execution_count": 199,
   "metadata": {},
   "outputs": [
    {
     "data": {
      "text/html": [
       "<div>\n",
       "<style scoped>\n",
       "    .dataframe tbody tr th:only-of-type {\n",
       "        vertical-align: middle;\n",
       "    }\n",
       "\n",
       "    .dataframe tbody tr th {\n",
       "        vertical-align: top;\n",
       "    }\n",
       "\n",
       "    .dataframe thead th {\n",
       "        text-align: right;\n",
       "    }\n",
       "</style>\n",
       "<table border=\"1\" class=\"dataframe\">\n",
       "  <thead>\n",
       "    <tr style=\"text-align: right;\">\n",
       "      <th></th>\n",
       "      <th>Team</th>\n",
       "      <th>Compound</th>\n",
       "      <th>TyreLife</th>\n",
       "    </tr>\n",
       "  </thead>\n",
       "  <tbody>\n",
       "    <tr>\n",
       "      <th>0</th>\n",
       "      <td>Alfa Romeo Racing</td>\n",
       "      <td>HARD</td>\n",
       "      <td>32.0</td>\n",
       "    </tr>\n",
       "    <tr>\n",
       "      <th>1</th>\n",
       "      <td>Alfa Romeo Racing</td>\n",
       "      <td>INTERMEDIATE</td>\n",
       "      <td>19.0</td>\n",
       "    </tr>\n",
       "    <tr>\n",
       "      <th>2</th>\n",
       "      <td>Alfa Romeo Racing</td>\n",
       "      <td>MEDIUM</td>\n",
       "      <td>20.0</td>\n",
       "    </tr>\n",
       "    <tr>\n",
       "      <th>3</th>\n",
       "      <td>Alfa Romeo Racing</td>\n",
       "      <td>SOFT</td>\n",
       "      <td>16.0</td>\n",
       "    </tr>\n",
       "    <tr>\n",
       "      <th>4</th>\n",
       "      <td>Alfa Romeo Racing</td>\n",
       "      <td>UNKNOWN</td>\n",
       "      <td>2.0</td>\n",
       "    </tr>\n",
       "    <tr>\n",
       "      <th>...</th>\n",
       "      <td>...</td>\n",
       "      <td>...</td>\n",
       "      <td>...</td>\n",
       "    </tr>\n",
       "    <tr>\n",
       "      <th>108</th>\n",
       "      <td>Williams</td>\n",
       "      <td>SOFT</td>\n",
       "      <td>15.0</td>\n",
       "    </tr>\n",
       "    <tr>\n",
       "      <th>109</th>\n",
       "      <td>Williams</td>\n",
       "      <td>SUPERSOFT</td>\n",
       "      <td>21.0</td>\n",
       "    </tr>\n",
       "    <tr>\n",
       "      <th>110</th>\n",
       "      <td>Williams</td>\n",
       "      <td>ULTRASOFT</td>\n",
       "      <td>13.0</td>\n",
       "    </tr>\n",
       "    <tr>\n",
       "      <th>111</th>\n",
       "      <td>Williams</td>\n",
       "      <td>UNKNOWN</td>\n",
       "      <td>1.0</td>\n",
       "    </tr>\n",
       "    <tr>\n",
       "      <th>112</th>\n",
       "      <td>Williams</td>\n",
       "      <td>WET</td>\n",
       "      <td>5.0</td>\n",
       "    </tr>\n",
       "  </tbody>\n",
       "</table>\n",
       "<p>113 rows × 3 columns</p>\n",
       "</div>"
      ],
      "text/plain": [
       "                  Team      Compound  TyreLife\n",
       "0    Alfa Romeo Racing          HARD      32.0\n",
       "1    Alfa Romeo Racing  INTERMEDIATE      19.0\n",
       "2    Alfa Romeo Racing        MEDIUM      20.0\n",
       "3    Alfa Romeo Racing          SOFT      16.0\n",
       "4    Alfa Romeo Racing       UNKNOWN       2.0\n",
       "..                 ...           ...       ...\n",
       "108           Williams          SOFT      15.0\n",
       "109           Williams     SUPERSOFT      21.0\n",
       "110           Williams     ULTRASOFT      13.0\n",
       "111           Williams       UNKNOWN       1.0\n",
       "112           Williams           WET       5.0\n",
       "\n",
       "[113 rows x 3 columns]"
      ]
     },
     "execution_count": 199,
     "metadata": {},
     "output_type": "execute_result"
    }
   ],
   "source": [
    "# median tyre life per constructor\n",
    "tyrelife.groupby(['Team','Compound']).agg({'TyreLife':'median'}).reset_index()"
   ]
  },
  {
   "cell_type": "code",
   "execution_count": 222,
   "metadata": {},
   "outputs": [],
   "source": [
    "# tyre sequence\n",
    "tyrelist = tyrelife.sort_values(['year','round','Team','Driver','Stint']).groupby(['year','round','Team','Driver']).agg({'Compound':list}).reset_index()\n",
    "tyrelist.head()\n",
    "tyrelist_status = (tyrelist.merge(results_status,left_on=['year','round','Team','Driver'],right_on=['year','round','constructor','code'])\n",
    ".merge(weather[['year','round','Rainfall']],on=['year','round']))"
   ]
  },
  {
   "cell_type": "code",
   "execution_count": 224,
   "metadata": {},
   "outputs": [
    {
     "data": {
      "text/html": [
       "<div>\n",
       "<style scoped>\n",
       "    .dataframe tbody tr th:only-of-type {\n",
       "        vertical-align: middle;\n",
       "    }\n",
       "\n",
       "    .dataframe tbody tr th {\n",
       "        vertical-align: top;\n",
       "    }\n",
       "\n",
       "    .dataframe thead th {\n",
       "        text-align: right;\n",
       "    }\n",
       "</style>\n",
       "<table border=\"1\" class=\"dataframe\">\n",
       "  <thead>\n",
       "    <tr style=\"text-align: right;\">\n",
       "      <th></th>\n",
       "      <th>year</th>\n",
       "      <th>round</th>\n",
       "      <th>Team</th>\n",
       "      <th>Driver</th>\n",
       "      <th>Compound</th>\n",
       "      <th>raceId</th>\n",
       "      <th>driverId</th>\n",
       "      <th>code</th>\n",
       "      <th>forename</th>\n",
       "      <th>surname</th>\n",
       "      <th>constructorId</th>\n",
       "      <th>constructor</th>\n",
       "      <th>race</th>\n",
       "      <th>statusId</th>\n",
       "      <th>points</th>\n",
       "      <th>status</th>\n",
       "      <th>driver</th>\n",
       "      <th>Rainfall</th>\n",
       "    </tr>\n",
       "  </thead>\n",
       "  <tbody>\n",
       "    <tr>\n",
       "      <th>0</th>\n",
       "      <td>2018</td>\n",
       "      <td>1</td>\n",
       "      <td>Ferrari</td>\n",
       "      <td>RAI</td>\n",
       "      <td>[ULTRASOFT, SOFT]</td>\n",
       "      <td>989</td>\n",
       "      <td>8</td>\n",
       "      <td>RAI</td>\n",
       "      <td>Kimi</td>\n",
       "      <td>Räikkönen</td>\n",
       "      <td>6</td>\n",
       "      <td>Ferrari</td>\n",
       "      <td>Australian Grand Prix</td>\n",
       "      <td>1</td>\n",
       "      <td>15.0</td>\n",
       "      <td>Finished</td>\n",
       "      <td>Kimi Räikkönen</td>\n",
       "      <td>True</td>\n",
       "    </tr>\n",
       "    <tr>\n",
       "      <th>1</th>\n",
       "      <td>2018</td>\n",
       "      <td>1</td>\n",
       "      <td>Ferrari</td>\n",
       "      <td>VET</td>\n",
       "      <td>[ULTRASOFT, SOFT, ULTRASOFT]</td>\n",
       "      <td>989</td>\n",
       "      <td>20</td>\n",
       "      <td>VET</td>\n",
       "      <td>Sebastian</td>\n",
       "      <td>Vettel</td>\n",
       "      <td>6</td>\n",
       "      <td>Ferrari</td>\n",
       "      <td>Australian Grand Prix</td>\n",
       "      <td>1</td>\n",
       "      <td>25.0</td>\n",
       "      <td>Finished</td>\n",
       "      <td>Sebastian Vettel</td>\n",
       "      <td>True</td>\n",
       "    </tr>\n",
       "    <tr>\n",
       "      <th>2</th>\n",
       "      <td>2018</td>\n",
       "      <td>1</td>\n",
       "      <td>Force India</td>\n",
       "      <td>OCO</td>\n",
       "      <td>[ULTRASOFT, SOFT]</td>\n",
       "      <td>989</td>\n",
       "      <td>839</td>\n",
       "      <td>OCO</td>\n",
       "      <td>Esteban</td>\n",
       "      <td>Ocon</td>\n",
       "      <td>10</td>\n",
       "      <td>Force India</td>\n",
       "      <td>Australian Grand Prix</td>\n",
       "      <td>1</td>\n",
       "      <td>0.0</td>\n",
       "      <td>Finished</td>\n",
       "      <td>Esteban Ocon</td>\n",
       "      <td>True</td>\n",
       "    </tr>\n",
       "    <tr>\n",
       "      <th>3</th>\n",
       "      <td>2018</td>\n",
       "      <td>1</td>\n",
       "      <td>Force India</td>\n",
       "      <td>PER</td>\n",
       "      <td>[ULTRASOFT, SOFT]</td>\n",
       "      <td>989</td>\n",
       "      <td>815</td>\n",
       "      <td>PER</td>\n",
       "      <td>Sergio</td>\n",
       "      <td>Pérez</td>\n",
       "      <td>10</td>\n",
       "      <td>Force India</td>\n",
       "      <td>Australian Grand Prix</td>\n",
       "      <td>1</td>\n",
       "      <td>0.0</td>\n",
       "      <td>Finished</td>\n",
       "      <td>Sergio Pérez</td>\n",
       "      <td>True</td>\n",
       "    </tr>\n",
       "    <tr>\n",
       "      <th>4</th>\n",
       "      <td>2018</td>\n",
       "      <td>1</td>\n",
       "      <td>Haas F1 Team</td>\n",
       "      <td>GRO</td>\n",
       "      <td>[ULTRASOFT]</td>\n",
       "      <td>989</td>\n",
       "      <td>154</td>\n",
       "      <td>GRO</td>\n",
       "      <td>Romain</td>\n",
       "      <td>Grosjean</td>\n",
       "      <td>210</td>\n",
       "      <td>Haas F1 Team</td>\n",
       "      <td>Australian Grand Prix</td>\n",
       "      <td>36</td>\n",
       "      <td>0.0</td>\n",
       "      <td>Wheel</td>\n",
       "      <td>Romain Grosjean</td>\n",
       "      <td>True</td>\n",
       "    </tr>\n",
       "    <tr>\n",
       "      <th>...</th>\n",
       "      <td>...</td>\n",
       "      <td>...</td>\n",
       "      <td>...</td>\n",
       "      <td>...</td>\n",
       "      <td>...</td>\n",
       "      <td>...</td>\n",
       "      <td>...</td>\n",
       "      <td>...</td>\n",
       "      <td>...</td>\n",
       "      <td>...</td>\n",
       "      <td>...</td>\n",
       "      <td>...</td>\n",
       "      <td>...</td>\n",
       "      <td>...</td>\n",
       "      <td>...</td>\n",
       "      <td>...</td>\n",
       "      <td>...</td>\n",
       "      <td>...</td>\n",
       "    </tr>\n",
       "    <tr>\n",
       "      <th>1476</th>\n",
       "      <td>2021</td>\n",
       "      <td>22</td>\n",
       "      <td>Mercedes</td>\n",
       "      <td>HAM</td>\n",
       "      <td>[MEDIUM, HARD]</td>\n",
       "      <td>1073</td>\n",
       "      <td>1</td>\n",
       "      <td>HAM</td>\n",
       "      <td>Lewis</td>\n",
       "      <td>Hamilton</td>\n",
       "      <td>131</td>\n",
       "      <td>Mercedes</td>\n",
       "      <td>Abu Dhabi Grand Prix</td>\n",
       "      <td>1</td>\n",
       "      <td>18.0</td>\n",
       "      <td>Finished</td>\n",
       "      <td>Lewis Hamilton</td>\n",
       "      <td>False</td>\n",
       "    </tr>\n",
       "    <tr>\n",
       "      <th>1477</th>\n",
       "      <td>2021</td>\n",
       "      <td>22</td>\n",
       "      <td>Williams</td>\n",
       "      <td>LAT</td>\n",
       "      <td>[MEDIUM, HARD]</td>\n",
       "      <td>1073</td>\n",
       "      <td>849</td>\n",
       "      <td>LAT</td>\n",
       "      <td>Nicholas</td>\n",
       "      <td>Latifi</td>\n",
       "      <td>3</td>\n",
       "      <td>Williams</td>\n",
       "      <td>Abu Dhabi Grand Prix</td>\n",
       "      <td>3</td>\n",
       "      <td>0.0</td>\n",
       "      <td>Accident</td>\n",
       "      <td>Nicholas Latifi</td>\n",
       "      <td>False</td>\n",
       "    </tr>\n",
       "    <tr>\n",
       "      <th>1478</th>\n",
       "      <td>2021</td>\n",
       "      <td>22</td>\n",
       "      <td>Williams</td>\n",
       "      <td>LAT</td>\n",
       "      <td>[MEDIUM, HARD]</td>\n",
       "      <td>1073</td>\n",
       "      <td>849</td>\n",
       "      <td>LAT</td>\n",
       "      <td>Nicholas</td>\n",
       "      <td>Latifi</td>\n",
       "      <td>3</td>\n",
       "      <td>Williams</td>\n",
       "      <td>Abu Dhabi Grand Prix</td>\n",
       "      <td>3</td>\n",
       "      <td>0.0</td>\n",
       "      <td>Accident</td>\n",
       "      <td>Nicholas Latifi</td>\n",
       "      <td>False</td>\n",
       "    </tr>\n",
       "    <tr>\n",
       "      <th>1479</th>\n",
       "      <td>2021</td>\n",
       "      <td>22</td>\n",
       "      <td>Williams</td>\n",
       "      <td>RUS</td>\n",
       "      <td>[MEDIUM]</td>\n",
       "      <td>1073</td>\n",
       "      <td>847</td>\n",
       "      <td>RUS</td>\n",
       "      <td>George</td>\n",
       "      <td>Russell</td>\n",
       "      <td>3</td>\n",
       "      <td>Williams</td>\n",
       "      <td>Abu Dhabi Grand Prix</td>\n",
       "      <td>6</td>\n",
       "      <td>0.0</td>\n",
       "      <td>Gearbox</td>\n",
       "      <td>George Russell</td>\n",
       "      <td>False</td>\n",
       "    </tr>\n",
       "    <tr>\n",
       "      <th>1480</th>\n",
       "      <td>2021</td>\n",
       "      <td>22</td>\n",
       "      <td>Williams</td>\n",
       "      <td>RUS</td>\n",
       "      <td>[MEDIUM]</td>\n",
       "      <td>1073</td>\n",
       "      <td>847</td>\n",
       "      <td>RUS</td>\n",
       "      <td>George</td>\n",
       "      <td>Russell</td>\n",
       "      <td>3</td>\n",
       "      <td>Williams</td>\n",
       "      <td>Abu Dhabi Grand Prix</td>\n",
       "      <td>6</td>\n",
       "      <td>0.0</td>\n",
       "      <td>Gearbox</td>\n",
       "      <td>George Russell</td>\n",
       "      <td>False</td>\n",
       "    </tr>\n",
       "  </tbody>\n",
       "</table>\n",
       "<p>1481 rows × 18 columns</p>\n",
       "</div>"
      ],
      "text/plain": [
       "      year  round          Team Driver                      Compound  raceId  \\\n",
       "0     2018      1       Ferrari    RAI             [ULTRASOFT, SOFT]     989   \n",
       "1     2018      1       Ferrari    VET  [ULTRASOFT, SOFT, ULTRASOFT]     989   \n",
       "2     2018      1   Force India    OCO             [ULTRASOFT, SOFT]     989   \n",
       "3     2018      1   Force India    PER             [ULTRASOFT, SOFT]     989   \n",
       "4     2018      1  Haas F1 Team    GRO                   [ULTRASOFT]     989   \n",
       "...    ...    ...           ...    ...                           ...     ...   \n",
       "1476  2021     22      Mercedes    HAM                [MEDIUM, HARD]    1073   \n",
       "1477  2021     22      Williams    LAT                [MEDIUM, HARD]    1073   \n",
       "1478  2021     22      Williams    LAT                [MEDIUM, HARD]    1073   \n",
       "1479  2021     22      Williams    RUS                      [MEDIUM]    1073   \n",
       "1480  2021     22      Williams    RUS                      [MEDIUM]    1073   \n",
       "\n",
       "      driverId code   forename    surname  constructorId   constructor  \\\n",
       "0            8  RAI       Kimi  Räikkönen              6       Ferrari   \n",
       "1           20  VET  Sebastian     Vettel              6       Ferrari   \n",
       "2          839  OCO    Esteban       Ocon             10   Force India   \n",
       "3          815  PER     Sergio      Pérez             10   Force India   \n",
       "4          154  GRO     Romain   Grosjean            210  Haas F1 Team   \n",
       "...        ...  ...        ...        ...            ...           ...   \n",
       "1476         1  HAM      Lewis   Hamilton            131      Mercedes   \n",
       "1477       849  LAT   Nicholas     Latifi              3      Williams   \n",
       "1478       849  LAT   Nicholas     Latifi              3      Williams   \n",
       "1479       847  RUS     George    Russell              3      Williams   \n",
       "1480       847  RUS     George    Russell              3      Williams   \n",
       "\n",
       "                       race  statusId  points    status            driver  \\\n",
       "0     Australian Grand Prix         1    15.0  Finished    Kimi Räikkönen   \n",
       "1     Australian Grand Prix         1    25.0  Finished  Sebastian Vettel   \n",
       "2     Australian Grand Prix         1     0.0  Finished      Esteban Ocon   \n",
       "3     Australian Grand Prix         1     0.0  Finished      Sergio Pérez   \n",
       "4     Australian Grand Prix        36     0.0     Wheel   Romain Grosjean   \n",
       "...                     ...       ...     ...       ...               ...   \n",
       "1476   Abu Dhabi Grand Prix         1    18.0  Finished    Lewis Hamilton   \n",
       "1477   Abu Dhabi Grand Prix         3     0.0  Accident   Nicholas Latifi   \n",
       "1478   Abu Dhabi Grand Prix         3     0.0  Accident   Nicholas Latifi   \n",
       "1479   Abu Dhabi Grand Prix         6     0.0   Gearbox    George Russell   \n",
       "1480   Abu Dhabi Grand Prix         6     0.0   Gearbox    George Russell   \n",
       "\n",
       "      Rainfall  \n",
       "0         True  \n",
       "1         True  \n",
       "2         True  \n",
       "3         True  \n",
       "4         True  \n",
       "...        ...  \n",
       "1476     False  \n",
       "1477     False  \n",
       "1478     False  \n",
       "1479     False  \n",
       "1480     False  \n",
       "\n",
       "[1481 rows x 18 columns]"
      ]
     },
     "execution_count": 224,
     "metadata": {},
     "output_type": "execute_result"
    }
   ],
   "source": [
    "tyrelist_status"
   ]
  },
  {
   "cell_type": "code",
   "execution_count": 223,
   "metadata": {},
   "outputs": [],
   "source": [
    "tyrelist_status.to_csv('./data/tyrelist_status.csv',index=False)"
   ]
  },
  {
   "cell_type": "code",
   "execution_count": 207,
   "metadata": {},
   "outputs": [
    {
     "data": {
      "text/html": [
       "<div>\n",
       "<style scoped>\n",
       "    .dataframe tbody tr th:only-of-type {\n",
       "        vertical-align: middle;\n",
       "    }\n",
       "\n",
       "    .dataframe tbody tr th {\n",
       "        vertical-align: top;\n",
       "    }\n",
       "\n",
       "    .dataframe thead th {\n",
       "        text-align: right;\n",
       "    }\n",
       "</style>\n",
       "<table border=\"1\" class=\"dataframe\">\n",
       "  <thead>\n",
       "    <tr style=\"text-align: right;\">\n",
       "      <th></th>\n",
       "      <th>year</th>\n",
       "      <th>Compound</th>\n",
       "      <th>round</th>\n",
       "    </tr>\n",
       "  </thead>\n",
       "  <tbody>\n",
       "    <tr>\n",
       "      <th>0</th>\n",
       "      <td>2018</td>\n",
       "      <td>(HYPERSOFT,)</td>\n",
       "      <td>3</td>\n",
       "    </tr>\n",
       "    <tr>\n",
       "      <th>1</th>\n",
       "      <td>2018</td>\n",
       "      <td>(HYPERSOFT, HYPERSOFT, ULTRASOFT, SUPERSOFT)</td>\n",
       "      <td>1</td>\n",
       "    </tr>\n",
       "    <tr>\n",
       "      <th>2</th>\n",
       "      <td>2018</td>\n",
       "      <td>(HYPERSOFT, SOFT)</td>\n",
       "      <td>11</td>\n",
       "    </tr>\n",
       "    <tr>\n",
       "      <th>3</th>\n",
       "      <td>2018</td>\n",
       "      <td>(HYPERSOFT, SOFT, ULTRASOFT)</td>\n",
       "      <td>1</td>\n",
       "    </tr>\n",
       "    <tr>\n",
       "      <th>4</th>\n",
       "      <td>2018</td>\n",
       "      <td>(HYPERSOFT, SUPERSOFT)</td>\n",
       "      <td>19</td>\n",
       "    </tr>\n",
       "    <tr>\n",
       "      <th>...</th>\n",
       "      <td>...</td>\n",
       "      <td>...</td>\n",
       "      <td>...</td>\n",
       "    </tr>\n",
       "    <tr>\n",
       "      <th>291</th>\n",
       "      <td>2021</td>\n",
       "      <td>(SOFT, SOFT, SOFT, MEDIUM)</td>\n",
       "      <td>5</td>\n",
       "    </tr>\n",
       "    <tr>\n",
       "      <th>292</th>\n",
       "      <td>2021</td>\n",
       "      <td>(WET,)</td>\n",
       "      <td>20</td>\n",
       "    </tr>\n",
       "    <tr>\n",
       "      <th>293</th>\n",
       "      <td>2021</td>\n",
       "      <td>(WET, INTERMEDIATE, MEDIUM, MEDIUM, MEDIUM)</td>\n",
       "      <td>1</td>\n",
       "    </tr>\n",
       "    <tr>\n",
       "      <th>294</th>\n",
       "      <td>2021</td>\n",
       "      <td>(WET, INTERMEDIATE, MEDIUM, SOFT, MEDIUM, MEDIUM)</td>\n",
       "      <td>1</td>\n",
       "    </tr>\n",
       "    <tr>\n",
       "      <th>295</th>\n",
       "      <td>2021</td>\n",
       "      <td>(WET, INTERMEDIATE, SOFT, MEDIUM, MEDIUM, UNKNOWN)</td>\n",
       "      <td>2</td>\n",
       "    </tr>\n",
       "  </tbody>\n",
       "</table>\n",
       "<p>296 rows × 3 columns</p>\n",
       "</div>"
      ],
      "text/plain": [
       "     year                                            Compound  round\n",
       "0    2018                                        (HYPERSOFT,)      3\n",
       "1    2018        (HYPERSOFT, HYPERSOFT, ULTRASOFT, SUPERSOFT)      1\n",
       "2    2018                                   (HYPERSOFT, SOFT)     11\n",
       "3    2018                        (HYPERSOFT, SOFT, ULTRASOFT)      1\n",
       "4    2018                              (HYPERSOFT, SUPERSOFT)     19\n",
       "..    ...                                                 ...    ...\n",
       "291  2021                          (SOFT, SOFT, SOFT, MEDIUM)      5\n",
       "292  2021                                              (WET,)     20\n",
       "293  2021         (WET, INTERMEDIATE, MEDIUM, MEDIUM, MEDIUM)      1\n",
       "294  2021   (WET, INTERMEDIATE, MEDIUM, SOFT, MEDIUM, MEDIUM)      1\n",
       "295  2021  (WET, INTERMEDIATE, SOFT, MEDIUM, MEDIUM, UNKNOWN)      2\n",
       "\n",
       "[296 rows x 3 columns]"
      ]
     },
     "execution_count": 207,
     "metadata": {},
     "output_type": "execute_result"
    }
   ],
   "source": [
    "tyrelist_count = tyrelist.groupby(['year',tyrelist['Compound'].map(tuple)]).agg({'round':'count'}).reset_index()\n",
    "tyrelist_count"
   ]
  },
  {
   "cell_type": "code",
   "execution_count": 208,
   "metadata": {},
   "outputs": [],
   "source": [
    "tyrelist_count.to_csv('./data/tyrelist_count.csv',index=False)"
   ]
  },
  {
   "cell_type": "code",
   "execution_count": null,
   "metadata": {},
   "outputs": [],
   "source": [
    "# join to wins and weather"
   ]
  },
  {
   "cell_type": "code",
   "execution_count": null,
   "metadata": {},
   "outputs": [],
   "source": []
  },
  {
   "cell_type": "code",
   "execution_count": null,
   "metadata": {},
   "outputs": [],
   "source": []
  },
  {
   "cell_type": "code",
   "execution_count": null,
   "metadata": {},
   "outputs": [],
   "source": []
  },
  {
   "cell_type": "code",
   "execution_count": null,
   "metadata": {},
   "outputs": [],
   "source": []
  }
 ],
 "metadata": {
  "interpreter": {
   "hash": "3a43bb2130da62e510b6deb5b70c41805cc35ae17b37dc3ba4dc246d66510bd5"
  },
  "kernelspec": {
   "display_name": "Python 3.8.3 ('base')",
   "language": "python",
   "name": "python3"
  },
  "language_info": {
   "codemirror_mode": {
    "name": "ipython",
    "version": 3
   },
   "file_extension": ".py",
   "mimetype": "text/x-python",
   "name": "python",
   "nbconvert_exporter": "python",
   "pygments_lexer": "ipython3",
   "version": "3.8.3"
  },
  "orig_nbformat": 4
 },
 "nbformat": 4,
 "nbformat_minor": 2
}
